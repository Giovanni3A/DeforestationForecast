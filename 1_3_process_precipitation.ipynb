{
 "cells": [
  {
   "cell_type": "markdown",
   "metadata": {},
   "source": [
    "Notebook for read and wrangle of precipitation historical data"
   ]
  },
  {
   "cell_type": "markdown",
   "metadata": {},
   "source": [
    "# Prepare environment"
   ]
  },
  {
   "cell_type": "code",
   "execution_count": 1,
   "metadata": {},
   "outputs": [],
   "source": [
    "import os\n",
    "import pandas as pd\n",
    "\n",
    "import geopandas as gpd\n",
    "import rioxarray as rxr\n",
    "\n",
    "from tqdm import tqdm"
   ]
  },
  {
   "cell_type": "code",
   "execution_count": 2,
   "metadata": {},
   "outputs": [],
   "source": [
    "import config\n",
    "from utils import compute_frames\n",
    "\n",
    "import warnings\n",
    "warnings.filterwarnings('ignore')"
   ]
  },
  {
   "cell_type": "markdown",
   "metadata": {},
   "source": [
    "# Data reading"
   ]
  },
  {
   "cell_type": "code",
   "execution_count": 3,
   "metadata": {},
   "outputs": [],
   "source": [
    "# load legal amazon limits\n",
    "am_bounds = gpd.read_file(config.AMAZON_FRONTIER_DATA)"
   ]
  },
  {
   "cell_type": "code",
   "execution_count": 4,
   "metadata": {},
   "outputs": [],
   "source": [
    "# load frames idx detail\n",
    "frames_idx = pd.read_csv(config.TR_FRAMES_IDX, index_col=0)"
   ]
  },
  {
   "cell_type": "code",
   "execution_count": 5,
   "metadata": {},
   "outputs": [],
   "source": [
    "# compute all frames\n",
    "frames = compute_frames(\n",
    "    am_bounds.total_bounds, \n",
    "    config.BOX_SIDE, \n",
    "    frames_idx[\"x\"].min(), \n",
    "    frames_idx[\"x\"].max(), \n",
    "    frames_idx[\"y\"].min(), \n",
    "    frames_idx[\"y\"].max()\n",
    ")"
   ]
  },
  {
   "cell_type": "code",
   "execution_count": 6,
   "metadata": {},
   "outputs": [],
   "source": [
    "# function to compute frames precipitation from tif file\n",
    "def join_precip_frames(precip_df: pd.DataFrame):\n",
    "    \n",
    "    # tranform into geodataframe\n",
    "    precip = gpd.GeoDataFrame(\n",
    "        precip_df, geometry=gpd.points_from_xy(df.x, df.y), crs=\"EPSG:4326\"\n",
    "    ).drop([\"x\", \"y\"], axis=1)\n",
    "\n",
    "    # join\n",
    "    precip_frames = gpd.sjoin(precip, frames, how=\"inner\", op='within')\n",
    "    \n",
    "    return precip_frames\\\n",
    "        .groupby(\"frame_id\")[\"precipitation\"].mean()\\\n",
    "        .reset_index()"
   ]
  },
  {
   "cell_type": "code",
   "execution_count": 7,
   "metadata": {},
   "outputs": [
    {
     "name": "stderr",
     "output_type": "stream",
     "text": [
      "100%|██████████| 28/28 [15:05<00:00, 32.33s/it]\n"
     ]
    }
   ],
   "source": [
    "# compute precipitations by quarter (file)\n",
    "timeseries_precipitations = []\n",
    "for f in tqdm(os.listdir(config.RAIN_DATA)):\n",
    "\n",
    "    # read file into pandas format\n",
    "    dataarray = rxr.open_rasterio(os.path.join(config.RAIN_DATA, f))\n",
    "    df = dataarray[0].to_pandas()\n",
    "    df = pd.melt(df, ignore_index=False)\\\n",
    "        .reset_index()\\\n",
    "        .dropna()\\\n",
    "        .rename(columns={\"value\": \"precipitation\"})\n",
    "    # filter out zeros\n",
    "    df = df[df[\"precipitation\"] > 0]\n",
    "\n",
    "    # join with frames and add data\n",
    "    precip_frames = join_precip_frames(df)\n",
    "    precip_frames[\"dt\"] = pd.to_datetime(f.split(\"_\")[1].split(\".\")[0])\n",
    "\n",
    "    # append to time varying list\n",
    "    timeseries_precipitations.append(precip_frames)"
   ]
  },
  {
   "cell_type": "code",
   "execution_count": 8,
   "metadata": {},
   "outputs": [],
   "source": [
    "# concat quarters\n",
    "timeseries_precipitations = pd.concat(timeseries_precipitations)\n",
    "\n",
    "# save as csv file\n",
    "timeseries_precipitations.to_csv(config.TR_RAIN_AVG, index=False)"
   ]
  }
 ],
 "metadata": {
  "kernelspec": {
   "display_name": "Python 3 (ipykernel)",
   "language": "python",
   "name": "python3"
  },
  "language_info": {
   "codemirror_mode": {
    "name": "ipython",
    "version": 3
   },
   "file_extension": ".py",
   "mimetype": "text/x-python",
   "name": "python",
   "nbconvert_exporter": "python",
   "pygments_lexer": "ipython3",
   "version": "3.10.11"
  }
 },
 "nbformat": 4,
 "nbformat_minor": 4
}
