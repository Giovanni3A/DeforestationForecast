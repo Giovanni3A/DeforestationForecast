{
 "cells": [
  {
   "cell_type": "code",
   "execution_count": 1,
   "metadata": {},
   "outputs": [],
   "source": [
    "import torch\n",
    "import numpy as np\n",
    "import pandas as pd\n",
    "from tqdm import tqdm\n",
    "from sklearn.metrics import f1_score\n",
    "import torch.nn as nn\n",
    "from dataloader import load_data, CustomDataset\n",
    "from model import init_model, train"
   ]
  },
  {
   "cell_type": "code",
   "execution_count": 20,
   "metadata": {},
   "outputs": [],
   "source": [
    "# setup logger\n",
    "import logging\n",
    "from datetime import datetime\n",
    "logfile = f\"FeatureSelection_{datetime.now().strftime('%Y%m%d%H%M%S')}.log\"\n",
    "handler = logging.FileHandler(logfile)\n",
    "handler.setFormatter(logging.Formatter(\"%(asctime)s.%(msecs)03d %(levelname)s %(module)s - %(funcName)s: %(message)s\"))\n",
    "logger = logging.getLogger(\"logger\")\n",
    "logger.setLevel(logging.INFO)\n",
    "logger.addHandler(handler)"
   ]
  },
  {
   "cell_type": "code",
   "execution_count": 2,
   "metadata": {},
   "outputs": [
    {
     "name": "stderr",
     "output_type": "stream",
     "text": [
      "Creating counties defor time grid: 28it [00:03,  7.04it/s]\n",
      "Creating precipitations time grid: 28it [00:03,  8.26it/s]\n",
      "Creating scores time grid: 28it [00:00, 34.45it/s]\n",
      "Creating night lights time grid: 28it [00:06,  4.24it/s]\n",
      "Creating sentinel time grid: 28it [00:03,  8.49it/s]\n",
      "Computing patches: 100%|██████████| 32/32 [00:20<00:00,  1.58it/s]\n"
     ]
    }
   ],
   "source": [
    "# load all data\n",
    "(\n",
    "    train_data, val_data, test_data,\n",
    "    patches, frames_idx, \n",
    "    county_data,\n",
    "    counties_time_grid,\n",
    "    precip_time_grid,\n",
    "    tpi_array,\n",
    "    landcover_array,\n",
    "    scores_time_grid,\n",
    "    night_time_grid,\n",
    "    sentinel_time_grid\n",
    ") = load_data()"
   ]
  },
  {
   "cell_type": "code",
   "execution_count": 3,
   "metadata": {},
   "outputs": [],
   "source": [
    "def generate_dataloaders(channels):\n",
    "    trainloader = torch.utils.data.DataLoader(\n",
    "        CustomDataset(\n",
    "            train_data, \n",
    "            patches, \n",
    "            frames_idx, \n",
    "            county_data,\n",
    "            counties_time_grid,\n",
    "            precip_time_grid,\n",
    "            tpi_array,\n",
    "            landcover_array,\n",
    "            scores_time_grid,\n",
    "            night_time_grid,\n",
    "            sentinel_time_grid,\n",
    "            channels\n",
    "        ),\n",
    "        batch_size=64,\n",
    "        shuffle=True\n",
    "    )\n",
    "\n",
    "    valloader = torch.utils.data.DataLoader(\n",
    "        CustomDataset(\n",
    "            val_data, \n",
    "            patches, \n",
    "            frames_idx, \n",
    "            county_data,\n",
    "            counties_time_grid,\n",
    "            precip_time_grid,\n",
    "            tpi_array,\n",
    "            landcover_array,\n",
    "            scores_time_grid,\n",
    "            night_time_grid,\n",
    "            sentinel_time_grid,\n",
    "            channels\n",
    "        ),\n",
    "        batch_size=1000,\n",
    "        shuffle=True\n",
    "    )\n",
    "    return trainloader, valloader"
   ]
  },
  {
   "cell_type": "code",
   "execution_count": 21,
   "metadata": {},
   "outputs": [],
   "source": [
    "treshold_range = [29, 30]  # range(20, 40)\n",
    "\n",
    "def evaluate_predictions(model, dataloader, treshold=None):\n",
    "    # softmax function will be needed\n",
    "    softmax_ = nn.Softmax(dim=1)\n",
    "    # get prediction values as binary\n",
    "    y_true = []\n",
    "    y_pred = []\n",
    "    for inputs, labels in dataloader:\n",
    "        y_hat = model(inputs).detach()\n",
    "        y_true.append(labels[:, 1, :, :].cpu())\n",
    "        y_pred.append(softmax_(y_hat)[:, 1, :, :].cpu())\n",
    "    # flatten\n",
    "    y_true = np.concatenate(y_true).flatten() \n",
    "    y_pred = np.concatenate(y_pred).flatten()\n",
    "    if treshold is None:\n",
    "        # select probability treshold\n",
    "        scores = []\n",
    "        for p_treshold in tqdm(treshold_range, desc=\"Testing treshold values\"):\n",
    "            pt = p_treshold / 100\n",
    "            scores.append((\n",
    "                pt, \n",
    "                f1_score(\n",
    "                    y_true, \n",
    "                    y_pred > pt\n",
    "                )\n",
    "            ))\n",
    "        # sort by score and get from best treshold\n",
    "        scores.sort(key=lambda i: i[1])\n",
    "        best = scores[-1]\n",
    "        print(\"Best treshold / score:\", best)\n",
    "        return best\n",
    "    else:\n",
    "        score = f1_score(\n",
    "            y_true, \n",
    "            y_pred > treshold\n",
    "        )\n",
    "        print(\"Score:\", score)\n",
    "        return score"
   ]
  },
  {
   "cell_type": "code",
   "execution_count": 22,
   "metadata": {},
   "outputs": [],
   "source": [
    "# number of epochs to train each model\n",
    "n_epochs = 1\n",
    "\n",
    "# list of all available channels\n",
    "all_channels = list(range(6))"
   ]
  },
  {
   "cell_type": "code",
   "execution_count": 23,
   "metadata": {},
   "outputs": [],
   "source": [
    "\n",
    "def run_selection_iteration(channels):\n",
    "    # train model with defined starting channels\n",
    "    print(f\"\\nEvaluating starting model:\")\n",
    "    trainloader, valloader = generate_dataloaders(channels)\n",
    "    model, optimizer = init_model(len(channels))\n",
    "    train(model, optimizer, n_epochs, trainloader, valloader)\n",
    "    # basic_train_err = np.mean([i[0].cpu() for i in model.errs[-3:]])\n",
    "    # basic_val_err = np.mean([i[1].cpu() for i in model.errs[-3:]])\n",
    "    # basic_error = (basic_train_err, basic_val_err)\n",
    "    # evaluate errors and estimate optimal treshold\n",
    "    treshold, basic_train_score = evaluate_predictions(model, trainloader, treshold=None)\n",
    "    basic_val_score = evaluate_predictions(model, valloader, treshold)\n",
    "    basic_score = (basic_train_score, basic_val_score)\n",
    "    logger.info(f\"Basic scores: {basic_score}\")\n",
    "\n",
    "    # train model for other channels and save performance\n",
    "    # c_errors = []\n",
    "    c_scores = []\n",
    "    for c in all_channels:\n",
    "        if not(c in channels):\n",
    "            print(f\"\\nStarting evaluation of additional feature ({c}):\")\n",
    "            logger.info(f\"Starting evaluation of additional feature ({c})\")\n",
    "            c_trainloader, c_valloader = generate_dataloaders(channels+[c])\n",
    "            c_model, c_optimizer = init_model(len(channels)+1)\n",
    "            train(c_model, c_optimizer, n_epochs, c_trainloader, c_valloader)\n",
    "            # avg_train_err = np.mean([i[0].cpu() for i in c_model.errs[-3:]])\n",
    "            # avg_val_err = np.mean([i[1].cpu() for i in c_model.errs[-3:]])\n",
    "            # c_errors.append((c, avg_train_err, avg_val_err))\n",
    "            c_treshold, c_train_score = evaluate_predictions(c_model, c_trainloader, treshold=None)\n",
    "            c_val_score = evaluate_predictions(c_model, c_valloader, c_treshold)\n",
    "            c_scores.append((c, c_train_score, c_val_score))\n",
    "            logger.info(f\"Best treshold: {c_treshold}\")\n",
    "            logger.info(f\"Train score: {c_train_score}\")\n",
    "            logger.info(f\"Validation score: {c_val_score}\")\n",
    "\n",
    "    # get new channel that decreases (validation) loss the most\n",
    "    # best_decrease = 0\n",
    "    best_increase = 0\n",
    "    best_channel = None\n",
    "    # best_errors = None\n",
    "    best_scores = None\n",
    "    for (c, score_train, score_val) in c_scores:\n",
    "        # decrease = float(basic_error[1] - err_val)\n",
    "        increase = float(score_val - basic_val_score)\n",
    "        if increase > best_increase:\n",
    "            # best_decrease = decrease\n",
    "            best_increase = increase\n",
    "            best_channel = c\n",
    "            # best_errors = (err_train, err_val)\n",
    "            best_scores = (score_train, score_val)\n",
    "        \n",
    "    return best_channel, basic_score, best_scores"
   ]
  },
  {
   "cell_type": "code",
   "execution_count": 24,
   "metadata": {},
   "outputs": [],
   "source": [
    "# start with basic features\n",
    "channels = [0, 1, 2, 3]"
   ]
  },
  {
   "cell_type": "code",
   "execution_count": 25,
   "metadata": {},
   "outputs": [
    {
     "name": "stdout",
     "output_type": "stream",
     "text": [
      "\n",
      "\n",
      " Selection loop iteration 1 | Channels: [0, 1, 2, 3]\n",
      "\n",
      "Evaluating starting model:\n",
      "\n",
      "Epoch 1\n"
     ]
    },
    {
     "name": "stderr",
     "output_type": "stream",
     "text": [
      "100%|██████████| 54/54 [00:12<00:00,  4.39it/s]\n"
     ]
    },
    {
     "name": "stdout",
     "output_type": "stream",
     "text": [
      "Epoch 1: Train Loss = 0.020667 | Validation Loss = 0.008864\n"
     ]
    },
    {
     "name": "stderr",
     "output_type": "stream",
     "text": [
      "Testing treshold values: 100%|██████████| 2/2 [00:08<00:00,  4.22s/it]\n"
     ]
    },
    {
     "name": "stdout",
     "output_type": "stream",
     "text": [
      "Best treshold / score: (0.3, 0.035106351003396416)\n",
      "Score: 0.055720675546484986\n",
      "\n",
      "Starting evaluation of additional feature (4):\n",
      "\n",
      "Epoch 1\n"
     ]
    },
    {
     "name": "stderr",
     "output_type": "stream",
     "text": [
      "100%|██████████| 54/54 [00:12<00:00,  4.40it/s]\n"
     ]
    },
    {
     "name": "stdout",
     "output_type": "stream",
     "text": [
      "Epoch 1: Train Loss = 0.013430 | Validation Loss = 0.006370\n"
     ]
    },
    {
     "name": "stderr",
     "output_type": "stream",
     "text": [
      "Testing treshold values: 100%|██████████| 2/2 [00:08<00:00,  4.26s/it]\n"
     ]
    },
    {
     "name": "stdout",
     "output_type": "stream",
     "text": [
      "Best treshold / score: (0.29, 0.032940068691895114)\n",
      "Score: 0.04990951192221995\n",
      "\n",
      "Starting evaluation of additional feature (5):\n",
      "\n",
      "Epoch 1\n"
     ]
    },
    {
     "name": "stderr",
     "output_type": "stream",
     "text": [
      "100%|██████████| 54/54 [00:12<00:00,  4.39it/s]\n"
     ]
    },
    {
     "name": "stdout",
     "output_type": "stream",
     "text": [
      "Epoch 1: Train Loss = 0.013099 | Validation Loss = 0.006234\n"
     ]
    },
    {
     "name": "stderr",
     "output_type": "stream",
     "text": [
      "Testing treshold values: 100%|██████████| 2/2 [00:08<00:00,  4.28s/it]\n"
     ]
    },
    {
     "name": "stdout",
     "output_type": "stream",
     "text": [
      "Best treshold / score: (0.29, 0.034085122098986224)\n",
      "Score: 0.0526644082820204\n",
      "\n",
      "Final channels results: [0, 1, 2, 3]\n"
     ]
    }
   ],
   "source": [
    "# main selection loop\n",
    "iter = 1\n",
    "errors_hist = []\n",
    "while True:\n",
    "    print(f\"\\n\\n Selection loop iteration {iter} | Channels: {channels}\")\n",
    "    logger.info(f\"Selection loop iteration {iter} | Initial channels: {channels}\")\n",
    "    new_channel, starting_scores, final_scores = run_selection_iteration(channels)\n",
    "    errors_hist.append((starting_scores, final_scores))\n",
    "    if new_channel is None:\n",
    "        logger.info(\"New iteration didn't find any channel that would increase model score\")\n",
    "        logger.info(f\"Final channels: {channels}\")\n",
    "        break\n",
    "    else:\n",
    "        logger.info(f\"New channel added: {new_channel} ({starting_scores} -> {final_scores})\")\n",
    "        channels.append(new_channel)\n",
    "    iter += 1\n",
    "\n",
    "print(\"\\nFinal channels results:\", channels)"
   ]
  },
  {
   "cell_type": "code",
   "execution_count": null,
   "metadata": {},
   "outputs": [],
   "source": [
    "# save results to file\n",
    "errors_hist_df = []\n",
    "for (e1, e2) in errors_hist:\n",
    "    i = [float(e1[0]), float(e1[1])]\n",
    "    if e2 is not None:\n",
    "        i = i + [float(e2[0]), float(e2[1])]\n",
    "    else:\n",
    "        i = i + [np.nan, np.nan]\n",
    "    errors_hist_df.append(i)\n",
    "errors_hist_df = pd.DataFrame(\n",
    "    errors_hist_df, \n",
    "    columns=[\"base_train\", \"base_val\", \"improved_train\", \"improved_val\"]\n",
    ")\n",
    "errors_hist_df.to_csv(\"scores_history.csv\", index=False)"
   ]
  },
  {
   "cell_type": "code",
   "execution_count": null,
   "metadata": {},
   "outputs": [],
   "source": [
    "print(\"Final channels results:\", channels)"
   ]
  }
 ],
 "metadata": {
  "kernelspec": {
   "display_name": "base",
   "language": "python",
   "name": "python3"
  },
  "language_info": {
   "codemirror_mode": {
    "name": "ipython",
    "version": 3
   },
   "file_extension": ".py",
   "mimetype": "text/x-python",
   "name": "python",
   "nbconvert_exporter": "python",
   "pygments_lexer": "ipython3",
   "version": "3.11.5"
  }
 },
 "nbformat": 4,
 "nbformat_minor": 2
}
