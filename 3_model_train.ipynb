{
 "cells": [
  {
   "cell_type": "code",
   "execution_count": 1,
   "metadata": {},
   "outputs": [],
   "source": [
    "import os\n",
    "import pickle\n",
    "import numpy as np\n",
    "import pandas as pd\n",
    "import geopandas as gpd\n",
    "from tqdm import tqdm\n",
    "\n",
    "import matplotlib.pyplot as plt\n",
    "import seaborn as sns\n",
    "\n",
    "import config\n",
    "from utils import compute_frames"
   ]
  },
  {
   "cell_type": "code",
   "execution_count": 2,
   "metadata": {},
   "outputs": [],
   "source": [
    "import torch\n",
    "from torch.utils.data import Dataset"
   ]
  },
  {
   "cell_type": "markdown",
   "metadata": {},
   "source": [
    "# History dataset generation"
   ]
  },
  {
   "cell_type": "code",
   "execution_count": 3,
   "metadata": {},
   "outputs": [],
   "source": [
    "# load legal amazon limits\n",
    "am_bounds = gpd.read_file(config.AMAZON_FRONTIER_DATA)"
   ]
  },
  {
   "cell_type": "code",
   "execution_count": 4,
   "metadata": {},
   "outputs": [],
   "source": [
    "# load frames idx detail\n",
    "frames_idx = pd.read_csv(config.TR_FRAMES_IDX, index_col=0)"
   ]
  },
  {
   "cell_type": "code",
   "execution_count": 5,
   "metadata": {},
   "outputs": [],
   "source": [
    "# load frames deforestation area history\n",
    "deforestation = pd.read_csv(config.TR_DEFORESTATION, index_col=0)\n",
    "deforestation[\"quarter_date\"] = pd.to_datetime(deforestation[\"quarter_date\"])"
   ]
  },
  {
   "cell_type": "code",
   "execution_count": 6,
   "metadata": {},
   "outputs": [],
   "source": [
    "# counties\n",
    "frames_county = pd.read_csv(config.TR_COUNTIES, index_col=0)\n",
    "counties_defor = pd.read_csv(config.TR_COUNTIES_DEFOR, index_col=0)"
   ]
  },
  {
   "cell_type": "code",
   "execution_count": 7,
   "metadata": {},
   "outputs": [],
   "source": [
    "# precipitations\n",
    "precip = pd.read_csv(config.TR_RAIN_AVG)\n",
    "precip[\"quarter_date\"] = pd.to_datetime(precip[\"dt\"])"
   ]
  },
  {
   "cell_type": "code",
   "execution_count": 8,
   "metadata": {},
   "outputs": [],
   "source": [
    "# terrain position index\n",
    "tpi = pd.read_csv(config.TR_TPI, skiprows=1)\\\n",
    "    .rename(columns={\"Unnamed: 0\": \"frame_id\"})"
   ]
  },
  {
   "cell_type": "code",
   "execution_count": 9,
   "metadata": {},
   "outputs": [],
   "source": [
    "# land cover\n",
    "landcover = pd.read_csv(config.TR_LANDCOVER)\n",
    "landcover = pd.pivot_table(\n",
    "    landcover, \n",
    "    index=[\"frame_id\"], \n",
    "    columns=[\"landcover\"], \n",
    "    values=\"geometry\", \n",
    "    aggfunc=\"sum\"\n",
    ").fillna(0).astype(int)\n",
    "# convert to percentage\n",
    "sum_by_frame = landcover.sum(axis=1)\n",
    "for col in landcover.columns:\n",
    "    landcover[col] = landcover[col] / sum_by_frame"
   ]
  },
  {
   "cell_type": "markdown",
   "metadata": {},
   "source": [
    "## Create grid"
   ]
  },
  {
   "cell_type": "code",
   "execution_count": 10,
   "metadata": {},
   "outputs": [],
   "source": [
    "# create limits history grid\n",
    "time_grid = np.zeros((len(config.TIME_STEPS), frames_idx[\"x\"].max() - frames_idx[\"x\"].min() + 1, frames_idx[\"y\"].max() - frames_idx[\"y\"].min() + 1))\n",
    "for t, dt in enumerate(config.TIME_STEPS):\n",
    "    defor_area = (\n",
    "        deforestation[\n",
    "            deforestation[\"quarter_date\"] == dt\n",
    "        ].set_index(\"frame_id\")[\"area\"] +\\\n",
    "        pd.Series(0, index=frames_idx.index)\n",
    "    ).fillna(0).sort_index()\n",
    "    time_grid[t, :, :] = defor_area.values.reshape(time_grid[0, :, :].shape)"
   ]
  },
  {
   "cell_type": "code",
   "execution_count": 11,
   "metadata": {},
   "outputs": [
    {
     "data": {
      "text/plain": [
       "(28, 1002, 778)"
      ]
     },
     "execution_count": 11,
     "metadata": {},
     "output_type": "execute_result"
    }
   ],
   "source": [
    "time_grid.shape"
   ]
  },
  {
   "cell_type": "markdown",
   "metadata": {},
   "source": [
    "# Counties data"
   ]
  },
  {
   "cell_type": "markdown",
   "metadata": {},
   "source": [
    "## Population and density"
   ]
  },
  {
   "cell_type": "code",
   "execution_count": 12,
   "metadata": {},
   "outputs": [],
   "source": [
    "county_data = np.zeros((2, frames_idx[\"x\"].max() - frames_idx[\"x\"].min() + 1, frames_idx[\"y\"].max() - frames_idx[\"y\"].min() + 1))\n",
    "county_data[0] = (\n",
    "    frames_county.set_index(\"frame_id\")[\"populacao\"] +\\\n",
    "    pd.Series(0, index=frames_idx.index)\n",
    ").fillna(0).\\\n",
    "    values.reshape(county_data.shape[1:])\n",
    "\n",
    "county_data[1] = (\n",
    "    frames_county.set_index(\"frame_id\")[\"densidade\"] +\\\n",
    "    pd.Series(0, index=frames_idx.index)\n",
    ").fillna(0).\\\n",
    "    values.reshape(county_data.shape[1:])"
   ]
  },
  {
   "cell_type": "markdown",
   "metadata": {},
   "source": [
    "## Deforestation"
   ]
  },
  {
   "cell_type": "code",
   "execution_count": 13,
   "metadata": {},
   "outputs": [],
   "source": [
    "frames_counties_defor = pd.merge(\n",
    "    counties_defor,\n",
    "    frames_county[[\"frame_id\", \"county_id\"]],\n",
    "    on=\"county_id\",\n",
    "    how=\"right\"\n",
    ")\n",
    "frames_counties_defor[\"quarter_date\"] = pd.to_datetime(frames_counties_defor[\"quarter_date\"])"
   ]
  },
  {
   "cell_type": "code",
   "execution_count": 14,
   "metadata": {},
   "outputs": [
    {
     "name": "stderr",
     "output_type": "stream",
     "text": [
      "0it [00:00, ?it/s]"
     ]
    },
    {
     "name": "stderr",
     "output_type": "stream",
     "text": [
      "28it [00:10,  2.68it/s]\n"
     ]
    }
   ],
   "source": [
    "# create limits history grid\n",
    "counties_time_grid = np.zeros((len(config.TIME_STEPS), frames_idx[\"x\"].max() - frames_idx[\"x\"].min() + 1, frames_idx[\"y\"].max() - frames_idx[\"y\"].min() + 1))\n",
    "for t, dt in tqdm(enumerate(config.TIME_STEPS)):\n",
    "    defor_area = (\n",
    "        frames_counties_defor[\n",
    "            frames_counties_defor[\"quarter_date\"] == dt\n",
    "        ].set_index(\"frame_id\")[\"area\"] +\\\n",
    "        pd.Series(0, index=frames_idx.index)\n",
    "    ).fillna(0).sort_index()\n",
    "    counties_time_grid[t, :, :] = defor_area.values.reshape(counties_time_grid[0, :, :].shape)"
   ]
  },
  {
   "cell_type": "code",
   "execution_count": 15,
   "metadata": {},
   "outputs": [
    {
     "data": {
      "text/plain": [
       "(28, 1002, 778)"
      ]
     },
     "execution_count": 15,
     "metadata": {},
     "output_type": "execute_result"
    }
   ],
   "source": [
    "counties_time_grid.shape"
   ]
  },
  {
   "cell_type": "markdown",
   "metadata": {},
   "source": [
    "# Precipitations"
   ]
  },
  {
   "cell_type": "code",
   "execution_count": 16,
   "metadata": {},
   "outputs": [
    {
     "name": "stderr",
     "output_type": "stream",
     "text": [
      "1it [00:00,  3.44it/s]"
     ]
    },
    {
     "name": "stderr",
     "output_type": "stream",
     "text": [
      "28it [00:07,  3.85it/s]\n"
     ]
    }
   ],
   "source": [
    "# create limits history grid\n",
    "precip_time_grid = np.zeros((len(config.TIME_STEPS), frames_idx[\"x\"].max() - frames_idx[\"x\"].min() + 1, frames_idx[\"y\"].max() - frames_idx[\"y\"].min() + 1))\n",
    "for t, dt in tqdm(enumerate(config.TIME_STEPS)):\n",
    "    precip_sum = (\n",
    "        precip[\n",
    "            precip[\"quarter_date\"] == dt\n",
    "        ].set_index(\"frame_id\")[\"precipitation\"] +\\\n",
    "        pd.Series(0, index=frames_idx.index)\n",
    "    ).fillna(0).sort_index()\n",
    "    precip_time_grid[t, :, :] = precip_sum.values.reshape(counties_time_grid[0, :, :].shape)"
   ]
  },
  {
   "cell_type": "code",
   "execution_count": 17,
   "metadata": {},
   "outputs": [
    {
     "data": {
      "text/plain": [
       "(28, 1002, 778)"
      ]
     },
     "execution_count": 17,
     "metadata": {},
     "output_type": "execute_result"
    }
   ],
   "source": [
    "precip_time_grid.shape"
   ]
  },
  {
   "cell_type": "markdown",
   "metadata": {},
   "source": [
    "# Terrain Position Index"
   ]
  },
  {
   "cell_type": "code",
   "execution_count": 18,
   "metadata": {},
   "outputs": [],
   "source": [
    "cols = [\"mean\", \"min\", \"max\", \"std\"]\n",
    "tpi_array = np.zeros((len(cols), frames_idx[\"x\"].max() - frames_idx[\"x\"].min() + 1, frames_idx[\"y\"].max() - frames_idx[\"y\"].min() + 1))\n",
    "for icol, col in enumerate(cols):\n",
    "    v = (\n",
    "        tpi.set_index(\"frame_id\")[col] +\\\n",
    "        pd.Series(0, index=frames_idx.index)\n",
    "    ).fillna(0).sort_index()\n",
    "    tpi_array[icol, :, :] = v.values.reshape(tpi_array[0, :, :].shape)"
   ]
  },
  {
   "cell_type": "code",
   "execution_count": 19,
   "metadata": {},
   "outputs": [
    {
     "data": {
      "text/plain": [
       "(4, 1002, 778)"
      ]
     },
     "execution_count": 19,
     "metadata": {},
     "output_type": "execute_result"
    }
   ],
   "source": [
    "tpi_array.shape"
   ]
  },
  {
   "cell_type": "markdown",
   "metadata": {},
   "source": [
    "# Land Cover"
   ]
  },
  {
   "cell_type": "code",
   "execution_count": 30,
   "metadata": {},
   "outputs": [],
   "source": [
    "landcover_categories = [[20], [40, 50], [180]]\n",
    "landcover_array = np.zeros((len(landcover_categories), frames_idx[\"x\"].max() - frames_idx[\"x\"].min() + 1, frames_idx[\"y\"].max() - frames_idx[\"y\"].min() + 1))\n",
    "for i, cols in enumerate(landcover_categories):\n",
    "    v = (\n",
    "        landcover[cols].sum(axis=1) +\\\n",
    "        pd.Series(0, index=frames_idx.index)\n",
    "    ).fillna(0).sort_index()\n",
    "    landcover_array[i, :, :] = v.values.reshape(landcover_array[0, :, :].shape)"
   ]
  },
  {
   "cell_type": "code",
   "execution_count": 37,
   "metadata": {},
   "outputs": [
    {
     "data": {
      "text/plain": [
       "(3, 1002, 778)"
      ]
     },
     "execution_count": 37,
     "metadata": {},
     "output_type": "execute_result"
    }
   ],
   "source": [
    "landcover_array.shape"
   ]
  },
  {
   "cell_type": "markdown",
   "metadata": {},
   "source": [
    "# Compute frame patches\n",
    "\n",
    "A patch is squared set of unitary frames. The patch formation process consists in iterating through the full image on both axis computing the frames corresponding to each iteration."
   ]
  },
  {
   "cell_type": "code",
   "execution_count": 38,
   "metadata": {},
   "outputs": [
    {
     "name": "stderr",
     "output_type": "stream",
     "text": [
      "100%|██████████| 32/32 [00:05<00:00,  6.32it/s]\n"
     ]
    }
   ],
   "source": [
    "out_condition = \"borders\"  # deforestation | borders\n",
    "\n",
    "bundle_step = 32\n",
    "patches = []\n",
    "for ix in tqdm(list(range(frames_idx[\"x\"].min(), frames_idx[\"x\"].max()+1, bundle_step))):\n",
    "    fx = ix + config.INPUT_BOXES_SIZE\n",
    "    for iy in range(frames_idx[\"y\"].min(), frames_idx[\"y\"].max()+1, bundle_step):\n",
    "        fy = iy + config.INPUT_BOXES_SIZE\n",
    "\n",
    "        iframes = frames_idx[\n",
    "            (frames_idx[\"x\"] >= ix) & \n",
    "            (frames_idx[\"x\"] < fx) &\n",
    "            (frames_idx[\"y\"] >= iy) &\n",
    "            (frames_idx[\"y\"] < fy)\n",
    "        ]\n",
    "        \n",
    "        if out_condition == \"borders\":\n",
    "            if iframes[\"in_borders\"].mean() >= 0.5:  # condition: bundle has to be at least half inside borders\n",
    "                patches.append(iframes.index)\n",
    "                \n",
    "        elif out_condition == \"deforestation\":\n",
    "            out_of_borders_frames = len(set(iframes.index) - set(deforestation[\"frame_id\"].values))\n",
    "            if out_of_borders_frames < len(iframes):  # condition: bundle has to contain  some deforestation\n",
    "                patches.append(iframes.index)        "
   ]
  },
  {
   "cell_type": "code",
   "execution_count": 39,
   "metadata": {},
   "outputs": [],
   "source": [
    "# remove patches that represent reduced regions\n",
    "patches = [b for b in patches if (len(b)==len(patches[0]))]"
   ]
  },
  {
   "cell_type": "code",
   "execution_count": 40,
   "metadata": {},
   "outputs": [
    {
     "data": {
      "text/plain": [
       "441"
      ]
     },
     "execution_count": 40,
     "metadata": {},
     "output_type": "execute_result"
    }
   ],
   "source": [
    "len(patches)"
   ]
  },
  {
   "cell_type": "code",
   "execution_count": 41,
   "metadata": {},
   "outputs": [
    {
     "data": {
      "text/plain": [
       "Index([  288,   289,   290,   291,   292,   293,   294,   295,   296,   297,\n",
       "       ...\n",
       "       49356, 49357, 49358, 49359, 49360, 49361, 49362, 49363, 49364, 49365],\n",
       "      dtype='int64', length=4096)"
      ]
     },
     "execution_count": 41,
     "metadata": {},
     "output_type": "execute_result"
    }
   ],
   "source": [
    "patches[0]"
   ]
  },
  {
   "cell_type": "code",
   "execution_count": 42,
   "metadata": {},
   "outputs": [],
   "source": [
    "# generate region and check which patches intersect\n",
    "region = compute_frames(am_bounds.total_bounds, config.BOX_SIDE, 200, 300, 500, 600)"
   ]
  },
  {
   "cell_type": "code",
   "execution_count": 43,
   "metadata": {},
   "outputs": [
    {
     "name": "stdout",
     "output_type": "stream",
     "text": [
      "41\n"
     ]
    },
    {
     "name": "stdout",
     "output_type": "stream",
     "text": [
      "42\n",
      "43\n",
      "44\n",
      "45\n",
      "53\n",
      "54\n",
      "55\n",
      "56\n",
      "57\n"
     ]
    },
    {
     "data": {
      "image/png": "[encoded data removed]",
      "text/plain": [
       "<Figure size 640x480 with 1 Axes>"
      ]
     },
     "metadata": {},
     "output_type": "display_data"
    }
   ],
   "source": [
    "fig, ax = plt.subplots()\n",
    "am_bounds.boundary.plot(ax=ax, color=\"black\")\n",
    "j = 0\n",
    "for i, b in enumerate(patches):\n",
    "    int_b = region[region[\"frame_id\"].isin(b)]\n",
    "    if len(int_b) > 0:\n",
    "        int_b.plot(ax=ax, color=sns.color_palette()[j%10], alpha=.5)\n",
    "        j+=1\n",
    "        if j > 10:\n",
    "            break\n",
    "        print(i)\n",
    "plt.show()"
   ]
  },
  {
   "cell_type": "markdown",
   "metadata": {},
   "source": [
    "# Train test split"
   ]
  },
  {
   "cell_type": "code",
   "execution_count": 44,
   "metadata": {},
   "outputs": [
    {
     "data": {
      "text/plain": [
       "(28, 1002, 778)"
      ]
     },
     "execution_count": 44,
     "metadata": {},
     "output_type": "execute_result"
    }
   ],
   "source": [
    "time_grid.shape"
   ]
  },
  {
   "cell_type": "code",
   "execution_count": 45,
   "metadata": {},
   "outputs": [],
   "source": [
    "train_time_idx = range(8,20)\n",
    "test_time_idx = range(20,28)\n",
    "\n",
    "train_data = time_grid[train_time_idx, :, :]\n",
    "test_data = time_grid[test_time_idx, :, :]"
   ]
  },
  {
   "cell_type": "markdown",
   "metadata": {},
   "source": [
    "# Data Normalization"
   ]
  },
  {
   "cell_type": "code",
   "execution_count": 46,
   "metadata": {},
   "outputs": [],
   "source": [
    "one_multiplicator_factor = (train_data <= 1e-7).sum() / (train_data > 1e-7).sum()"
   ]
  },
  {
   "cell_type": "code",
   "execution_count": 47,
   "metadata": {},
   "outputs": [],
   "source": [
    "norm_pop = (county_data[0, :, :] - np.median(county_data[0, :, :])) / 1e5\n",
    "norm_den = (county_data[1, :, :] - np.median(county_data[1, :, :])) / 30\n",
    "\n",
    "county_data[0, :, :] = norm_pop\n",
    "county_data[1, :, :] = norm_den"
   ]
  },
  {
   "cell_type": "code",
   "execution_count": 48,
   "metadata": {},
   "outputs": [],
   "source": [
    "counties_time_grid = (counties_time_grid-counties_time_grid[train_time_idx, :, :].mean()) / counties_time_grid[train_time_idx, :, :].std()"
   ]
  },
  {
   "cell_type": "code",
   "execution_count": 49,
   "metadata": {},
   "outputs": [],
   "source": [
    "precip_time_grid = (precip_time_grid-precip_time_grid[train_time_idx, :, :].mean()) / precip_time_grid[train_time_idx, :, :].std()"
   ]
  },
  {
   "cell_type": "code",
   "execution_count": 50,
   "metadata": {},
   "outputs": [],
   "source": [
    "for i in range(tpi_array.shape[0]):\n",
    "    tpi_array[i, :, :] = (tpi_array[i, :, :] - tpi_array[i, :, :].mean()) / tpi_array[i, :, :].std()"
   ]
  },
  {
   "cell_type": "markdown",
   "metadata": {},
   "source": [
    "# Loss function"
   ]
  },
  {
   "cell_type": "code",
   "execution_count": 51,
   "metadata": {},
   "outputs": [],
   "source": [
    "def WeightedBinaryCrossEntropy(target, prediction):\n",
    "    return -(one_multiplicator_factor*target*prediction.log() + (1-target)*((1-prediction).log()))"
   ]
  },
  {
   "cell_type": "markdown",
   "metadata": {},
   "source": [
    "# Dataset & Dataloaders"
   ]
  },
  {
   "cell_type": "code",
   "execution_count": 52,
   "metadata": {},
   "outputs": [
    {
     "data": {
      "text/plain": [
       "10584"
      ]
     },
     "execution_count": 52,
     "metadata": {},
     "output_type": "execute_result"
    }
   ],
   "source": [
    "len(patches) * (time_grid.shape[0] - 4)"
   ]
  },
  {
   "cell_type": "code",
   "execution_count": 53,
   "metadata": {},
   "outputs": [],
   "source": [
    "class CustomDataset(Dataset):\n",
    "    def __init__(\n",
    "        self, \n",
    "        X, \n",
    "        patches, \n",
    "        frames_idx, \n",
    "        county_data=None, \n",
    "        county_defor=None,\n",
    "        precip_data=None,\n",
    "        tpi_data=None,\n",
    "        landcover_data=None\n",
    "    ):\n",
    "        super(CustomDataset, self).__init__()\n",
    "\n",
    "        self.patches = patches\n",
    "        self.frames_idx = frames_idx\n",
    "        self.X = X\n",
    "        self.county_data = county_data\n",
    "        self.county_defor = county_defor\n",
    "        self.precip_data = precip_data\n",
    "        self.tpi_data = tpi_data\n",
    "        self.landcover_data = landcover_data\n",
    "        self.autor_window = 4\n",
    "        self.ix = frames_idx[\"x\"].min()\n",
    "        self.iy = frames_idx[\"y\"].min()\n",
    "\n",
    "    def __len__(self):\n",
    "        return len(self.patches) * (self.X.shape[0]-self.autor_window)\n",
    "\n",
    "    def __getitem__(self, index):\n",
    "\n",
    "        # get index info\n",
    "        idx_patch = index // (self.X.shape[0] - self.autor_window)\n",
    "        idx_time   = index % (self.X.shape[0] - self.autor_window)\n",
    "        idx_frames = self.frames_idx.loc[self.patches[idx_patch]]\n",
    "\n",
    "        # get input\n",
    "        input_matrix = self.X[\n",
    "            idx_time:idx_time+self.autor_window, \n",
    "            idx_frames[\"x\"].min()-self.ix:idx_frames[\"x\"].max()-self.ix+1, \n",
    "            idx_frames[\"y\"].min()-self.iy:idx_frames[\"y\"].max()-self.iy+1\n",
    "        ]\n",
    "\n",
    "        if self.county_data is not None:\n",
    "            input_matrix = np.concatenate([\n",
    "                input_matrix,\n",
    "                self.county_data[\n",
    "                    :,\n",
    "                    idx_frames[\"x\"].min()-self.ix:idx_frames[\"x\"].max()-self.ix+1, \n",
    "                    idx_frames[\"y\"].min()-self.iy:idx_frames[\"y\"].max()-self.iy+1\n",
    "                ]\n",
    "            ])\n",
    "        \n",
    "        if self.county_defor is not None:\n",
    "            input_matrix = np.concatenate([\n",
    "                input_matrix,\n",
    "                self.county_defor[\n",
    "                    idx_time:idx_time+self.autor_window,\n",
    "                    idx_frames[\"x\"].min()-self.ix:idx_frames[\"x\"].max()-self.ix+1, \n",
    "                    idx_frames[\"y\"].min()-self.iy:idx_frames[\"y\"].max()-self.iy+1\n",
    "                ]\n",
    "            ])\n",
    "        \n",
    "        if self.precip_data is not None:\n",
    "            input_matrix = np.concatenate([\n",
    "                input_matrix,\n",
    "                self.precip_data[\n",
    "                    idx_time:idx_time+self.autor_window,\n",
    "                    idx_frames[\"x\"].min()-self.ix:idx_frames[\"x\"].max()-self.ix+1, \n",
    "                    idx_frames[\"y\"].min()-self.iy:idx_frames[\"y\"].max()-self.iy+1\n",
    "                ]\n",
    "            ])\n",
    "        \n",
    "        if self.tpi_data is not None:\n",
    "            input_matrix = np.concatenate([\n",
    "                input_matrix,\n",
    "                self.tpi_data[\n",
    "                    :,\n",
    "                    idx_frames[\"x\"].min()-self.ix:idx_frames[\"x\"].max()-self.ix+1, \n",
    "                    idx_frames[\"y\"].min()-self.iy:idx_frames[\"y\"].max()-self.iy+1\n",
    "                ]\n",
    "            ])\n",
    "        \n",
    "        if self.landcover_data is not None:\n",
    "            input_matrix = np.concatenate([\n",
    "                input_matrix,\n",
    "                self.landcover_data[\n",
    "                    :,\n",
    "                    idx_frames[\"x\"].min()-self.ix:idx_frames[\"x\"].max()-self.ix+1, \n",
    "                    idx_frames[\"y\"].min()-self.iy:idx_frames[\"y\"].max()-self.iy+1\n",
    "                ]\n",
    "            ])\n",
    "        data = torch.tensor(input_matrix).float()\n",
    "\n",
    "        # get output\n",
    "        labels = torch.tensor(\n",
    "            self.X[\n",
    "                idx_time+self.autor_window, \n",
    "                idx_frames[\"x\"].min()-self.ix:idx_frames[\"x\"].max()-self.ix+1, \n",
    "                idx_frames[\"y\"].min()-self.iy:idx_frames[\"y\"].max()-self.iy+1\n",
    "            ] > 1e-7\n",
    "        ).float()\n",
    "        return data, labels"
   ]
  },
  {
   "cell_type": "code",
   "execution_count": 54,
   "metadata": {},
   "outputs": [
    {
     "data": {
      "text/plain": [
       "((12, 1002, 778), (8, 1002, 778))"
      ]
     },
     "execution_count": 54,
     "metadata": {},
     "output_type": "execute_result"
    }
   ],
   "source": [
    "train_data.shape, test_data.shape"
   ]
  },
  {
   "cell_type": "code",
   "execution_count": 55,
   "metadata": {},
   "outputs": [],
   "source": [
    "# patches_sample_train = [patches[i] for i in np.random.choice(range(len(patches)), 100, replace=False)]\n",
    "# patches_sample_test = [patches[i] for i in np.random.choice(range(len(patches)), 10, replace=False)]\n",
    "\n",
    "patches_sample_train = patches[:1]\n",
    "patches_sample_test = patches[1:2]"
   ]
  },
  {
   "cell_type": "code",
   "execution_count": 56,
   "metadata": {},
   "outputs": [],
   "source": [
    "trainloader = torch.utils.data.DataLoader(\n",
    "    CustomDataset(\n",
    "        train_data, \n",
    "        patches_sample_train, \n",
    "        frames_idx, \n",
    "        county_data,\n",
    "        counties_time_grid,\n",
    "        precip_time_grid,\n",
    "        tpi_array,\n",
    "        landcover_array\n",
    "    ),\n",
    "    batch_size=40,\n",
    "    shuffle=True\n",
    ")\n",
    "\n",
    "testloader = torch.utils.data.DataLoader(\n",
    "    CustomDataset(\n",
    "        test_data, \n",
    "        patches_sample_test, \n",
    "        frames_idx, \n",
    "        county_data,\n",
    "        counties_time_grid,\n",
    "        precip_time_grid,\n",
    "        tpi_array,\n",
    "        landcover_array\n",
    "    ),\n",
    "    batch_size=40,\n",
    "    shuffle=False\n",
    ")"
   ]
  },
  {
   "cell_type": "code",
   "execution_count": 57,
   "metadata": {},
   "outputs": [
    {
     "data": {
      "text/plain": [
       "(40, 40)"
      ]
     },
     "execution_count": 57,
     "metadata": {},
     "output_type": "execute_result"
    }
   ],
   "source": [
    "trainloader.__len__()*trainloader.batch_size, testloader.__len__()*testloader.batch_size"
   ]
  },
  {
   "cell_type": "markdown",
   "metadata": {},
   "source": [
    "# Baseline Model\n",
    "\n",
    "Just test the metrics we get when always predicting zeros."
   ]
  },
  {
   "cell_type": "code",
   "execution_count": 58,
   "metadata": {},
   "outputs": [
    {
     "name": "stdout",
     "output_type": "stream",
     "text": [
      "Baseline: Train Loss = 0.036758 | Test Loss = 0.047534\n"
     ]
    }
   ],
   "source": [
    "# baseline: all 50%\n",
    "base_train_err = 0\n",
    "for inputs, labels in trainloader:\n",
    "    y_pred = torch.tensor(0.5*np.ones(labels.shape))\n",
    "    # base_train_err -= (y_pred*labels).float().mean()\n",
    "    base_train_err += WeightedBinaryCrossEntropy(labels, y_pred).detach().float().mean()\n",
    "base_train_err = base_train_err / (len(trainloader)*trainloader.batch_size)\n",
    "    \n",
    "base_test_err = 0\n",
    "for inputs, labels in testloader:\n",
    "    y_pred = torch.tensor(0.5*np.ones(labels.shape))\n",
    "    # base_test_err -= (y_pred*labels).float().mean()\n",
    "    base_test_err += WeightedBinaryCrossEntropy(labels, y_pred).detach().float().mean()\n",
    "base_test_err = base_test_err / (len(testloader)*testloader.batch_size)\n",
    "\n",
    "print(f\"Baseline: Train Loss = {base_train_err:.6f} | Test Loss = {base_test_err:.6f}\")"
   ]
  },
  {
   "cell_type": "code",
   "execution_count": 59,
   "metadata": {},
   "outputs": [
    {
     "data": {
      "text/plain": [
       "torch.Size([4, 21, 64, 64])"
      ]
     },
     "execution_count": 59,
     "metadata": {},
     "output_type": "execute_result"
    }
   ],
   "source": [
    "inputs.shape"
   ]
  },
  {
   "cell_type": "markdown",
   "metadata": {},
   "source": [
    "# Model Implementation"
   ]
  },
  {
   "cell_type": "code",
   "execution_count": 60,
   "metadata": {},
   "outputs": [],
   "source": [
    "import torch\n",
    "import torch.nn as nn\n",
    "import torch.optim as optim\n",
    "import torchvision\n",
    "\n",
    "ks = 7\n",
    " \n",
    "class BasicConvModel(nn.Module):\n",
    "    def __init__(self):\n",
    "        super().__init__()\n",
    "        self.epoch = 0\n",
    "        self.errs = []\n",
    "\n",
    "        self.convolutional_layer = nn.Sequential(\n",
    "            nn.Conv2d(4+2+4+4+4+3, 64, kernel_size=(ks,ks), stride=1, padding=int(ks/2)),\n",
    "            nn.BatchNorm2d(64),\n",
    "            nn.ReLU(),\n",
    "            nn.Conv2d(64, 64, kernel_size=(ks,ks), stride=1, padding=int(ks/2)),\n",
    "            nn.BatchNorm2d(64),\n",
    "            nn.ReLU(),\n",
    "            nn.MaxPool2d(kernel_size=(ks,ks), stride=1, padding=int(ks/2)),\n",
    "            nn.Conv2d(64, 1, kernel_size=(ks,ks), stride=1, padding=int(ks/2)),\n",
    "            nn.Sigmoid()\n",
    "        )\n",
    " \n",
    "    def forward(self, x):\n",
    "        y = self.convolutional_layer(x)\n",
    "        return y"
   ]
  },
  {
   "cell_type": "code",
   "execution_count": 100,
   "metadata": {},
   "outputs": [],
   "source": [
    "# model initialization\n",
    "model = BasicConvModel()\n",
    "optimizer = optim.SGD(model.parameters(), lr=1e-3, momentum=0.9)"
   ]
  },
  {
   "cell_type": "code",
   "execution_count": 101,
   "metadata": {},
   "outputs": [],
   "source": [
    "# model.load_state_dict(torch.load(r\"basic_cnn_003.pt\"))"
   ]
  },
  {
   "cell_type": "code",
   "execution_count": 102,
   "metadata": {},
   "outputs": [
    {
     "name": "stdout",
     "output_type": "stream",
     "text": [
      "BasicConvModel(\n",
      "  (convolutional_layer): Sequential(\n",
      "    (0): Conv2d(21, 64, kernel_size=(7, 7), stride=(1, 1), padding=(3, 3))\n",
      "    (1): BatchNorm2d(64, eps=1e-05, momentum=0.1, affine=True, track_running_stats=True)\n",
      "    (2): ReLU()\n",
      "    (3): Conv2d(64, 64, kernel_size=(7, 7), stride=(1, 1), padding=(3, 3))\n",
      "    (4): BatchNorm2d(64, eps=1e-05, momentum=0.1, affine=True, track_running_stats=True)\n",
      "    (5): ReLU()\n",
      "    (6): MaxPool2d(kernel_size=(7, 7), stride=1, padding=3, dilation=1, ceil_mode=False)\n",
      "    (7): Conv2d(64, 1, kernel_size=(7, 7), stride=(1, 1), padding=(3, 3))\n",
      "    (8): Sigmoid()\n",
      "  )\n",
      ")\n"
     ]
    }
   ],
   "source": [
    "print(model)"
   ]
  },
  {
   "cell_type": "code",
   "execution_count": 103,
   "metadata": {},
   "outputs": [],
   "source": [
    "for data, target in trainloader:\n",
    "    break"
   ]
  },
  {
   "cell_type": "code",
   "execution_count": 104,
   "metadata": {},
   "outputs": [
    {
     "data": {
      "text/plain": [
       "(torch.Size([8, 21, 64, 64]), torch.Size([8, 64, 64]))"
      ]
     },
     "execution_count": 104,
     "metadata": {},
     "output_type": "execute_result"
    }
   ],
   "source": [
    "data.shape, target.shape"
   ]
  },
  {
   "cell_type": "code",
   "execution_count": 105,
   "metadata": {},
   "outputs": [],
   "source": [
    "pred = model(data).detach()"
   ]
  },
  {
   "cell_type": "code",
   "execution_count": 106,
   "metadata": {},
   "outputs": [
    {
     "data": {
      "text/plain": [
       "tensor(0.)"
      ]
     },
     "execution_count": 106,
     "metadata": {},
     "output_type": "execute_result"
    }
   ],
   "source": [
    "target.min()"
   ]
  },
  {
   "cell_type": "code",
   "execution_count": 107,
   "metadata": {},
   "outputs": [
    {
     "data": {
      "text/plain": [
       "(tensor(0.5637), tensor(0.))"
      ]
     },
     "execution_count": 107,
     "metadata": {},
     "output_type": "execute_result"
    }
   ],
   "source": [
    "pred[0, 0, 0, 0], target[0, 0, 0]"
   ]
  },
  {
   "cell_type": "code",
   "execution_count": 108,
   "metadata": {},
   "outputs": [
    {
     "data": {
      "text/plain": [
       "(torch.Size([8, 1, 64, 64]), torch.Size([8, 64, 64]))"
      ]
     },
     "execution_count": 108,
     "metadata": {},
     "output_type": "execute_result"
    }
   ],
   "source": [
    "pred.shape, target.shape"
   ]
  },
  {
   "cell_type": "code",
   "execution_count": 109,
   "metadata": {},
   "outputs": [
    {
     "data": {
      "text/plain": [
       "torch.Size([8, 64, 64])"
      ]
     },
     "execution_count": 109,
     "metadata": {},
     "output_type": "execute_result"
    }
   ],
   "source": [
    "(pred[:, 0, :, :]*target).shape"
   ]
  },
  {
   "cell_type": "code",
   "execution_count": 110,
   "metadata": {},
   "outputs": [
    {
     "data": {
      "text/plain": [
       "torch.Size([8, 64, 64])"
      ]
     },
     "execution_count": 110,
     "metadata": {},
     "output_type": "execute_result"
    }
   ],
   "source": [
    "(pred[:, 0, :, :] - target).multiply(np.exp(target)).shape"
   ]
  },
  {
   "cell_type": "code",
   "execution_count": 111,
   "metadata": {},
   "outputs": [
    {
     "name": "stdout",
     "output_type": "stream",
     "text": [
      "\n",
      "Epoch 0\n",
      "Epoch 0: Train Loss = 0.041918 | Test Loss = 1.967716\n",
      "\n",
      "Epoch 1\n"
     ]
    },
    {
     "name": "stderr",
     "output_type": "stream",
     "text": [
      "100%|██████████| 1/1 [00:00<00:00,  1.01it/s]\n"
     ]
    },
    {
     "name": "stdout",
     "output_type": "stream",
     "text": [
      "Epoch 1: Train Loss = 0.030416 | Test Loss = 1.756614\n",
      "\n",
      "Epoch 2\n"
     ]
    },
    {
     "name": "stderr",
     "output_type": "stream",
     "text": [
      "100%|██████████| 1/1 [00:01<00:00,  1.01s/it]\n"
     ]
    },
    {
     "name": "stdout",
     "output_type": "stream",
     "text": [
      "Epoch 2: Train Loss = 0.025621 | Test Loss = 1.930892\n",
      "\n",
      "Epoch 3\n"
     ]
    },
    {
     "name": "stderr",
     "output_type": "stream",
     "text": [
      "100%|██████████| 1/1 [00:01<00:00,  1.03s/it]\n"
     ]
    },
    {
     "name": "stdout",
     "output_type": "stream",
     "text": [
      "Epoch 3: Train Loss = 0.023154 | Test Loss = 2.138068\n",
      "\n",
      "Epoch 4\n"
     ]
    },
    {
     "name": "stderr",
     "output_type": "stream",
     "text": [
      "100%|██████████| 1/1 [00:00<00:00,  1.03it/s]\n"
     ]
    },
    {
     "name": "stdout",
     "output_type": "stream",
     "text": [
      "Epoch 4: Train Loss = 0.022707 | Test Loss = 2.457906\n",
      "\n",
      "Epoch 5\n"
     ]
    },
    {
     "name": "stderr",
     "output_type": "stream",
     "text": [
      "100%|██████████| 1/1 [00:00<00:00,  1.03it/s]\n"
     ]
    },
    {
     "name": "stdout",
     "output_type": "stream",
     "text": [
      "Epoch 5: Train Loss = 0.021828 | Test Loss = 2.791626\n",
      "\n",
      "Epoch 6\n"
     ]
    },
    {
     "name": "stderr",
     "output_type": "stream",
     "text": [
      "100%|██████████| 1/1 [00:00<00:00,  1.10it/s]\n"
     ]
    },
    {
     "name": "stdout",
     "output_type": "stream",
     "text": [
      "Epoch 6: Train Loss = 0.021378 | Test Loss = 3.092015\n",
      "\n",
      "Epoch 7\n"
     ]
    },
    {
     "name": "stderr",
     "output_type": "stream",
     "text": [
      "100%|██████████| 1/1 [00:00<00:00,  1.09it/s]\n"
     ]
    },
    {
     "name": "stdout",
     "output_type": "stream",
     "text": [
      "Epoch 7: Train Loss = 0.021337 | Test Loss = 3.248930\n",
      "\n",
      "Epoch 8\n"
     ]
    },
    {
     "name": "stderr",
     "output_type": "stream",
     "text": [
      "100%|██████████| 1/1 [00:00<00:00,  1.10it/s]\n"
     ]
    },
    {
     "name": "stdout",
     "output_type": "stream",
     "text": [
      "Epoch 8: Train Loss = 0.019238 | Test Loss = 3.118769\n",
      "\n",
      "Epoch 9\n"
     ]
    },
    {
     "name": "stderr",
     "output_type": "stream",
     "text": [
      "100%|██████████| 1/1 [00:00<00:00,  1.06it/s]\n"
     ]
    },
    {
     "name": "stdout",
     "output_type": "stream",
     "text": [
      "Epoch 9: Train Loss = 0.018969 | Test Loss = 2.977077\n"
     ]
    }
   ],
   "source": [
    "# train loop\n",
    "errs = []\n",
    "\n",
    "def train(n_epochs):\n",
    "\n",
    "    for epoch in range(n_epochs):\n",
    "        print(f\"\\nEpoch {model.epoch}\")\n",
    "        if model.epoch >= 1:\n",
    "            for inputs, labels in tqdm(trainloader):\n",
    "                y_pred = model(inputs)[:, 0, :, :]\n",
    "                # evaluate loss ignoring the borders\n",
    "                # l = (y_pred - labels).multiply(np.exp(labels))\n",
    "                # l = -y_pred*labels\n",
    "                l = WeightedBinaryCrossEntropy(labels, y_pred)\n",
    "                loss = l.mean()\n",
    "                optimizer.zero_grad()\n",
    "                loss.backward()\n",
    "                optimizer.step()\n",
    "\n",
    "        train_err = 0\n",
    "        for inputs, labels in trainloader:\n",
    "            y_pred = model(inputs)[:, 0, :, :]\n",
    "            # train_err += torch.square(y_pred - labels).detach().float().sum()\n",
    "            # train_err -= (y_pred * labels).detach().float().mean()\n",
    "            train_err += WeightedBinaryCrossEntropy(labels, y_pred).detach().float().mean()\n",
    "        train_err = train_err / (len(trainloader)*trainloader.batch_size)\n",
    "            \n",
    "        test_err = 0\n",
    "        for inputs, labels in testloader:\n",
    "            y_pred = model(inputs)[:, 0, :, :]\n",
    "            # test_err += torch.square(y_pred - labels).detach().float().sum()\n",
    "            # test_err -= (y_pred * labels).detach().float().mean()\n",
    "            test_err += WeightedBinaryCrossEntropy(labels, y_pred).detach().float().mean()\n",
    "        test_err = test_err / len(testloader)\n",
    "        model.errs.append([train_err, test_err])\n",
    "\n",
    "        print(f\"Epoch {model.epoch}: Train Loss = {train_err:.6f} | Test Loss = {test_err:.6f}\")\n",
    "        \n",
    "        model.epoch += 1\n",
    "\n",
    "train(10)"
   ]
  },
  {
   "cell_type": "code",
   "execution_count": 112,
   "metadata": {},
   "outputs": [
    {
     "name": "stdout",
     "output_type": "stream",
     "text": [
      "\n",
      "Epoch 10\n"
     ]
    },
    {
     "name": "stderr",
     "output_type": "stream",
     "text": [
      "100%|██████████| 1/1 [00:01<00:00,  1.16s/it]\n"
     ]
    },
    {
     "name": "stdout",
     "output_type": "stream",
     "text": [
      "Epoch 10: Train Loss = 0.018681 | Test Loss = 2.913347\n",
      "\n",
      "Epoch 11\n"
     ]
    },
    {
     "name": "stderr",
     "output_type": "stream",
     "text": [
      "100%|██████████| 1/1 [00:00<00:00,  1.11it/s]\n"
     ]
    },
    {
     "name": "stdout",
     "output_type": "stream",
     "text": [
      "Epoch 11: Train Loss = 0.017823 | Test Loss = 2.968355\n",
      "\n",
      "Epoch 12\n"
     ]
    },
    {
     "name": "stderr",
     "output_type": "stream",
     "text": [
      "100%|██████████| 1/1 [00:00<00:00,  1.07it/s]\n"
     ]
    },
    {
     "name": "stdout",
     "output_type": "stream",
     "text": [
      "Epoch 12: Train Loss = 0.018163 | Test Loss = 3.115881\n",
      "\n",
      "Epoch 13\n"
     ]
    },
    {
     "name": "stderr",
     "output_type": "stream",
     "text": [
      "100%|██████████| 1/1 [00:00<00:00,  1.07it/s]\n"
     ]
    },
    {
     "name": "stdout",
     "output_type": "stream",
     "text": [
      "Epoch 13: Train Loss = 0.017439 | Test Loss = 3.116460\n",
      "\n",
      "Epoch 14\n"
     ]
    },
    {
     "name": "stderr",
     "output_type": "stream",
     "text": [
      "100%|██████████| 1/1 [00:00<00:00,  1.10it/s]\n"
     ]
    },
    {
     "name": "stdout",
     "output_type": "stream",
     "text": [
      "Epoch 14: Train Loss = 0.017502 | Test Loss = 3.141757\n",
      "\n",
      "Epoch 15\n"
     ]
    },
    {
     "name": "stderr",
     "output_type": "stream",
     "text": [
      "100%|██████████| 1/1 [00:00<00:00,  1.03it/s]\n"
     ]
    },
    {
     "name": "stdout",
     "output_type": "stream",
     "text": [
      "Epoch 15: Train Loss = 0.017243 | Test Loss = 3.241217\n",
      "\n",
      "Epoch 16\n"
     ]
    },
    {
     "name": "stderr",
     "output_type": "stream",
     "text": [
      "100%|██████████| 1/1 [00:00<00:00,  1.12it/s]\n"
     ]
    },
    {
     "name": "stdout",
     "output_type": "stream",
     "text": [
      "Epoch 16: Train Loss = 0.016634 | Test Loss = 3.408217\n",
      "\n",
      "Epoch 17\n"
     ]
    },
    {
     "name": "stderr",
     "output_type": "stream",
     "text": [
      "100%|██████████| 1/1 [00:00<00:00,  1.01it/s]\n"
     ]
    },
    {
     "name": "stdout",
     "output_type": "stream",
     "text": [
      "Epoch 17: Train Loss = 0.016610 | Test Loss = 3.593690\n",
      "\n",
      "Epoch 18\n"
     ]
    },
    {
     "name": "stderr",
     "output_type": "stream",
     "text": [
      "100%|██████████| 1/1 [00:01<00:00,  1.02s/it]\n"
     ]
    },
    {
     "name": "stdout",
     "output_type": "stream",
     "text": [
      "Epoch 18: Train Loss = 0.015895 | Test Loss = 3.658147\n",
      "\n",
      "Epoch 19\n"
     ]
    },
    {
     "name": "stderr",
     "output_type": "stream",
     "text": [
      "100%|██████████| 1/1 [00:01<00:00,  1.29s/it]\n"
     ]
    },
    {
     "name": "stdout",
     "output_type": "stream",
     "text": [
      "Epoch 19: Train Loss = 0.015682 | Test Loss = 3.743016\n",
      "\n",
      "Epoch 20\n"
     ]
    },
    {
     "name": "stderr",
     "output_type": "stream",
     "text": [
      "100%|██████████| 1/1 [00:00<00:00,  1.06it/s]\n"
     ]
    },
    {
     "name": "stdout",
     "output_type": "stream",
     "text": [
      "Epoch 20: Train Loss = 0.015348 | Test Loss = 3.877495\n",
      "\n",
      "Epoch 21\n"
     ]
    },
    {
     "name": "stderr",
     "output_type": "stream",
     "text": [
      "100%|██████████| 1/1 [00:00<00:00,  1.01it/s]\n"
     ]
    },
    {
     "name": "stdout",
     "output_type": "stream",
     "text": [
      "Epoch 21: Train Loss = 0.015072 | Test Loss = 4.021336\n",
      "\n",
      "Epoch 22\n"
     ]
    },
    {
     "name": "stderr",
     "output_type": "stream",
     "text": [
      "100%|██████████| 1/1 [00:00<00:00,  1.04it/s]\n"
     ]
    },
    {
     "name": "stdout",
     "output_type": "stream",
     "text": [
      "Epoch 22: Train Loss = 0.014984 | Test Loss = 4.093797\n",
      "\n",
      "Epoch 23\n"
     ]
    },
    {
     "name": "stderr",
     "output_type": "stream",
     "text": [
      "100%|██████████| 1/1 [00:00<00:00,  1.11it/s]\n"
     ]
    },
    {
     "name": "stdout",
     "output_type": "stream",
     "text": [
      "Epoch 23: Train Loss = 0.014608 | Test Loss = 4.055414\n",
      "\n",
      "Epoch 24\n"
     ]
    },
    {
     "name": "stderr",
     "output_type": "stream",
     "text": [
      "100%|██████████| 1/1 [00:00<00:00,  1.05it/s]\n"
     ]
    },
    {
     "name": "stdout",
     "output_type": "stream",
     "text": [
      "Epoch 24: Train Loss = 0.014559 | Test Loss = 4.040420\n",
      "\n",
      "Epoch 25\n"
     ]
    },
    {
     "name": "stderr",
     "output_type": "stream",
     "text": [
      "100%|██████████| 1/1 [00:00<00:00,  1.07it/s]\n"
     ]
    },
    {
     "name": "stdout",
     "output_type": "stream",
     "text": [
      "Epoch 25: Train Loss = 0.014212 | Test Loss = 4.070871\n",
      "\n",
      "Epoch 26\n"
     ]
    },
    {
     "name": "stderr",
     "output_type": "stream",
     "text": [
      "100%|██████████| 1/1 [00:01<00:00,  1.00s/it]\n"
     ]
    },
    {
     "name": "stdout",
     "output_type": "stream",
     "text": [
      "Epoch 26: Train Loss = 0.014039 | Test Loss = 4.122838\n",
      "\n",
      "Epoch 27\n"
     ]
    },
    {
     "name": "stderr",
     "output_type": "stream",
     "text": [
      "100%|██████████| 1/1 [00:01<00:00,  1.00s/it]\n"
     ]
    },
    {
     "name": "stdout",
     "output_type": "stream",
     "text": [
      "Epoch 27: Train Loss = 0.013779 | Test Loss = 4.089817\n",
      "\n",
      "Epoch 28\n"
     ]
    },
    {
     "name": "stderr",
     "output_type": "stream",
     "text": [
      "100%|██████████| 1/1 [00:01<00:00,  1.02s/it]\n"
     ]
    },
    {
     "name": "stdout",
     "output_type": "stream",
     "text": [
      "Epoch 28: Train Loss = 0.013566 | Test Loss = 4.001094\n",
      "\n",
      "Epoch 29\n"
     ]
    },
    {
     "name": "stderr",
     "output_type": "stream",
     "text": [
      "100%|██████████| 1/1 [00:00<00:00,  1.06it/s]\n"
     ]
    },
    {
     "name": "stdout",
     "output_type": "stream",
     "text": [
      "Epoch 29: Train Loss = 0.013457 | Test Loss = 3.970480\n",
      "\n",
      "Epoch 30\n"
     ]
    },
    {
     "name": "stderr",
     "output_type": "stream",
     "text": [
      "100%|██████████| 1/1 [00:00<00:00,  1.00it/s]\n"
     ]
    },
    {
     "name": "stdout",
     "output_type": "stream",
     "text": [
      "Epoch 30: Train Loss = 0.013243 | Test Loss = 4.022384\n",
      "\n",
      "Epoch 31\n"
     ]
    },
    {
     "name": "stderr",
     "output_type": "stream",
     "text": [
      "100%|██████████| 1/1 [00:00<00:00,  1.03it/s]\n"
     ]
    },
    {
     "name": "stdout",
     "output_type": "stream",
     "text": [
      "Epoch 31: Train Loss = 0.013119 | Test Loss = 4.095542\n",
      "\n",
      "Epoch 32\n"
     ]
    },
    {
     "name": "stderr",
     "output_type": "stream",
     "text": [
      "100%|██████████| 1/1 [00:00<00:00,  1.05it/s]\n"
     ]
    },
    {
     "name": "stdout",
     "output_type": "stream",
     "text": [
      "Epoch 32: Train Loss = 0.012852 | Test Loss = 4.140229\n",
      "\n",
      "Epoch 33\n"
     ]
    },
    {
     "name": "stderr",
     "output_type": "stream",
     "text": [
      "100%|██████████| 1/1 [00:00<00:00,  1.10it/s]\n"
     ]
    },
    {
     "name": "stdout",
     "output_type": "stream",
     "text": [
      "Epoch 33: Train Loss = 0.012672 | Test Loss = 4.238979\n",
      "\n",
      "Epoch 34\n"
     ]
    },
    {
     "name": "stderr",
     "output_type": "stream",
     "text": [
      "100%|██████████| 1/1 [00:00<00:00,  1.07it/s]\n"
     ]
    },
    {
     "name": "stdout",
     "output_type": "stream",
     "text": [
      "Epoch 34: Train Loss = 0.012450 | Test Loss = 4.352251\n",
      "\n",
      "Epoch 35\n"
     ]
    },
    {
     "name": "stderr",
     "output_type": "stream",
     "text": [
      "100%|██████████| 1/1 [00:00<00:00,  1.03it/s]\n"
     ]
    },
    {
     "name": "stdout",
     "output_type": "stream",
     "text": [
      "Epoch 35: Train Loss = 0.012280 | Test Loss = 4.392487\n",
      "\n",
      "Epoch 36\n"
     ]
    },
    {
     "name": "stderr",
     "output_type": "stream",
     "text": [
      "100%|██████████| 1/1 [00:00<00:00,  1.13it/s]\n"
     ]
    },
    {
     "name": "stdout",
     "output_type": "stream",
     "text": [
      "Epoch 36: Train Loss = 0.012124 | Test Loss = 4.346439\n",
      "\n",
      "Epoch 37\n"
     ]
    },
    {
     "name": "stderr",
     "output_type": "stream",
     "text": [
      "100%|██████████| 1/1 [00:00<00:00,  1.07it/s]\n"
     ]
    },
    {
     "name": "stdout",
     "output_type": "stream",
     "text": [
      "Epoch 37: Train Loss = 0.011907 | Test Loss = 4.344507\n",
      "\n",
      "Epoch 38\n"
     ]
    },
    {
     "name": "stderr",
     "output_type": "stream",
     "text": [
      "100%|██████████| 1/1 [00:01<00:00,  1.01s/it]\n"
     ]
    },
    {
     "name": "stdout",
     "output_type": "stream",
     "text": [
      "Epoch 38: Train Loss = 0.011805 | Test Loss = 4.390390\n",
      "\n",
      "Epoch 39\n"
     ]
    },
    {
     "name": "stderr",
     "output_type": "stream",
     "text": [
      "100%|██████████| 1/1 [00:00<00:00,  1.10it/s]\n"
     ]
    },
    {
     "name": "stdout",
     "output_type": "stream",
     "text": [
      "Epoch 39: Train Loss = 0.011572 | Test Loss = 4.312196\n"
     ]
    }
   ],
   "source": [
    "train(30)"
   ]
  },
  {
   "cell_type": "markdown",
   "metadata": {},
   "source": [
    "Ganhamos do baseline?"
   ]
  },
  {
   "cell_type": "code",
   "execution_count": 113,
   "metadata": {},
   "outputs": [
    {
     "data": {
      "text/plain": [
       "(-0.025186318904161453, 4.26466178894043)"
      ]
     },
     "execution_count": 113,
     "metadata": {},
     "output_type": "execute_result"
    }
   ],
   "source": [
    "(\n",
    "    float(model.errs[-1][0] - base_train_err), \n",
    "    float(model.errs[-1][1] - base_test_err)\n",
    ")"
   ]
  },
  {
   "cell_type": "markdown",
   "metadata": {},
   "source": [
    "Curva de aprendizado"
   ]
  },
  {
   "cell_type": "code",
   "execution_count": 114,
   "metadata": {},
   "outputs": [
    {
     "data": {
      "image/png": "[encoded data removed]",
      "text/plain": [
       "<Figure size 640x480 with 1 Axes>"
      ]
     },
     "metadata": {},
     "output_type": "display_data"
    },
    {
     "data": {
      "image/png": "[encoded data removed]",
      "text/plain": [
       "<Figure size 640x480 with 1 Axes>"
      ]
     },
     "metadata": {},
     "output_type": "display_data"
    }
   ],
   "source": [
    "import matplotlib.pyplot as plt\n",
    "\n",
    "plt.plot([float(e[0]) for e in model.errs])\n",
    "plt.title(\"Train loss\")\n",
    "plt.show()\n",
    "plt.plot([float(e[1]) for e in model.errs])\n",
    "plt.title(\"Test loss\")\n",
    "plt.show()"
   ]
  },
  {
   "cell_type": "markdown",
   "metadata": {},
   "source": [
    "Exemplo de previsão"
   ]
  },
  {
   "cell_type": "code",
   "execution_count": 115,
   "metadata": {},
   "outputs": [
    {
     "data": {
      "text/plain": [
       "(28, 1002, 778)"
      ]
     },
     "execution_count": 115,
     "metadata": {},
     "output_type": "execute_result"
    }
   ],
   "source": [
    "time_grid.shape"
   ]
  },
  {
   "cell_type": "code",
   "execution_count": 116,
   "metadata": {},
   "outputs": [
    {
     "name": "stdout",
     "output_type": "stream",
     "text": [
      "ok\n"
     ]
    }
   ],
   "source": [
    "for input_, truth in trainloader:\n",
    "    if np.random.random() < 0.5:\n",
    "        print(\"ok\")\n",
    "        break\n",
    "\n",
    "pred = model(input_)[:, 0, :, :]"
   ]
  },
  {
   "cell_type": "code",
   "execution_count": 117,
   "metadata": {},
   "outputs": [],
   "source": [
    "# region = compute_frames(am_bounds.total_bounds, config.BOX_SIDE, 450, 514, 80, 144)\n",
    "# t = 27\n",
    "\n",
    "# truth = time_grid[t, region[\"x\"].min():region[\"x\"].max()+1, region[\"y\"].min():region[\"y\"].max()+1]\n",
    "# input_ = time_grid[t-4:t, region[\"x\"].min():region[\"x\"].max()+1, region[\"y\"].min():region[\"y\"].max()+1]\n",
    "# input_ = input_.reshape(1,*input_.shape)\n",
    "# pred = model(torch.tensor(input_).float())[0, :, :].detach().numpy()"
   ]
  },
  {
   "cell_type": "code",
   "execution_count": 118,
   "metadata": {},
   "outputs": [
    {
     "data": {
      "text/plain": [
       "(tensor(0.), tensor(1.))"
      ]
     },
     "execution_count": 118,
     "metadata": {},
     "output_type": "execute_result"
    }
   ],
   "source": [
    "idx_batch = 0\n",
    "truth[idx_batch, :, :].min(), truth[idx_batch, :, :].max()"
   ]
  },
  {
   "cell_type": "code",
   "execution_count": 119,
   "metadata": {},
   "outputs": [
    {
     "data": {
      "text/plain": [
       "torch.Size([8, 64, 64])"
      ]
     },
     "execution_count": 119,
     "metadata": {},
     "output_type": "execute_result"
    }
   ],
   "source": [
    "truth.shape"
   ]
  },
  {
   "cell_type": "code",
   "execution_count": 120,
   "metadata": {},
   "outputs": [
    {
     "data": {
      "text/plain": [
       "torch.Size([8, 21, 64, 64])"
      ]
     },
     "execution_count": 120,
     "metadata": {},
     "output_type": "execute_result"
    }
   ],
   "source": [
    "input_.shape"
   ]
  },
  {
   "cell_type": "code",
   "execution_count": 121,
   "metadata": {},
   "outputs": [
    {
     "data": {
      "image/png": "[encoded data removed]",
      "text/plain": [
       "<Figure size 2400x800 with 4 Axes>"
      ]
     },
     "metadata": {},
     "output_type": "display_data"
    }
   ],
   "source": [
    "fig, ax = plt.subplots(1, 4, figsize=(24, 8))\n",
    "for i in range(4):\n",
    "    ax[i].matshow(input_[idx_batch, i, :, :], cmap=\"gnuplot\", vmin=truth.min(), vmax=truth.max())\n",
    "plt.show()"
   ]
  },
  {
   "cell_type": "code",
   "execution_count": 122,
   "metadata": {},
   "outputs": [
    {
     "name": "stderr",
     "output_type": "stream",
     "text": [
      "C:\\Users\\GiovanniAmorim\\AppData\\Local\\Temp\\ipykernel_1036\\1877127924.py:6: UserWarning: FigureCanvasAgg is non-interactive, and thus cannot be shown\n",
      "  fig.show()\n"
     ]
    },
    {
     "data": {
      "image/png": "[encoded data removed]",
      "text/plain": [
       "<Figure size 1200x800 with 4 Axes>"
      ]
     },
     "metadata": {},
     "output_type": "display_data"
    }
   ],
   "source": [
    "fig, ax = plt.subplots(1, 2, figsize=(12, 8))\n",
    "m1 = ax[0].matshow(truth[idx_batch, :, :], cmap=\"gnuplot\", vmin=truth.min(), vmax=truth.max())\n",
    "m2 = ax[1].matshow(pred.detach().numpy()[idx_batch, :, :], cmap=\"gnuplot\", vmin=truth.min(), vmax=1)\n",
    "fig.colorbar(m1)\n",
    "fig.colorbar(m2)\n",
    "fig.show()"
   ]
  },
  {
   "cell_type": "markdown",
   "metadata": {},
   "source": [
    "# Save model"
   ]
  },
  {
   "cell_type": "code",
   "execution_count": 107,
   "metadata": {},
   "outputs": [],
   "source": [
    "# torch.save(model.state_dict(), r\"cnn_40.pt\")"
   ]
  }
 ],
 "metadata": {
  "kernelspec": {
   "display_name": "venv_dl2cv",
   "language": "python",
   "name": "python3"
  },
  "language_info": {
   "codemirror_mode": {
    "name": "ipython",
    "version": 3
   },
   "file_extension": ".py",
   "mimetype": "text/x-python",
   "name": "python",
   "nbconvert_exporter": "python",
   "pygments_lexer": "ipython3",
   "version": "3.10.11"
  },
  "orig_nbformat": 4
 },
 "nbformat": 4,
 "nbformat_minor": 2
}
