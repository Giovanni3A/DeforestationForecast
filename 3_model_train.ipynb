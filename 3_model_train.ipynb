{
 "cells": [
  {
   "cell_type": "code",
   "execution_count": 1,
   "metadata": {},
   "outputs": [],
   "source": [
    "import numpy as np\n",
    "import pandas as pd\n",
    "import geopandas as gpd\n",
    "from tqdm import tqdm\n",
    "from random import shuffle\n",
    "\n",
    "import matplotlib.pyplot as plt\n",
    "import seaborn as sns\n",
    "\n",
    "import config\n",
    "from utils import compute_frames"
   ]
  },
  {
   "cell_type": "code",
   "execution_count": 2,
   "metadata": {},
   "outputs": [],
   "source": [
    "import torch\n",
    "from torch.utils.data import Dataset"
   ]
  },
  {
   "cell_type": "code",
   "execution_count": 163,
   "metadata": {},
   "outputs": [],
   "source": [
    "sns.set_style(\"darkgrid\", {\"grid.color\": \".6\", \"grid.linestyle\": \":\"})"
   ]
  },
  {
   "cell_type": "code",
   "execution_count": 3,
   "metadata": {},
   "outputs": [],
   "source": [
    "dev = \"cuda:0\""
   ]
  },
  {
   "cell_type": "markdown",
   "metadata": {},
   "source": [
    "# History dataset generation"
   ]
  },
  {
   "cell_type": "code",
   "execution_count": 4,
   "metadata": {},
   "outputs": [],
   "source": [
    "# load legal amazon limits\n",
    "am_bounds = gpd.read_file(config.AMAZON_FRONTIER_DATA)"
   ]
  },
  {
   "cell_type": "code",
   "execution_count": 5,
   "metadata": {},
   "outputs": [],
   "source": [
    "# load frames idx detail\n",
    "frames_idx = pd.read_csv(config.TR_FRAMES_IDX, index_col=0)"
   ]
  },
  {
   "cell_type": "code",
   "execution_count": 6,
   "metadata": {},
   "outputs": [],
   "source": [
    "# load frames deforestation area history\n",
    "deforestation = pd.read_csv(config.TR_DEFORESTATION, index_col=0)\n",
    "deforestation[\"quarter_date\"] = pd.to_datetime(deforestation[\"quarter_date\"])"
   ]
  },
  {
   "cell_type": "code",
   "execution_count": 7,
   "metadata": {},
   "outputs": [],
   "source": [
    "# counties\n",
    "frames_county = pd.read_csv(config.TR_COUNTIES, index_col=0)\n",
    "counties_defor = pd.read_csv(config.TR_COUNTIES_DEFOR, index_col=0)"
   ]
  },
  {
   "cell_type": "code",
   "execution_count": 8,
   "metadata": {},
   "outputs": [],
   "source": [
    "# precipitations\n",
    "precip = pd.read_csv(config.TR_RAIN_AVG)\n",
    "precip[\"quarter_date\"] = pd.to_datetime(precip[\"dt\"])"
   ]
  },
  {
   "cell_type": "code",
   "execution_count": 9,
   "metadata": {},
   "outputs": [],
   "source": [
    "# terrain position index\n",
    "tpi = pd.read_csv(config.TR_TPI, skiprows=1)\\\n",
    "    .rename(columns={\"Unnamed: 0\": \"frame_id\"})"
   ]
  },
  {
   "cell_type": "code",
   "execution_count": 10,
   "metadata": {},
   "outputs": [],
   "source": [
    "# land cover\n",
    "landcover = pd.read_csv(config.TR_LANDCOVER)\n",
    "landcover = pd.pivot_table(\n",
    "    landcover, \n",
    "    index=[\"frame_id\"], \n",
    "    columns=[\"landcover\"], \n",
    "    values=\"geometry\", \n",
    "    aggfunc=\"sum\"\n",
    ").fillna(0).astype(int)\n",
    "# convert to percentage\n",
    "sum_by_frame = landcover.sum(axis=1)\n",
    "for col in landcover.columns:\n",
    "    landcover[col] = landcover[col] / sum_by_frame"
   ]
  },
  {
   "cell_type": "code",
   "execution_count": 11,
   "metadata": {},
   "outputs": [],
   "source": [
    "# past scores\n",
    "past_scores = pd.read_csv(config.TR_PAST_SCORES)\n",
    "past_scores[\"variable\"] = pd.to_datetime(past_scores[\"variable\"])"
   ]
  },
  {
   "cell_type": "code",
   "execution_count": 12,
   "metadata": {},
   "outputs": [],
   "source": [
    "# night lights\n",
    "night_light = pd.read_csv(config.TR_NIGHT_LIGHT)\n",
    "night_light[\"dt\"] = pd.to_datetime(night_light[\"dt\"])"
   ]
  },
  {
   "cell_type": "markdown",
   "metadata": {},
   "source": [
    "## Create grid"
   ]
  },
  {
   "cell_type": "code",
   "execution_count": 13,
   "metadata": {},
   "outputs": [],
   "source": [
    "# create limits history grid\n",
    "time_grid = np.zeros((len(config.TIME_STEPS), frames_idx[\"x\"].max() - frames_idx[\"x\"].min() + 1, frames_idx[\"y\"].max() - frames_idx[\"y\"].min() + 1))\n",
    "for t, dt in enumerate(config.TIME_STEPS):\n",
    "    defor_area = (\n",
    "        deforestation[\n",
    "            deforestation[\"quarter_date\"] == dt\n",
    "        ].set_index(\"frame_id\")[\"area\"] +\\\n",
    "        pd.Series(0, index=frames_idx.index)\n",
    "    ).fillna(0).sort_index()\n",
    "    time_grid[t, :, :] = defor_area.values.reshape(time_grid[0, :, :].shape)"
   ]
  },
  {
   "cell_type": "code",
   "execution_count": 14,
   "metadata": {},
   "outputs": [
    {
     "data": {
      "text/plain": [
       "(28, 1002, 778)"
      ]
     },
     "execution_count": 14,
     "metadata": {},
     "output_type": "execute_result"
    }
   ],
   "source": [
    "time_grid.shape"
   ]
  },
  {
   "cell_type": "markdown",
   "metadata": {},
   "source": [
    "# Counties data"
   ]
  },
  {
   "cell_type": "markdown",
   "metadata": {},
   "source": [
    "## Population and density"
   ]
  },
  {
   "cell_type": "code",
   "execution_count": 15,
   "metadata": {},
   "outputs": [],
   "source": [
    "county_data = np.zeros((2, frames_idx[\"x\"].max() - frames_idx[\"x\"].min() + 1, frames_idx[\"y\"].max() - frames_idx[\"y\"].min() + 1))\n",
    "county_data[0] = (\n",
    "    frames_county.set_index(\"frame_id\")[\"populacao\"] +\\\n",
    "    pd.Series(0, index=frames_idx.index)\n",
    ").fillna(0).\\\n",
    "    values.reshape(county_data.shape[1:])\n",
    "\n",
    "county_data[1] = (\n",
    "    frames_county.set_index(\"frame_id\")[\"densidade\"] +\\\n",
    "    pd.Series(0, index=frames_idx.index)\n",
    ").fillna(0).\\\n",
    "    values.reshape(county_data.shape[1:])"
   ]
  },
  {
   "cell_type": "markdown",
   "metadata": {},
   "source": [
    "## Deforestation"
   ]
  },
  {
   "cell_type": "code",
   "execution_count": 16,
   "metadata": {},
   "outputs": [],
   "source": [
    "frames_counties_defor = pd.merge(\n",
    "    counties_defor,\n",
    "    frames_county[[\"frame_id\", \"county_id\"]],\n",
    "    on=\"county_id\",\n",
    "    how=\"right\"\n",
    ")\n",
    "frames_counties_defor[\"quarter_date\"] = pd.to_datetime(frames_counties_defor[\"quarter_date\"])"
   ]
  },
  {
   "cell_type": "code",
   "execution_count": 17,
   "metadata": {},
   "outputs": [
    {
     "name": "stderr",
     "output_type": "stream",
     "text": [
      "28it [00:04,  6.45it/s]\n"
     ]
    }
   ],
   "source": [
    "# create limits history grid\n",
    "counties_time_grid = np.zeros((len(config.TIME_STEPS), frames_idx[\"x\"].max() - frames_idx[\"x\"].min() + 1, frames_idx[\"y\"].max() - frames_idx[\"y\"].min() + 1))\n",
    "for t, dt in tqdm(enumerate(config.TIME_STEPS)):\n",
    "    defor_area = (\n",
    "        frames_counties_defor[\n",
    "            frames_counties_defor[\"quarter_date\"] == dt\n",
    "        ].set_index(\"frame_id\")[\"area\"] +\\\n",
    "        pd.Series(0, index=frames_idx.index)\n",
    "    ).fillna(0).sort_index()\n",
    "    counties_time_grid[t, :, :] = defor_area.values.reshape(counties_time_grid[0, :, :].shape)"
   ]
  },
  {
   "cell_type": "code",
   "execution_count": 18,
   "metadata": {},
   "outputs": [
    {
     "data": {
      "text/plain": [
       "(28, 1002, 778)"
      ]
     },
     "execution_count": 18,
     "metadata": {},
     "output_type": "execute_result"
    }
   ],
   "source": [
    "counties_time_grid.shape"
   ]
  },
  {
   "cell_type": "code",
   "execution_count": 19,
   "metadata": {},
   "outputs": [
    {
     "data": {
      "text/plain": [
       "array([3.64349324, 1.44976199, 0.0549576 , 0.48450147, 2.60491863,\n",
       "       2.88365836, 0.72031926, 1.33401451, 1.53494971, 0.33965555,\n",
       "       0.27648444, 1.19631494, 4.66534426, 0.76668875, 0.40991866,\n",
       "       1.23747129, 5.29401365, 1.63759775, 0.29895257, 1.81006223,\n",
       "       2.79594653, 0.80019323, 0.39995533, 1.71730521, 5.65761069,\n",
       "       1.48782054, 0.33267522, 0.85901459])"
      ]
     },
     "execution_count": 19,
     "metadata": {},
     "output_type": "execute_result"
    }
   ],
   "source": [
    "counties_time_grid.mean(axis=(1, 2))"
   ]
  },
  {
   "cell_type": "markdown",
   "metadata": {},
   "source": [
    "# Precipitations"
   ]
  },
  {
   "cell_type": "code",
   "execution_count": 20,
   "metadata": {},
   "outputs": [
    {
     "name": "stderr",
     "output_type": "stream",
     "text": [
      "28it [00:03,  7.35it/s]\n"
     ]
    }
   ],
   "source": [
    "# create limits history grid\n",
    "precip_time_grid = np.zeros((len(config.TIME_STEPS), frames_idx[\"x\"].max() - frames_idx[\"x\"].min() + 1, frames_idx[\"y\"].max() - frames_idx[\"y\"].min() + 1))\n",
    "for t, dt in tqdm(enumerate(config.TIME_STEPS)):\n",
    "    precip_sum = (\n",
    "        precip[\n",
    "            precip[\"quarter_date\"] == dt\n",
    "        ].set_index(\"frame_id\")[\"precipitation\"] +\\\n",
    "        pd.Series(0, index=frames_idx.index)\n",
    "    ).fillna(0).sort_index()\n",
    "    precip_time_grid[t, :, :] = precip_sum.values.reshape(counties_time_grid[0, :, :].shape)"
   ]
  },
  {
   "cell_type": "code",
   "execution_count": 21,
   "metadata": {},
   "outputs": [
    {
     "data": {
      "text/plain": [
       "(28, 1002, 778)"
      ]
     },
     "execution_count": 21,
     "metadata": {},
     "output_type": "execute_result"
    }
   ],
   "source": [
    "precip_time_grid.shape"
   ]
  },
  {
   "cell_type": "code",
   "execution_count": 22,
   "metadata": {},
   "outputs": [
    {
     "data": {
      "text/plain": [
       "array([186.20753427, 439.33358713, 702.3223266 , 375.96249359,\n",
       "       148.5295144 , 413.0688769 , 556.53640863, 399.31430876,\n",
       "       187.60811386, 429.90324523, 519.214427  , 357.56493712,\n",
       "       156.44664122, 429.32615398, 496.57244939, 423.21707809,\n",
       "       154.23955033, 435.23924631, 597.8020921 , 377.38891596,\n",
       "       197.90357116, 537.16324421, 622.31314606, 363.67691742,\n",
       "       171.62971464, 437.73113001, 604.32205076, 334.68217645])"
      ]
     },
     "execution_count": 22,
     "metadata": {},
     "output_type": "execute_result"
    }
   ],
   "source": [
    "precip_time_grid.mean(axis=(1, 2))"
   ]
  },
  {
   "cell_type": "markdown",
   "metadata": {},
   "source": [
    "# Terrain Position Index"
   ]
  },
  {
   "cell_type": "code",
   "execution_count": 23,
   "metadata": {},
   "outputs": [],
   "source": [
    "cols = [\"mean\", \"min\", \"max\", \"std\"]\n",
    "tpi_array = np.zeros((len(cols), frames_idx[\"x\"].max() - frames_idx[\"x\"].min() + 1, frames_idx[\"y\"].max() - frames_idx[\"y\"].min() + 1))\n",
    "for icol, col in enumerate(cols):\n",
    "    v = (\n",
    "        tpi.set_index(\"frame_id\")[col] +\\\n",
    "        pd.Series(0, index=frames_idx.index)\n",
    "    ).fillna(0).sort_index()\n",
    "    tpi_array[icol, :, :] = v.values.reshape(tpi_array[0, :, :].shape)"
   ]
  },
  {
   "cell_type": "code",
   "execution_count": 24,
   "metadata": {},
   "outputs": [
    {
     "data": {
      "text/plain": [
       "(4, 1002, 778)"
      ]
     },
     "execution_count": 24,
     "metadata": {},
     "output_type": "execute_result"
    }
   ],
   "source": [
    "tpi_array.shape"
   ]
  },
  {
   "cell_type": "code",
   "execution_count": 25,
   "metadata": {},
   "outputs": [
    {
     "data": {
      "text/plain": [
       "array([219.        ,  74.        , 682.        , 381.16196616])"
      ]
     },
     "execution_count": 25,
     "metadata": {},
     "output_type": "execute_result"
    }
   ],
   "source": [
    "tpi_array.max(axis=(1, 2))"
   ]
  },
  {
   "cell_type": "markdown",
   "metadata": {},
   "source": [
    "# Land Cover"
   ]
  },
  {
   "cell_type": "code",
   "execution_count": 26,
   "metadata": {},
   "outputs": [],
   "source": [
    "landcover_categories = [[20], [40, 50], [180]]\n",
    "landcover_array = np.zeros((len(landcover_categories), frames_idx[\"x\"].max() - frames_idx[\"x\"].min() + 1, frames_idx[\"y\"].max() - frames_idx[\"y\"].min() + 1))\n",
    "for i, cols in enumerate(landcover_categories):\n",
    "    v = (\n",
    "        landcover[cols].sum(axis=1) +\\\n",
    "        pd.Series(0, index=frames_idx.index)\n",
    "    ).fillna(0).sort_index()\n",
    "    landcover_array[i, :, :] = v.values.reshape(landcover_array[0, :, :].shape)"
   ]
  },
  {
   "cell_type": "code",
   "execution_count": 27,
   "metadata": {},
   "outputs": [
    {
     "data": {
      "text/plain": [
       "(3, 1002, 778)"
      ]
     },
     "execution_count": 27,
     "metadata": {},
     "output_type": "execute_result"
    }
   ],
   "source": [
    "landcover_array.shape"
   ]
  },
  {
   "cell_type": "code",
   "execution_count": 28,
   "metadata": {},
   "outputs": [
    {
     "data": {
      "text/plain": [
       "array([0.05688078, 0.63904917, 0.01726573])"
      ]
     },
     "execution_count": 28,
     "metadata": {},
     "output_type": "execute_result"
    }
   ],
   "source": [
    "landcover_array.mean(axis=(1, 2))"
   ]
  },
  {
   "cell_type": "markdown",
   "metadata": {},
   "source": [
    "# Past scores"
   ]
  },
  {
   "cell_type": "code",
   "execution_count": 29,
   "metadata": {},
   "outputs": [
    {
     "name": "stderr",
     "output_type": "stream",
     "text": [
      "28it [00:00, 28.97it/s]\n"
     ]
    }
   ],
   "source": [
    "# create history grid for scores\n",
    "scores_time_grid = np.zeros((len(config.TIME_STEPS), frames_idx[\"x\"].max() - frames_idx[\"x\"].min() + 1, frames_idx[\"y\"].max() - frames_idx[\"y\"].min() + 1))\n",
    "for t, dt in tqdm(enumerate(config.TIME_STEPS)):\n",
    "    t_scores = (\n",
    "        past_scores[\n",
    "            past_scores[\"variable\"] == dt\n",
    "        ].set_index(\"frame_id\")[\"value\"] +\\\n",
    "        pd.Series(0, index=frames_idx.index)\n",
    "    ).fillna(0).sort_index()\n",
    "    scores_time_grid[t, :, :] = t_scores.values.reshape(scores_time_grid[0, :, :].shape)"
   ]
  },
  {
   "cell_type": "code",
   "execution_count": 30,
   "metadata": {},
   "outputs": [
    {
     "data": {
      "text/plain": [
       "(28, 1002, 778)"
      ]
     },
     "execution_count": 30,
     "metadata": {},
     "output_type": "execute_result"
    }
   ],
   "source": [
    "scores_time_grid.shape"
   ]
  },
  {
   "cell_type": "code",
   "execution_count": 31,
   "metadata": {},
   "outputs": [
    {
     "data": {
      "text/plain": [
       "array([0.00019113, 0.01970878, 0.03237829, 0.0303591 , 0.03254027,\n",
       "       0.04184595, 0.05188484, 0.05343352, 0.05884629, 0.06810746,\n",
       "       0.06716801, 0.0638416 , 0.06583015, 0.0886549 , 0.09032362,\n",
       "       0.08556676, 0.08718639, 0.10840274, 0.11322395, 0.10460181,\n",
       "       0.10748897, 0.11863202, 0.11653463, 0.10905149, 0.10773129,\n",
       "       0.12110267, 0.12369821, 0.11544868])"
      ]
     },
     "execution_count": 31,
     "metadata": {},
     "output_type": "execute_result"
    }
   ],
   "source": [
    "scores_time_grid.mean(axis=(1,2))"
   ]
  },
  {
   "cell_type": "markdown",
   "metadata": {},
   "source": [
    "# Night lights"
   ]
  },
  {
   "cell_type": "code",
   "execution_count": 32,
   "metadata": {},
   "outputs": [
    {
     "name": "stderr",
     "output_type": "stream",
     "text": [
      "28it [00:07,  3.90it/s]\n"
     ]
    }
   ],
   "source": [
    "# create history grid for scores\n",
    "night_time_grid = np.zeros((2, len(config.TIME_STEPS), frames_idx[\"x\"].max() - frames_idx[\"x\"].min() + 1, frames_idx[\"y\"].max() - frames_idx[\"y\"].min() + 1))\n",
    "for t, dt in tqdm(enumerate(config.TIME_STEPS)):\n",
    "    avg_light = (\n",
    "        night_light[\n",
    "            night_light[\"dt\"] == dt\n",
    "        ].set_index(\"frame_id\")[\"avg_light\"] +\\\n",
    "        pd.Series(0, index=frames_idx.index)\n",
    "    ).fillna(0).sort_index()\n",
    "    night_time_grid[0, t, :, :] = avg_light.values.reshape(night_time_grid[0, 0, :, :].shape)\n",
    "    \n",
    "    max_light = (\n",
    "        night_light[\n",
    "            night_light[\"dt\"] == dt\n",
    "        ].set_index(\"frame_id\")[\"max_light\"] +\\\n",
    "        pd.Series(0, index=frames_idx.index)\n",
    "    ).fillna(0).sort_index()\n",
    "    night_time_grid[1, t, :, :] = max_light.values.reshape(night_time_grid[0, 0, :, :].shape)"
   ]
  },
  {
   "cell_type": "code",
   "execution_count": 33,
   "metadata": {},
   "outputs": [
    {
     "data": {
      "text/plain": [
       "(2, 28, 1002, 778)"
      ]
     },
     "execution_count": 33,
     "metadata": {},
     "output_type": "execute_result"
    }
   ],
   "source": [
    "night_time_grid.shape"
   ]
  },
  {
   "cell_type": "code",
   "execution_count": 34,
   "metadata": {},
   "outputs": [
    {
     "data": {
      "text/plain": [
       "array([[0.08905747, 0.06830882, 0.22108746, 0.25371302, 0.23573503,\n",
       "        0.24402444, 0.21836818, 0.27173093, 0.22944489, 0.22770809,\n",
       "        0.21122815, 0.18509241, 0.19214316, 0.19492029, 0.24530041,\n",
       "        0.28831199, 0.29576629, 0.277734  , 0.22200173, 0.27180649,\n",
       "        0.31246798, 0.27526693, 0.22154229, 0.30725574, 0.26986599,\n",
       "        0.33866692, 0.27871436, 0.31843935],\n",
       "       [0.26065561, 0.18529193, 0.36390337, 0.3838    , 0.40839899,\n",
       "        0.41019799, 0.35407161, 0.41134814, 0.38108935, 0.37483258,\n",
       "        0.35470058, 0.31806081, 0.35038354, 0.35053503, 0.37943095,\n",
       "        0.41901216, 0.47711412, 0.44057947, 0.34301519, 0.41183966,\n",
       "        0.49050084, 0.42313796, 0.35123893, 0.45027927, 0.47900751,\n",
       "        0.50671131, 0.4252236 , 0.47823331]])"
      ]
     },
     "execution_count": 34,
     "metadata": {},
     "output_type": "execute_result"
    }
   ],
   "source": [
    "night_time_grid.mean(axis=(2, 3))"
   ]
  },
  {
   "cell_type": "markdown",
   "metadata": {},
   "source": [
    "# Compute frame patches\n",
    "\n",
    "A patch is squared set of unitary frames. The patch formation process consists in iterating through the full image on both axis computing the frames corresponding to each iteration."
   ]
  },
  {
   "cell_type": "code",
   "execution_count": 35,
   "metadata": {},
   "outputs": [
    {
     "name": "stderr",
     "output_type": "stream",
     "text": [
      "100%|██████████| 32/32 [00:20<00:00,  1.57it/s]\n"
     ]
    }
   ],
   "source": [
    "out_condition = \"both\"  # deforestation | borders | both\n",
    "\n",
    "bundle_step = 32\n",
    "patches = []\n",
    "for ix in tqdm(list(range(frames_idx[\"x\"].min(), frames_idx[\"x\"].max()+1, bundle_step))):\n",
    "    fx = ix + config.INPUT_BOXES_SIZE\n",
    "    for iy in range(frames_idx[\"y\"].min(), frames_idx[\"y\"].max()+1, bundle_step):\n",
    "        fy = iy + config.INPUT_BOXES_SIZE\n",
    "\n",
    "        iframes = frames_idx[\n",
    "            (frames_idx[\"x\"] >= ix) & \n",
    "            (frames_idx[\"x\"] < fx) &\n",
    "            (frames_idx[\"y\"] >= iy) &\n",
    "            (frames_idx[\"y\"] < fy)\n",
    "        ]\n",
    "        \n",
    "        if out_condition == \"borders\":\n",
    "            if iframes[\"in_borders\"].mean() >= 0.5:  # condition: bundle has to be at least half inside borders\n",
    "                patches.append(iframes.index)\n",
    "                \n",
    "        elif out_condition == \"deforestation\":\n",
    "            out_of_borders_frames = len(set(iframes.index) - set(deforestation[\"frame_id\"].values))\n",
    "            if out_of_borders_frames < len(iframes):  # condition: bundle has to contain some deforestation\n",
    "                patches.append(iframes.index) \n",
    "\n",
    "        elif out_condition == \"both\":\n",
    "            out_of_borders_frames = len(set(iframes.index) - set(deforestation[\"frame_id\"].values))\n",
    "            if (out_of_borders_frames < len(iframes)) and (iframes[\"in_borders\"].mean() >= 0.5):\n",
    "                patches.append(iframes.index) "
   ]
  },
  {
   "cell_type": "code",
   "execution_count": 36,
   "metadata": {},
   "outputs": [],
   "source": [
    "# remove patches that represent reduced regions\n",
    "patches = [b for b in patches if (len(b)==len(patches[0]))]"
   ]
  },
  {
   "cell_type": "code",
   "execution_count": 37,
   "metadata": {},
   "outputs": [
    {
     "data": {
      "text/plain": [
       "431"
      ]
     },
     "execution_count": 37,
     "metadata": {},
     "output_type": "execute_result"
    }
   ],
   "source": [
    "len(patches)"
   ]
  },
  {
   "cell_type": "code",
   "execution_count": 38,
   "metadata": {},
   "outputs": [
    {
     "data": {
      "text/plain": [
       "Index([  288,   289,   290,   291,   292,   293,   294,   295,   296,   297,\n",
       "       ...\n",
       "       49356, 49357, 49358, 49359, 49360, 49361, 49362, 49363, 49364, 49365],\n",
       "      dtype='int64', length=4096)"
      ]
     },
     "execution_count": 38,
     "metadata": {},
     "output_type": "execute_result"
    }
   ],
   "source": [
    "patches[0]"
   ]
  },
  {
   "cell_type": "code",
   "execution_count": 39,
   "metadata": {},
   "outputs": [],
   "source": [
    "# generate region and check which patches intersect\n",
    "region = compute_frames(am_bounds.total_bounds, config.BOX_SIDE, 200, 300, 500, 600)"
   ]
  },
  {
   "cell_type": "code",
   "execution_count": 40,
   "metadata": {},
   "outputs": [
    {
     "data": {
      "image/png": "[encoded data removed]",
      "text/plain": [
       "<Figure size 640x480 with 1 Axes>"
      ]
     },
     "metadata": {},
     "output_type": "display_data"
    }
   ],
   "source": [
    "fig, ax = plt.subplots()\n",
    "am_bounds.boundary.plot(ax=ax, color=\"black\")\n",
    "j = 0\n",
    "for i, b in enumerate(patches):\n",
    "    int_b = region[region[\"frame_id\"].isin(b)]\n",
    "    if len(int_b) > 0:\n",
    "        int_b.plot(ax=ax, color=sns.color_palette()[j%10], alpha=.5)\n",
    "        j+=1\n",
    "        if j > 30:\n",
    "            break\n",
    "plt.show()"
   ]
  },
  {
   "cell_type": "markdown",
   "metadata": {},
   "source": [
    "# Train test split"
   ]
  },
  {
   "cell_type": "code",
   "execution_count": 41,
   "metadata": {},
   "outputs": [
    {
     "data": {
      "text/plain": [
       "(28, 1002, 778)"
      ]
     },
     "execution_count": 41,
     "metadata": {},
     "output_type": "execute_result"
    }
   ],
   "source": [
    "time_grid.shape"
   ]
  },
  {
   "cell_type": "code",
   "execution_count": 42,
   "metadata": {},
   "outputs": [],
   "source": [
    "train_time_idx = range(0,12)\n",
    "val_time_idx = range(12,20)\n",
    "test_time_idx = range(20,28)\n",
    "\n",
    "train_data = time_grid[train_time_idx, :, :]\n",
    "val_data = time_grid[val_time_idx, :, :]\n",
    "test_data = time_grid[test_time_idx, :, :]"
   ]
  },
  {
   "cell_type": "markdown",
   "metadata": {},
   "source": [
    "# Data Normalization"
   ]
  },
  {
   "cell_type": "code",
   "execution_count": 43,
   "metadata": {},
   "outputs": [],
   "source": [
    "one_multiplicator_factor = (train_data <= 1e-7).sum() / (train_data > 1e-7).sum()"
   ]
  },
  {
   "cell_type": "code",
   "execution_count": 44,
   "metadata": {},
   "outputs": [],
   "source": [
    "norm_pop = (county_data[0, :, :] - np.median(county_data[0, :, :])) / 1e5\n",
    "norm_den = (county_data[1, :, :] - np.median(county_data[1, :, :])) / 30\n",
    "\n",
    "county_data[0, :, :] = norm_pop\n",
    "county_data[1, :, :] = norm_den"
   ]
  },
  {
   "cell_type": "code",
   "execution_count": 45,
   "metadata": {},
   "outputs": [],
   "source": [
    "counties_time_grid = (counties_time_grid-counties_time_grid[train_time_idx, :, :].mean()) / counties_time_grid[train_time_idx, :, :].std()"
   ]
  },
  {
   "cell_type": "code",
   "execution_count": 46,
   "metadata": {},
   "outputs": [],
   "source": [
    "precip_time_grid = (precip_time_grid-precip_time_grid[train_time_idx, :, :].mean()) / precip_time_grid[train_time_idx, :, :].std()"
   ]
  },
  {
   "cell_type": "code",
   "execution_count": 47,
   "metadata": {},
   "outputs": [],
   "source": [
    "for i in range(tpi_array.shape[0]):\n",
    "    tpi_array[i, :, :] = (tpi_array[i, :, :] - tpi_array[i, :, :].mean()) / tpi_array[i, :, :].std()"
   ]
  },
  {
   "cell_type": "code",
   "execution_count": 48,
   "metadata": {},
   "outputs": [],
   "source": [
    "for i in [0, 1]:\n",
    "    night_time_grid[i, :, :, :] = (\n",
    "        (\n",
    "            night_time_grid[i, :, :, :] - \n",
    "            night_time_grid[i, train_time_idx, :, :].mean()\n",
    "        ) / night_time_grid[i, train_time_idx, :, :].std()\n",
    "    )"
   ]
  },
  {
   "cell_type": "markdown",
   "metadata": {},
   "source": [
    "# Loss function"
   ]
  },
  {
   "cell_type": "code",
   "execution_count": 49,
   "metadata": {},
   "outputs": [],
   "source": [
    "def WeightedBinaryCrossEntropy(target, prediction):\n",
    "    return -(target*prediction.log() + (1-target)*((1-prediction).log()))"
   ]
  },
  {
   "cell_type": "code",
   "execution_count": 50,
   "metadata": {},
   "outputs": [],
   "source": [
    "import torch.nn as nn\n",
    "\n",
    "ce_loss = nn.CrossEntropyLoss().to(dev)"
   ]
  },
  {
   "cell_type": "markdown",
   "metadata": {},
   "source": [
    "# Dataset & Dataloaders"
   ]
  },
  {
   "cell_type": "code",
   "execution_count": 51,
   "metadata": {},
   "outputs": [
    {
     "data": {
      "text/plain": [
       "10344"
      ]
     },
     "execution_count": 51,
     "metadata": {},
     "output_type": "execute_result"
    }
   ],
   "source": [
    "len(patches) * (time_grid.shape[0] - 4)"
   ]
  },
  {
   "cell_type": "code",
   "execution_count": 52,
   "metadata": {},
   "outputs": [],
   "source": [
    "class CustomDataset(Dataset):\n",
    "    def __init__(\n",
    "        self, \n",
    "        X, \n",
    "        patches, \n",
    "        frames_idx, \n",
    "        county_data=None, \n",
    "        county_defor=None,\n",
    "        precip_data=None,\n",
    "        tpi_data=None,\n",
    "        landcover_data=None,\n",
    "        scores_data=None,\n",
    "        night_data=None\n",
    "    ):\n",
    "        super(CustomDataset, self).__init__()\n",
    "\n",
    "        self.patches = patches\n",
    "        self.frames_idx = frames_idx\n",
    "        self.X = X\n",
    "        self.county_data = county_data\n",
    "        self.county_defor = county_defor\n",
    "        self.precip_data = precip_data\n",
    "        self.tpi_data = tpi_data\n",
    "        self.landcover_data = landcover_data\n",
    "        self.scores_data = scores_data\n",
    "        self.night_data = night_data\n",
    "\n",
    "        self.autor_window = 4\n",
    "        self.ix = frames_idx[\"x\"].min()\n",
    "        self.iy = frames_idx[\"y\"].min()\n",
    "\n",
    "    def __len__(self):\n",
    "        return len(self.patches) * (self.X.shape[0]-self.autor_window)\n",
    "\n",
    "    def __getitem__(self, index):\n",
    "\n",
    "        # get index info\n",
    "        idx_patch = index // (self.X.shape[0] - self.autor_window)\n",
    "        idx_time   = index % (self.X.shape[0] - self.autor_window)\n",
    "        idx_frames = self.frames_idx.loc[self.patches[idx_patch]]\n",
    "\n",
    "        # get input\n",
    "        input_matrix = self.X[\n",
    "            idx_time:idx_time+self.autor_window, \n",
    "            idx_frames[\"x\"].min()-self.ix:idx_frames[\"x\"].max()-self.ix+1, \n",
    "            idx_frames[\"y\"].min()-self.iy:idx_frames[\"y\"].max()-self.iy+1\n",
    "        ]\n",
    "\n",
    "        if self.county_data is not None:\n",
    "            input_matrix = np.concatenate([\n",
    "                input_matrix,\n",
    "                self.county_data[\n",
    "                    :,\n",
    "                    idx_frames[\"x\"].min()-self.ix:idx_frames[\"x\"].max()-self.ix+1, \n",
    "                    idx_frames[\"y\"].min()-self.iy:idx_frames[\"y\"].max()-self.iy+1\n",
    "                ]\n",
    "            ])\n",
    "        \n",
    "        if self.county_defor is not None:\n",
    "            input_matrix = np.concatenate([\n",
    "                input_matrix,\n",
    "                self.county_defor[\n",
    "                    idx_time:idx_time+self.autor_window,\n",
    "                    idx_frames[\"x\"].min()-self.ix:idx_frames[\"x\"].max()-self.ix+1, \n",
    "                    idx_frames[\"y\"].min()-self.iy:idx_frames[\"y\"].max()-self.iy+1\n",
    "                ]\n",
    "            ])\n",
    "        \n",
    "        if self.precip_data is not None:\n",
    "            input_matrix = np.concatenate([\n",
    "                input_matrix,\n",
    "                self.precip_data[\n",
    "                    idx_time:idx_time+self.autor_window,\n",
    "                    idx_frames[\"x\"].min()-self.ix:idx_frames[\"x\"].max()-self.ix+1, \n",
    "                    idx_frames[\"y\"].min()-self.iy:idx_frames[\"y\"].max()-self.iy+1\n",
    "                ]\n",
    "            ])\n",
    "        \n",
    "        if self.tpi_data is not None:\n",
    "            input_matrix = np.concatenate([\n",
    "                input_matrix,\n",
    "                self.tpi_data[\n",
    "                    :,\n",
    "                    idx_frames[\"x\"].min()-self.ix:idx_frames[\"x\"].max()-self.ix+1, \n",
    "                    idx_frames[\"y\"].min()-self.iy:idx_frames[\"y\"].max()-self.iy+1\n",
    "                ]\n",
    "            ])\n",
    "        \n",
    "        if self.landcover_data is not None:\n",
    "            input_matrix = np.concatenate([\n",
    "                input_matrix,\n",
    "                self.landcover_data[\n",
    "                    :,\n",
    "                    idx_frames[\"x\"].min()-self.ix:idx_frames[\"x\"].max()-self.ix+1, \n",
    "                    idx_frames[\"y\"].min()-self.iy:idx_frames[\"y\"].max()-self.iy+1\n",
    "                ]\n",
    "            ])\n",
    "        \n",
    "        if self.scores_data is not None:\n",
    "            input_matrix = np.concatenate([\n",
    "                input_matrix,\n",
    "                self.scores_data[\n",
    "                    [idx_time+self.autor_window],\n",
    "                    idx_frames[\"x\"].min()-self.ix:idx_frames[\"x\"].max()-self.ix+1, \n",
    "                    idx_frames[\"y\"].min()-self.iy:idx_frames[\"y\"].max()-self.iy+1\n",
    "                ]\n",
    "            ])\n",
    "        \n",
    "        if self.night_data is not None:\n",
    "            input_matrix = np.concatenate([\n",
    "                input_matrix,\n",
    "                self.night_data[\n",
    "                    :,\n",
    "                    idx_time+self.autor_window-1,\n",
    "                    idx_frames[\"x\"].min()-self.ix:idx_frames[\"x\"].max()-self.ix+1, \n",
    "                    idx_frames[\"y\"].min()-self.iy:idx_frames[\"y\"].max()-self.iy+1\n",
    "                ]\n",
    "            ])\n",
    "        data = torch.tensor(input_matrix).float().to(dev)\n",
    "\n",
    "        # get output\n",
    "        labels = np.zeros(\n",
    "            (\n",
    "                2, \n",
    "                idx_frames[\"x\"].max()-idx_frames[\"x\"].min() + 1, \n",
    "                idx_frames[\"y\"].max()-idx_frames[\"y\"].min() + 1\n",
    "            )\n",
    "        )\n",
    "        target_idx = np.where(\n",
    "            self.X[\n",
    "                idx_time+self.autor_window, \n",
    "                idx_frames[\"x\"].min()-self.ix:idx_frames[\"x\"].max()-self.ix+1, \n",
    "                idx_frames[\"y\"].min()-self.iy:idx_frames[\"y\"].max()-self.iy+1\n",
    "            ] > 1e-7\n",
    "        )\n",
    "        labels[0, :, :] = 1\n",
    "        labels[0, :, :][target_idx] = 0\n",
    "        labels[1, :, :][target_idx] = 1\n",
    "        labels = torch.tensor(labels).float().to(dev)\n",
    "        return data, labels"
   ]
  },
  {
   "cell_type": "code",
   "execution_count": 53,
   "metadata": {},
   "outputs": [
    {
     "data": {
      "text/plain": [
       "((12, 1002, 778), (8, 1002, 778), (8, 1002, 778))"
      ]
     },
     "execution_count": 53,
     "metadata": {},
     "output_type": "execute_result"
    }
   ],
   "source": [
    "train_data.shape, val_data.shape, test_data.shape"
   ]
  },
  {
   "cell_type": "code",
   "execution_count": 54,
   "metadata": {},
   "outputs": [],
   "source": [
    "# patches_sample_train = [patches[i] for i in np.random.choice(range(len(patches)), 100, replace=False)]\n",
    "# patches_sample_test = [patches[i] for i in np.random.choice(range(len(patches)), 10, replace=False)]\n",
    "\n",
    "# patches_sample_train = patches[:1]\n",
    "# patches_sample_test = patches[1:2]\n",
    "\n",
    "patches_sample_train = patches\n",
    "patches_sample_val = patches"
   ]
  },
  {
   "cell_type": "code",
   "execution_count": 55,
   "metadata": {},
   "outputs": [],
   "source": [
    "trainloader = torch.utils.data.DataLoader(\n",
    "    CustomDataset(\n",
    "        train_data, \n",
    "        patches_sample_train, \n",
    "        frames_idx, \n",
    "        county_data,\n",
    "        counties_time_grid,\n",
    "        precip_time_grid,\n",
    "        tpi_array,\n",
    "        landcover_array,\n",
    "        scores_time_grid,\n",
    "        night_time_grid\n",
    "    ),\n",
    "    batch_size=64,\n",
    "    shuffle=True\n",
    ")\n",
    "\n",
    "valloader = torch.utils.data.DataLoader(\n",
    "    CustomDataset(\n",
    "        test_data, \n",
    "        patches_sample_val, \n",
    "        frames_idx, \n",
    "        county_data,\n",
    "        counties_time_grid,\n",
    "        precip_time_grid,\n",
    "        tpi_array,\n",
    "        landcover_array,\n",
    "        scores_time_grid,\n",
    "        night_time_grid\n",
    "    ),\n",
    "    batch_size=1000,\n",
    "    shuffle=True\n",
    ")"
   ]
  },
  {
   "cell_type": "code",
   "execution_count": 56,
   "metadata": {},
   "outputs": [
    {
     "data": {
      "text/plain": [
       "(54, 2)"
      ]
     },
     "execution_count": 56,
     "metadata": {},
     "output_type": "execute_result"
    }
   ],
   "source": [
    "trainloader.__len__(), valloader.__len__()"
   ]
  },
  {
   "cell_type": "markdown",
   "metadata": {},
   "source": [
    "# Baseline Model\n",
    "\n",
    "Evaluate error without any model"
   ]
  },
  {
   "cell_type": "code",
   "execution_count": 84,
   "metadata": {},
   "outputs": [
    {
     "name": "stdout",
     "output_type": "stream",
     "text": [
      "Baseline Error (Train) = 0.000000\n"
     ]
    }
   ],
   "source": [
    "# baseline: all zero\n",
    "base_train_err = 0\n",
    "for inputs, labels in trainloader:\n",
    "    y_pred = torch.tensor(np.zeros(labels.shape)).to(dev)\n",
    "    y_pred[:, 0, :, :] = 1\n",
    "    break\n",
    "    base_train_err += ce_loss(input=y_pred, target=labels)\n",
    "base_train_err = base_train_err / len(trainloader)\n",
    "\n",
    "print(f\"Baseline Error (Train) = {base_train_err:.6f}\")"
   ]
  },
  {
   "cell_type": "code",
   "execution_count": 58,
   "metadata": {},
   "outputs": [
    {
     "name": "stdout",
     "output_type": "stream",
     "text": [
      "Baseline Error (Validation) = 0.335458\n"
     ]
    }
   ],
   "source": [
    "base_val_err = 0\n",
    "for inputs, labels in valloader:\n",
    "    y_pred = torch.tensor(np.zeros(labels.shape)).to(dev)\n",
    "    y_pred[:, 0, :, :] = 1\n",
    "    base_val_err += ce_loss(input=y_pred, target=labels)\n",
    "base_val_err = base_val_err / len(valloader)\n",
    "print(f\"Baseline Error (Validation) = {base_val_err:.6f}\")"
   ]
  },
  {
   "cell_type": "markdown",
   "metadata": {},
   "source": [
    "# Model Init"
   ]
  },
  {
   "cell_type": "code",
   "execution_count": 59,
   "metadata": {},
   "outputs": [],
   "source": [
    "import torch.optim as optim\n",
    "import segmentation_models_pytorch as smp"
   ]
  },
  {
   "cell_type": "code",
   "execution_count": 60,
   "metadata": {},
   "outputs": [
    {
     "data": {
      "text/plain": [
       "24"
      ]
     },
     "execution_count": 60,
     "metadata": {},
     "output_type": "execute_result"
    }
   ],
   "source": [
    "in_channels = 4+2+4+4+4+3+1+2\n",
    "in_channels"
   ]
  },
  {
   "cell_type": "code",
   "execution_count": 61,
   "metadata": {},
   "outputs": [],
   "source": [
    "# model = smp.Unet(\n",
    "#     encoder_name=\"resnet34\",\n",
    "#     in_channels=in_channels,\n",
    "#     classes=2,\n",
    "# )\n",
    "# optimizer = optim.Adam(model.parameters())"
   ]
  },
  {
   "cell_type": "code",
   "execution_count": 62,
   "metadata": {},
   "outputs": [],
   "source": [
    "model = smp.DeepLabV3Plus(\n",
    "    encoder_name=\"resnet34\",\n",
    "    in_channels=in_channels, \n",
    "    classes=2,\n",
    ")\n",
    "optimizer = optim.Adam(model.parameters(), lr=1e-4)"
   ]
  },
  {
   "cell_type": "code",
   "execution_count": 63,
   "metadata": {},
   "outputs": [],
   "source": [
    "# use gpu\n",
    "model = model.to(dev)"
   ]
  },
  {
   "cell_type": "code",
   "execution_count": 89,
   "metadata": {},
   "outputs": [
    {
     "data": {
      "text/plain": [
       "<All keys matched successfully>"
      ]
     },
     "execution_count": 89,
     "metadata": {},
     "output_type": "execute_result"
    }
   ],
   "source": [
    "model.load_state_dict(torch.load(r\"DeepLabV3+.pt\"))"
   ]
  },
  {
   "cell_type": "code",
   "execution_count": 90,
   "metadata": {},
   "outputs": [
    {
     "name": "stdout",
     "output_type": "stream",
     "text": [
      "DeepLabV3Plus(\n",
      "  (encoder): ResNetEncoder(\n",
      "    (conv1): Conv2d(24, 64, kernel_size=(7, 7), stride=(2, 2), padding=(3, 3), bias=False)\n",
      "    (bn1): BatchNorm2d(64, eps=1e-05, momentum=0.1, affine=True, track_running_stats=True)\n",
      "    (relu): ReLU(inplace=True)\n",
      "    (maxpool): MaxPool2d(kernel_size=3, stride=2, padding=1, dilation=1, ceil_mode=False)\n",
      "    (layer1): Sequential(\n",
      "      (0): BasicBlock(\n",
      "        (conv1): Conv2d(64, 64, kernel_size=(3, 3), stride=(1, 1), padding=(1, 1), bias=False)\n",
      "        (bn1): BatchNorm2d(64, eps=1e-05, momentum=0.1, affine=True, track_running_stats=True)\n",
      "        (relu): ReLU(inplace=True)\n",
      "        (conv2): Conv2d(64, 64, kernel_size=(3, 3), stride=(1, 1), padding=(1, 1), bias=False)\n",
      "        (bn2): BatchNorm2d(64, eps=1e-05, momentum=0.1, affine=True, track_running_stats=True)\n",
      "      )\n",
      "      (1): BasicBlock(\n",
      "        (conv1): Conv2d(64, 64, kernel_size=(3, 3), stride=(1, 1), padding=(1, 1), bias=False)\n",
      "        (bn1): BatchNorm2d(64, eps=1e-05, momentum=0.1, affine=True, track_running_stats=True)\n",
      "        (relu): ReLU(inplace=True)\n",
      "        (conv2): Conv2d(64, 64, kernel_size=(3, 3), stride=(1, 1), padding=(1, 1), bias=False)\n",
      "        (bn2): BatchNorm2d(64, eps=1e-05, momentum=0.1, affine=True, track_running_stats=True)\n",
      "      )\n",
      "      (2): BasicBlock(\n",
      "        (conv1): Conv2d(64, 64, kernel_size=(3, 3), stride=(1, 1), padding=(1, 1), bias=False)\n",
      "        (bn1): BatchNorm2d(64, eps=1e-05, momentum=0.1, affine=True, track_running_stats=True)\n",
      "        (relu): ReLU(inplace=True)\n",
      "        (conv2): Conv2d(64, 64, kernel_size=(3, 3), stride=(1, 1), padding=(1, 1), bias=False)\n",
      "        (bn2): BatchNorm2d(64, eps=1e-05, momentum=0.1, affine=True, track_running_stats=True)\n",
      "      )\n",
      "    )\n",
      "    (layer2): Sequential(\n",
      "      (0): BasicBlock(\n",
      "        (conv1): Conv2d(64, 128, kernel_size=(3, 3), stride=(2, 2), padding=(1, 1), bias=False)\n",
      "        (bn1): BatchNorm2d(128, eps=1e-05, momentum=0.1, affine=True, track_running_stats=True)\n",
      "        (relu): ReLU(inplace=True)\n",
      "        (conv2): Conv2d(128, 128, kernel_size=(3, 3), stride=(1, 1), padding=(1, 1), bias=False)\n",
      "        (bn2): BatchNorm2d(128, eps=1e-05, momentum=0.1, affine=True, track_running_stats=True)\n",
      "        (downsample): Sequential(\n",
      "          (0): Conv2d(64, 128, kernel_size=(1, 1), stride=(2, 2), bias=False)\n",
      "          (1): BatchNorm2d(128, eps=1e-05, momentum=0.1, affine=True, track_running_stats=True)\n",
      "        )\n",
      "      )\n",
      "      (1): BasicBlock(\n",
      "        (conv1): Conv2d(128, 128, kernel_size=(3, 3), stride=(1, 1), padding=(1, 1), bias=False)\n",
      "        (bn1): BatchNorm2d(128, eps=1e-05, momentum=0.1, affine=True, track_running_stats=True)\n",
      "        (relu): ReLU(inplace=True)\n",
      "        (conv2): Conv2d(128, 128, kernel_size=(3, 3), stride=(1, 1), padding=(1, 1), bias=False)\n",
      "        (bn2): BatchNorm2d(128, eps=1e-05, momentum=0.1, affine=True, track_running_stats=True)\n",
      "      )\n",
      "      (2): BasicBlock(\n",
      "        (conv1): Conv2d(128, 128, kernel_size=(3, 3), stride=(1, 1), padding=(1, 1), bias=False)\n",
      "        (bn1): BatchNorm2d(128, eps=1e-05, momentum=0.1, affine=True, track_running_stats=True)\n",
      "        (relu): ReLU(inplace=True)\n",
      "        (conv2): Conv2d(128, 128, kernel_size=(3, 3), stride=(1, 1), padding=(1, 1), bias=False)\n",
      "        (bn2): BatchNorm2d(128, eps=1e-05, momentum=0.1, affine=True, track_running_stats=True)\n",
      "      )\n",
      "      (3): BasicBlock(\n",
      "        (conv1): Conv2d(128, 128, kernel_size=(3, 3), stride=(1, 1), padding=(1, 1), bias=False)\n",
      "        (bn1): BatchNorm2d(128, eps=1e-05, momentum=0.1, affine=True, track_running_stats=True)\n",
      "        (relu): ReLU(inplace=True)\n",
      "        (conv2): Conv2d(128, 128, kernel_size=(3, 3), stride=(1, 1), padding=(1, 1), bias=False)\n",
      "        (bn2): BatchNorm2d(128, eps=1e-05, momentum=0.1, affine=True, track_running_stats=True)\n",
      "      )\n",
      "    )\n",
      "    (layer3): Sequential(\n",
      "      (0): BasicBlock(\n",
      "        (conv1): Conv2d(128, 256, kernel_size=(3, 3), stride=(2, 2), padding=(1, 1), bias=False)\n",
      "        (bn1): BatchNorm2d(256, eps=1e-05, momentum=0.1, affine=True, track_running_stats=True)\n",
      "        (relu): ReLU(inplace=True)\n",
      "        (conv2): Conv2d(256, 256, kernel_size=(3, 3), stride=(1, 1), padding=(1, 1), bias=False)\n",
      "        (bn2): BatchNorm2d(256, eps=1e-05, momentum=0.1, affine=True, track_running_stats=True)\n",
      "        (downsample): Sequential(\n",
      "          (0): Conv2d(128, 256, kernel_size=(1, 1), stride=(2, 2), bias=False)\n",
      "          (1): BatchNorm2d(256, eps=1e-05, momentum=0.1, affine=True, track_running_stats=True)\n",
      "        )\n",
      "      )\n",
      "      (1): BasicBlock(\n",
      "        (conv1): Conv2d(256, 256, kernel_size=(3, 3), stride=(1, 1), padding=(1, 1), bias=False)\n",
      "        (bn1): BatchNorm2d(256, eps=1e-05, momentum=0.1, affine=True, track_running_stats=True)\n",
      "        (relu): ReLU(inplace=True)\n",
      "        (conv2): Conv2d(256, 256, kernel_size=(3, 3), stride=(1, 1), padding=(1, 1), bias=False)\n",
      "        (bn2): BatchNorm2d(256, eps=1e-05, momentum=0.1, affine=True, track_running_stats=True)\n",
      "      )\n",
      "      (2): BasicBlock(\n",
      "        (conv1): Conv2d(256, 256, kernel_size=(3, 3), stride=(1, 1), padding=(1, 1), bias=False)\n",
      "        (bn1): BatchNorm2d(256, eps=1e-05, momentum=0.1, affine=True, track_running_stats=True)\n",
      "        (relu): ReLU(inplace=True)\n",
      "        (conv2): Conv2d(256, 256, kernel_size=(3, 3), stride=(1, 1), padding=(1, 1), bias=False)\n",
      "        (bn2): BatchNorm2d(256, eps=1e-05, momentum=0.1, affine=True, track_running_stats=True)\n",
      "      )\n",
      "      (3): BasicBlock(\n",
      "        (conv1): Conv2d(256, 256, kernel_size=(3, 3), stride=(1, 1), padding=(1, 1), bias=False)\n",
      "        (bn1): BatchNorm2d(256, eps=1e-05, momentum=0.1, affine=True, track_running_stats=True)\n",
      "        (relu): ReLU(inplace=True)\n",
      "        (conv2): Conv2d(256, 256, kernel_size=(3, 3), stride=(1, 1), padding=(1, 1), bias=False)\n",
      "        (bn2): BatchNorm2d(256, eps=1e-05, momentum=0.1, affine=True, track_running_stats=True)\n",
      "      )\n",
      "      (4): BasicBlock(\n",
      "        (conv1): Conv2d(256, 256, kernel_size=(3, 3), stride=(1, 1), padding=(1, 1), bias=False)\n",
      "        (bn1): BatchNorm2d(256, eps=1e-05, momentum=0.1, affine=True, track_running_stats=True)\n",
      "        (relu): ReLU(inplace=True)\n",
      "        (conv2): Conv2d(256, 256, kernel_size=(3, 3), stride=(1, 1), padding=(1, 1), bias=False)\n",
      "        (bn2): BatchNorm2d(256, eps=1e-05, momentum=0.1, affine=True, track_running_stats=True)\n",
      "      )\n",
      "      (5): BasicBlock(\n",
      "        (conv1): Conv2d(256, 256, kernel_size=(3, 3), stride=(1, 1), padding=(1, 1), bias=False)\n",
      "        (bn1): BatchNorm2d(256, eps=1e-05, momentum=0.1, affine=True, track_running_stats=True)\n",
      "        (relu): ReLU(inplace=True)\n",
      "        (conv2): Conv2d(256, 256, kernel_size=(3, 3), stride=(1, 1), padding=(1, 1), bias=False)\n",
      "        (bn2): BatchNorm2d(256, eps=1e-05, momentum=0.1, affine=True, track_running_stats=True)\n",
      "      )\n",
      "    )\n",
      "    (layer4): Sequential(\n",
      "      (0): BasicBlock(\n",
      "        (conv1): Conv2d(256, 512, kernel_size=(3, 3), stride=(1, 1), padding=(2, 2), dilation=(2, 2), bias=False)\n",
      "        (bn1): BatchNorm2d(512, eps=1e-05, momentum=0.1, affine=True, track_running_stats=True)\n",
      "        (relu): ReLU(inplace=True)\n",
      "        (conv2): Conv2d(512, 512, kernel_size=(3, 3), stride=(1, 1), padding=(2, 2), dilation=(2, 2), bias=False)\n",
      "        (bn2): BatchNorm2d(512, eps=1e-05, momentum=0.1, affine=True, track_running_stats=True)\n",
      "        (downsample): Sequential(\n",
      "          (0): Conv2d(256, 512, kernel_size=(1, 1), stride=(1, 1), dilation=(2, 2), bias=False)\n",
      "          (1): BatchNorm2d(512, eps=1e-05, momentum=0.1, affine=True, track_running_stats=True)\n",
      "        )\n",
      "      )\n",
      "      (1): BasicBlock(\n",
      "        (conv1): Conv2d(512, 512, kernel_size=(3, 3), stride=(1, 1), padding=(2, 2), dilation=(2, 2), bias=False)\n",
      "        (bn1): BatchNorm2d(512, eps=1e-05, momentum=0.1, affine=True, track_running_stats=True)\n",
      "        (relu): ReLU(inplace=True)\n",
      "        (conv2): Conv2d(512, 512, kernel_size=(3, 3), stride=(1, 1), padding=(2, 2), dilation=(2, 2), bias=False)\n",
      "        (bn2): BatchNorm2d(512, eps=1e-05, momentum=0.1, affine=True, track_running_stats=True)\n",
      "      )\n",
      "      (2): BasicBlock(\n",
      "        (conv1): Conv2d(512, 512, kernel_size=(3, 3), stride=(1, 1), padding=(2, 2), dilation=(2, 2), bias=False)\n",
      "        (bn1): BatchNorm2d(512, eps=1e-05, momentum=0.1, affine=True, track_running_stats=True)\n",
      "        (relu): ReLU(inplace=True)\n",
      "        (conv2): Conv2d(512, 512, kernel_size=(3, 3), stride=(1, 1), padding=(2, 2), dilation=(2, 2), bias=False)\n",
      "        (bn2): BatchNorm2d(512, eps=1e-05, momentum=0.1, affine=True, track_running_stats=True)\n",
      "      )\n",
      "    )\n",
      "  )\n",
      "  (decoder): DeepLabV3PlusDecoder(\n",
      "    (aspp): Sequential(\n",
      "      (0): ASPP(\n",
      "        (convs): ModuleList(\n",
      "          (0): Sequential(\n",
      "            (0): Conv2d(512, 256, kernel_size=(1, 1), stride=(1, 1), bias=False)\n",
      "            (1): BatchNorm2d(256, eps=1e-05, momentum=0.1, affine=True, track_running_stats=True)\n",
      "            (2): ReLU()\n",
      "          )\n",
      "          (1): ASPPSeparableConv(\n",
      "            (0): SeparableConv2d(\n",
      "              (0): Conv2d(512, 512, kernel_size=(3, 3), stride=(1, 1), padding=(12, 12), dilation=(12, 12), groups=512, bias=False)\n",
      "              (1): Conv2d(512, 256, kernel_size=(1, 1), stride=(1, 1), bias=False)\n",
      "            )\n",
      "            (1): BatchNorm2d(256, eps=1e-05, momentum=0.1, affine=True, track_running_stats=True)\n",
      "            (2): ReLU()\n",
      "          )\n",
      "          (2): ASPPSeparableConv(\n",
      "            (0): SeparableConv2d(\n",
      "              (0): Conv2d(512, 512, kernel_size=(3, 3), stride=(1, 1), padding=(24, 24), dilation=(24, 24), groups=512, bias=False)\n",
      "              (1): Conv2d(512, 256, kernel_size=(1, 1), stride=(1, 1), bias=False)\n",
      "            )\n",
      "            (1): BatchNorm2d(256, eps=1e-05, momentum=0.1, affine=True, track_running_stats=True)\n",
      "            (2): ReLU()\n",
      "          )\n",
      "          (3): ASPPSeparableConv(\n",
      "            (0): SeparableConv2d(\n",
      "              (0): Conv2d(512, 512, kernel_size=(3, 3), stride=(1, 1), padding=(36, 36), dilation=(36, 36), groups=512, bias=False)\n",
      "              (1): Conv2d(512, 256, kernel_size=(1, 1), stride=(1, 1), bias=False)\n",
      "            )\n",
      "            (1): BatchNorm2d(256, eps=1e-05, momentum=0.1, affine=True, track_running_stats=True)\n",
      "            (2): ReLU()\n",
      "          )\n",
      "          (4): ASPPPooling(\n",
      "            (0): AdaptiveAvgPool2d(output_size=1)\n",
      "            (1): Conv2d(512, 256, kernel_size=(1, 1), stride=(1, 1), bias=False)\n",
      "            (2): BatchNorm2d(256, eps=1e-05, momentum=0.1, affine=True, track_running_stats=True)\n",
      "            (3): ReLU()\n",
      "          )\n",
      "        )\n",
      "        (project): Sequential(\n",
      "          (0): Conv2d(1280, 256, kernel_size=(1, 1), stride=(1, 1), bias=False)\n",
      "          (1): BatchNorm2d(256, eps=1e-05, momentum=0.1, affine=True, track_running_stats=True)\n",
      "          (2): ReLU()\n",
      "          (3): Dropout(p=0.5, inplace=False)\n",
      "        )\n",
      "      )\n",
      "      (1): SeparableConv2d(\n",
      "        (0): Conv2d(256, 256, kernel_size=(3, 3), stride=(1, 1), padding=(1, 1), groups=256, bias=False)\n",
      "        (1): Conv2d(256, 256, kernel_size=(1, 1), stride=(1, 1), bias=False)\n",
      "      )\n",
      "      (2): BatchNorm2d(256, eps=1e-05, momentum=0.1, affine=True, track_running_stats=True)\n",
      "      (3): ReLU()\n",
      "    )\n",
      "    (up): UpsamplingBilinear2d(scale_factor=4.0, mode='bilinear')\n",
      "    (block1): Sequential(\n",
      "      (0): Conv2d(64, 48, kernel_size=(1, 1), stride=(1, 1), bias=False)\n",
      "      (1): BatchNorm2d(48, eps=1e-05, momentum=0.1, affine=True, track_running_stats=True)\n",
      "      (2): ReLU()\n",
      "    )\n",
      "    (block2): Sequential(\n",
      "      (0): SeparableConv2d(\n",
      "        (0): Conv2d(304, 304, kernel_size=(3, 3), stride=(1, 1), padding=(1, 1), groups=304, bias=False)\n",
      "        (1): Conv2d(304, 256, kernel_size=(1, 1), stride=(1, 1), bias=False)\n",
      "      )\n",
      "      (1): BatchNorm2d(256, eps=1e-05, momentum=0.1, affine=True, track_running_stats=True)\n",
      "      (2): ReLU()\n",
      "    )\n",
      "  )\n",
      "  (segmentation_head): SegmentationHead(\n",
      "    (0): Conv2d(256, 2, kernel_size=(1, 1), stride=(1, 1))\n",
      "    (1): UpsamplingBilinear2d(scale_factor=4.0, mode='bilinear')\n",
      "    (2): Activation(\n",
      "      (activation): Identity()\n",
      "    )\n",
      "  )\n",
      ")\n"
     ]
    }
   ],
   "source": [
    "print(model)"
   ]
  },
  {
   "cell_type": "code",
   "execution_count": 91,
   "metadata": {},
   "outputs": [
    {
     "name": "stdout",
     "output_type": "stream",
     "text": [
      "tensor(0.0553, device='cuda:0')\n",
      "tensor(0.1001, device='cuda:0')\n",
      "tensor(0.1533, device='cuda:0')\n",
      "tensor(0.2013, device='cuda:0')\n",
      "tensor(0.2717, device='cuda:0')\n",
      "tensor(0.3419, device='cuda:0')\n",
      "tensor(0.3854, device='cuda:0')\n",
      "tensor(0.4534, device='cuda:0')\n",
      "tensor(0.5165, device='cuda:0')\n",
      "tensor(0.5735, device='cuda:0')\n",
      "tensor(0.6287, device='cuda:0')\n",
      "tensor(0.6869, device='cuda:0')\n",
      "tensor(0.7518, device='cuda:0')\n",
      "tensor(0.7978, device='cuda:0')\n",
      "tensor(0.8652, device='cuda:0')\n",
      "tensor(0.9345, device='cuda:0')\n",
      "tensor(0.9924, device='cuda:0')\n",
      "tensor(1.0516, device='cuda:0')\n",
      "tensor(1.0986, device='cuda:0')\n",
      "tensor(1.1510, device='cuda:0')\n",
      "tensor(1.2222, device='cuda:0')\n",
      "tensor(1.2746, device='cuda:0')\n",
      "tensor(1.3379, device='cuda:0')\n",
      "tensor(1.3937, device='cuda:0')\n",
      "tensor(1.4410, device='cuda:0')\n",
      "tensor(1.4909, device='cuda:0')\n",
      "tensor(1.5408, device='cuda:0')\n",
      "tensor(1.6157, device='cuda:0')\n",
      "tensor(1.6793, device='cuda:0')\n",
      "tensor(1.7374, device='cuda:0')\n",
      "tensor(1.7860, device='cuda:0')\n",
      "tensor(1.8400, device='cuda:0')\n",
      "tensor(1.8827, device='cuda:0')\n",
      "tensor(1.9284, device='cuda:0')\n",
      "tensor(1.9917, device='cuda:0')\n",
      "tensor(2.0588, device='cuda:0')\n",
      "tensor(2.1143, device='cuda:0')\n",
      "tensor(2.1670, device='cuda:0')\n",
      "tensor(2.2380, device='cuda:0')\n",
      "tensor(2.3055, device='cuda:0')\n",
      "tensor(2.3528, device='cuda:0')\n",
      "tensor(2.4008, device='cuda:0')\n",
      "tensor(2.4574, device='cuda:0')\n",
      "tensor(2.5062, device='cuda:0')\n",
      "tensor(2.5563, device='cuda:0')\n",
      "tensor(2.6004, device='cuda:0')\n",
      "tensor(2.6498, device='cuda:0')\n",
      "tensor(2.7117, device='cuda:0')\n",
      "tensor(2.7639, device='cuda:0')\n",
      "tensor(2.8281, device='cuda:0')\n",
      "tensor(2.8801, device='cuda:0')\n",
      "tensor(2.9398, device='cuda:0')\n",
      "tensor(2.9980, device='cuda:0')\n",
      "tensor(3.0502, device='cuda:0')\n"
     ]
    }
   ],
   "source": [
    "# check for inifinty error\n",
    "train_err = 0\n",
    "for inputs, labels in trainloader:\n",
    "    y_pred = model(inputs).detach().to(dev)\n",
    "    train_err += ce_loss(input=y_pred, target=labels)\n",
    "    # train_err += WeightedBinaryCrossEntropy(labels, y_pred).detach().float().mean()\n",
    "    print(train_err)\n",
    "    if train_err > 1e9:\n",
    "        break"
   ]
  },
  {
   "cell_type": "markdown",
   "metadata": {},
   "source": [
    "# Train loop"
   ]
  },
  {
   "cell_type": "code",
   "execution_count": 67,
   "metadata": {},
   "outputs": [],
   "source": [
    "# train loop\n",
    "model.epoch = 0\n",
    "model.errs = []"
   ]
  },
  {
   "cell_type": "code",
   "execution_count": 68,
   "metadata": {},
   "outputs": [],
   "source": [
    "def evaluate_model(model, dataloader):\n",
    "    err = 0\n",
    "    for inputs, labels in dataloader:\n",
    "        y_pred = model(inputs).detach()\n",
    "        err += ce_loss(input=y_pred, target=labels)\n",
    "    err = err / len(dataloader)\n",
    "\n",
    "    return err"
   ]
  },
  {
   "cell_type": "code",
   "execution_count": 69,
   "metadata": {},
   "outputs": [],
   "source": [
    "def run_epoch():\n",
    "    model.epoch += 1\n",
    "    print(f\"\\nEpoch {model.epoch}\")\n",
    "    \n",
    "    train_err = 0\n",
    "    for inputs, labels in tqdm(trainloader):\n",
    "        y_pred = model(inputs)\n",
    "        loss = ce_loss(input=y_pred, target=labels)\n",
    "        optimizer.zero_grad()\n",
    "        loss.backward()\n",
    "        optimizer.step()\n",
    "        train_err += loss.detach()\n",
    "    train_err = train_err / len(trainloader)\n",
    "    \n",
    "    return train_err\n",
    "\n",
    "\n",
    "def train(n_epochs):\n",
    "    for epoch in range(n_epochs):\n",
    "        \n",
    "        # train for 1 epoch and compute error\n",
    "        train_err = run_epoch()\n",
    "\n",
    "        # compute validation error and save history            \n",
    "        val_err = evaluate_model(model, valloader)\n",
    "        model.errs.append([train_err, val_err])\n",
    "\n",
    "        print(f\"Epoch {model.epoch}: Train Loss = {train_err:.6f} | Validation Loss = {val_err:.6f}\")"
   ]
  },
  {
   "cell_type": "code",
   "execution_count": 70,
   "metadata": {},
   "outputs": [
    {
     "name": "stdout",
     "output_type": "stream",
     "text": [
      "\n",
      "Epoch 1\n"
     ]
    },
    {
     "name": "stderr",
     "output_type": "stream",
     "text": [
      "100%|██████████| 54/54 [00:14<00:00,  3.75it/s]\n"
     ]
    },
    {
     "name": "stdout",
     "output_type": "stream",
     "text": [
      "Epoch 1: Train Loss = 0.409587 | Validation Loss = 0.247303\n",
      "\n",
      "Epoch 2\n"
     ]
    },
    {
     "name": "stderr",
     "output_type": "stream",
     "text": [
      "100%|██████████| 54/54 [00:13<00:00,  3.94it/s]\n"
     ]
    },
    {
     "name": "stdout",
     "output_type": "stream",
     "text": [
      "Epoch 2: Train Loss = 0.168018 | Validation Loss = 0.136503\n",
      "\n",
      "Epoch 3\n"
     ]
    },
    {
     "name": "stderr",
     "output_type": "stream",
     "text": [
      "100%|██████████| 54/54 [00:13<00:00,  3.95it/s]\n"
     ]
    },
    {
     "name": "stdout",
     "output_type": "stream",
     "text": [
      "Epoch 3: Train Loss = 0.111913 | Validation Loss = 0.115455\n",
      "\n",
      "Epoch 4\n"
     ]
    },
    {
     "name": "stderr",
     "output_type": "stream",
     "text": [
      "100%|██████████| 54/54 [00:13<00:00,  3.96it/s]\n"
     ]
    },
    {
     "name": "stdout",
     "output_type": "stream",
     "text": [
      "Epoch 4: Train Loss = 0.093162 | Validation Loss = 0.104177\n",
      "\n",
      "Epoch 5\n"
     ]
    },
    {
     "name": "stderr",
     "output_type": "stream",
     "text": [
      "100%|██████████| 54/54 [00:13<00:00,  4.10it/s]\n"
     ]
    },
    {
     "name": "stdout",
     "output_type": "stream",
     "text": [
      "Epoch 5: Train Loss = 0.082289 | Validation Loss = 0.095674\n",
      "\n",
      "Epoch 6\n"
     ]
    },
    {
     "name": "stderr",
     "output_type": "stream",
     "text": [
      "100%|██████████| 54/54 [00:13<00:00,  3.96it/s]\n"
     ]
    },
    {
     "name": "stdout",
     "output_type": "stream",
     "text": [
      "Epoch 6: Train Loss = 0.077328 | Validation Loss = 0.095014\n",
      "\n",
      "Epoch 7\n"
     ]
    },
    {
     "name": "stderr",
     "output_type": "stream",
     "text": [
      "100%|██████████| 54/54 [00:13<00:00,  3.95it/s]\n"
     ]
    },
    {
     "name": "stdout",
     "output_type": "stream",
     "text": [
      "Epoch 7: Train Loss = 0.073260 | Validation Loss = 0.091343\n",
      "\n",
      "Epoch 8\n"
     ]
    },
    {
     "name": "stderr",
     "output_type": "stream",
     "text": [
      "100%|██████████| 54/54 [00:13<00:00,  4.03it/s]\n"
     ]
    },
    {
     "name": "stdout",
     "output_type": "stream",
     "text": [
      "Epoch 8: Train Loss = 0.070495 | Validation Loss = 0.089181\n",
      "\n",
      "Epoch 9\n"
     ]
    },
    {
     "name": "stderr",
     "output_type": "stream",
     "text": [
      "100%|██████████| 54/54 [00:13<00:00,  4.02it/s]\n"
     ]
    },
    {
     "name": "stdout",
     "output_type": "stream",
     "text": [
      "Epoch 9: Train Loss = 0.068610 | Validation Loss = 0.088987\n",
      "\n",
      "Epoch 10\n"
     ]
    },
    {
     "name": "stderr",
     "output_type": "stream",
     "text": [
      "100%|██████████| 54/54 [00:13<00:00,  4.11it/s]\n"
     ]
    },
    {
     "name": "stdout",
     "output_type": "stream",
     "text": [
      "Epoch 10: Train Loss = 0.067236 | Validation Loss = 0.088989\n",
      "\n",
      "Epoch 11\n"
     ]
    },
    {
     "name": "stderr",
     "output_type": "stream",
     "text": [
      "100%|██████████| 54/54 [00:13<00:00,  4.00it/s]\n"
     ]
    },
    {
     "name": "stdout",
     "output_type": "stream",
     "text": [
      "Epoch 11: Train Loss = 0.066347 | Validation Loss = 0.086105\n",
      "\n",
      "Epoch 12\n"
     ]
    },
    {
     "name": "stderr",
     "output_type": "stream",
     "text": [
      "100%|██████████| 54/54 [00:13<00:00,  3.91it/s]\n"
     ]
    },
    {
     "name": "stdout",
     "output_type": "stream",
     "text": [
      "Epoch 12: Train Loss = 0.064854 | Validation Loss = 0.087239\n",
      "\n",
      "Epoch 13\n"
     ]
    },
    {
     "name": "stderr",
     "output_type": "stream",
     "text": [
      "100%|██████████| 54/54 [00:13<00:00,  3.88it/s]\n"
     ]
    },
    {
     "name": "stdout",
     "output_type": "stream",
     "text": [
      "Epoch 13: Train Loss = 0.064081 | Validation Loss = 0.085765\n",
      "\n",
      "Epoch 14\n"
     ]
    },
    {
     "name": "stderr",
     "output_type": "stream",
     "text": [
      "100%|██████████| 54/54 [00:13<00:00,  3.87it/s]\n"
     ]
    },
    {
     "name": "stdout",
     "output_type": "stream",
     "text": [
      "Epoch 14: Train Loss = 0.063029 | Validation Loss = 0.085466\n",
      "\n",
      "Epoch 15\n"
     ]
    },
    {
     "name": "stderr",
     "output_type": "stream",
     "text": [
      "100%|██████████| 54/54 [00:14<00:00,  3.85it/s]\n"
     ]
    },
    {
     "name": "stdout",
     "output_type": "stream",
     "text": [
      "Epoch 15: Train Loss = 0.062471 | Validation Loss = 0.085797\n",
      "\n",
      "Epoch 16\n"
     ]
    },
    {
     "name": "stderr",
     "output_type": "stream",
     "text": [
      "100%|██████████| 54/54 [00:13<00:00,  3.92it/s]\n"
     ]
    },
    {
     "name": "stdout",
     "output_type": "stream",
     "text": [
      "Epoch 16: Train Loss = 0.062024 | Validation Loss = 0.084858\n",
      "\n",
      "Epoch 17\n"
     ]
    },
    {
     "name": "stderr",
     "output_type": "stream",
     "text": [
      "100%|██████████| 54/54 [00:13<00:00,  3.92it/s]\n"
     ]
    },
    {
     "name": "stdout",
     "output_type": "stream",
     "text": [
      "Epoch 17: Train Loss = 0.061194 | Validation Loss = 0.085231\n",
      "\n",
      "Epoch 18\n"
     ]
    },
    {
     "name": "stderr",
     "output_type": "stream",
     "text": [
      "100%|██████████| 54/54 [00:13<00:00,  3.90it/s]\n"
     ]
    },
    {
     "name": "stdout",
     "output_type": "stream",
     "text": [
      "Epoch 18: Train Loss = 0.060715 | Validation Loss = 0.084008\n",
      "\n",
      "Epoch 19\n"
     ]
    },
    {
     "name": "stderr",
     "output_type": "stream",
     "text": [
      "100%|██████████| 54/54 [00:13<00:00,  3.89it/s]\n"
     ]
    },
    {
     "name": "stdout",
     "output_type": "stream",
     "text": [
      "Epoch 19: Train Loss = 0.060309 | Validation Loss = 0.085633\n",
      "\n",
      "Epoch 20\n"
     ]
    },
    {
     "name": "stderr",
     "output_type": "stream",
     "text": [
      "100%|██████████| 54/54 [00:13<00:00,  3.87it/s]\n"
     ]
    },
    {
     "name": "stdout",
     "output_type": "stream",
     "text": [
      "Epoch 20: Train Loss = 0.060083 | Validation Loss = 0.086493\n",
      "\n",
      "Epoch 21\n"
     ]
    },
    {
     "name": "stderr",
     "output_type": "stream",
     "text": [
      "100%|██████████| 54/54 [00:13<00:00,  4.04it/s]\n"
     ]
    },
    {
     "name": "stdout",
     "output_type": "stream",
     "text": [
      "Epoch 21: Train Loss = 0.059626 | Validation Loss = 0.083972\n",
      "\n",
      "Epoch 22\n"
     ]
    },
    {
     "name": "stderr",
     "output_type": "stream",
     "text": [
      "100%|██████████| 54/54 [00:13<00:00,  3.98it/s]\n"
     ]
    },
    {
     "name": "stdout",
     "output_type": "stream",
     "text": [
      "Epoch 22: Train Loss = 0.059287 | Validation Loss = 0.084604\n",
      "\n",
      "Epoch 23\n"
     ]
    },
    {
     "name": "stderr",
     "output_type": "stream",
     "text": [
      "100%|██████████| 54/54 [00:13<00:00,  4.03it/s]\n"
     ]
    },
    {
     "name": "stdout",
     "output_type": "stream",
     "text": [
      "Epoch 23: Train Loss = 0.058663 | Validation Loss = 0.084165\n",
      "\n",
      "Epoch 24\n"
     ]
    },
    {
     "name": "stderr",
     "output_type": "stream",
     "text": [
      "100%|██████████| 54/54 [00:13<00:00,  4.00it/s]\n"
     ]
    },
    {
     "name": "stdout",
     "output_type": "stream",
     "text": [
      "Epoch 24: Train Loss = 0.058489 | Validation Loss = 0.083800\n",
      "\n",
      "Epoch 25\n"
     ]
    },
    {
     "name": "stderr",
     "output_type": "stream",
     "text": [
      "100%|██████████| 54/54 [00:14<00:00,  3.85it/s]\n"
     ]
    },
    {
     "name": "stdout",
     "output_type": "stream",
     "text": [
      "Epoch 25: Train Loss = 0.058022 | Validation Loss = 0.084667\n",
      "\n",
      "Epoch 26\n"
     ]
    },
    {
     "name": "stderr",
     "output_type": "stream",
     "text": [
      "100%|██████████| 54/54 [00:13<00:00,  3.95it/s]\n"
     ]
    },
    {
     "name": "stdout",
     "output_type": "stream",
     "text": [
      "Epoch 26: Train Loss = 0.057849 | Validation Loss = 0.085181\n",
      "\n",
      "Epoch 27\n"
     ]
    },
    {
     "name": "stderr",
     "output_type": "stream",
     "text": [
      "100%|██████████| 54/54 [00:13<00:00,  3.86it/s]\n"
     ]
    },
    {
     "name": "stdout",
     "output_type": "stream",
     "text": [
      "Epoch 27: Train Loss = 0.057354 | Validation Loss = 0.086016\n",
      "\n",
      "Epoch 28\n"
     ]
    },
    {
     "name": "stderr",
     "output_type": "stream",
     "text": [
      "100%|██████████| 54/54 [00:13<00:00,  3.92it/s]\n"
     ]
    },
    {
     "name": "stdout",
     "output_type": "stream",
     "text": [
      "Epoch 28: Train Loss = 0.057305 | Validation Loss = 0.084426\n",
      "\n",
      "Epoch 29\n"
     ]
    },
    {
     "name": "stderr",
     "output_type": "stream",
     "text": [
      "100%|██████████| 54/54 [00:13<00:00,  3.97it/s]\n"
     ]
    },
    {
     "name": "stdout",
     "output_type": "stream",
     "text": [
      "Epoch 29: Train Loss = 0.057053 | Validation Loss = 0.083728\n",
      "\n",
      "Epoch 30\n"
     ]
    },
    {
     "name": "stderr",
     "output_type": "stream",
     "text": [
      "100%|██████████| 54/54 [00:13<00:00,  4.03it/s]\n"
     ]
    },
    {
     "name": "stdout",
     "output_type": "stream",
     "text": [
      "Epoch 30: Train Loss = 0.056600 | Validation Loss = 0.084623\n"
     ]
    }
   ],
   "source": [
    "train(30)"
   ]
  },
  {
   "cell_type": "markdown",
   "metadata": {},
   "source": [
    "Better than baseline?"
   ]
  },
  {
   "cell_type": "code",
   "execution_count": 71,
   "metadata": {},
   "outputs": [
    {
     "data": {
      "text/plain": [
       "(-0.27317606570933556, -0.2509159315031565)"
      ]
     },
     "execution_count": 71,
     "metadata": {},
     "output_type": "execute_result"
    }
   ],
   "source": [
    "(\n",
    "    float(model.errs[-1][0] - base_train_err), \n",
    "    float(model.errs[-1][1] - base_val_err)\n",
    ")"
   ]
  },
  {
   "cell_type": "markdown",
   "metadata": {},
   "source": [
    "Learning curve"
   ]
  },
  {
   "cell_type": "code",
   "execution_count": 72,
   "metadata": {},
   "outputs": [
    {
     "data": {
      "image/png": "[encoded data removed]",
      "text/plain": [
       "<Figure size 640x480 with 1 Axes>"
      ]
     },
     "metadata": {},
     "output_type": "display_data"
    },
    {
     "data": {
      "image/png": "[encoded data removed]",
      "text/plain": [
       "<Figure size 640x480 with 1 Axes>"
      ]
     },
     "metadata": {},
     "output_type": "display_data"
    }
   ],
   "source": [
    "import matplotlib.pyplot as plt\n",
    "\n",
    "plt.plot([float(e[0]) for e in model.errs])\n",
    "plt.title(\"Train loss\")\n",
    "plt.show()\n",
    "plt.plot([float(e[1]) for e in model.errs])\n",
    "plt.title(\"Validation loss\")\n",
    "plt.show()"
   ]
  },
  {
   "cell_type": "markdown",
   "metadata": {},
   "source": [
    "# Confusion Matrix"
   ]
  },
  {
   "cell_type": "code",
   "execution_count": 99,
   "metadata": {},
   "outputs": [],
   "source": [
    "# softmax function will be needed\n",
    "softmax_ = nn.Softmax(dim=1)"
   ]
  },
  {
   "cell_type": "markdown",
   "metadata": {},
   "source": [
    "## Train"
   ]
  },
  {
   "cell_type": "code",
   "execution_count": 141,
   "metadata": {},
   "outputs": [],
   "source": [
    "# get prediction values as binary\n",
    "y_true = []\n",
    "y_pred = []\n",
    "for inputs, labels in trainloader:\n",
    "    y_hat = model(inputs).detach()\n",
    "    y_true.append(labels[:, 1, :, :].cpu())\n",
    "    y_pred.append(softmax_(y_hat)[:, 1, :, :].cpu())"
   ]
  },
  {
   "cell_type": "code",
   "execution_count": 142,
   "metadata": {},
   "outputs": [],
   "source": [
    "# flatten\n",
    "y_true = np.concatenate(y_true).flatten() \n",
    "y_pred = np.concatenate(y_pred).flatten()"
   ]
  },
  {
   "cell_type": "code",
   "execution_count": 164,
   "metadata": {},
   "outputs": [
    {
     "data": {
      "image/png": "[encoded data removed]",
      "text/plain": [
       "<Figure size 1200x400 with 1 Axes>"
      ]
     },
     "metadata": {},
     "output_type": "display_data"
    }
   ],
   "source": [
    "# get predictions distribution\n",
    "fig, ax = plt.subplots(figsize=(12, 4))\n",
    "sns.histplot(100*y_pred, binwidth=1, ax=ax)\n",
    "ax.set_title(\"Predicted probabilities distribution\")\n",
    "ax.set_xlabel(\"%\")\n",
    "plt.show()"
   ]
  },
  {
   "cell_type": "code",
   "execution_count": 139,
   "metadata": {},
   "outputs": [
    {
     "name": "stderr",
     "output_type": "stream",
     "text": [
      "100%|██████████| 20/20 [00:41<00:00,  2.09s/it]\n"
     ]
    }
   ],
   "source": [
    "# select probability treshold\n",
    "from sklearn.metrics import f1_score\n",
    "\n",
    "scores = []\n",
    "for p_treshold in tqdm(range(1, 21)):\n",
    "    scores.append(\n",
    "        f1_score(\n",
    "            y_true, \n",
    "            y_pred > p_treshold / 100\n",
    "        )\n",
    "    )"
   ]
  },
  {
   "cell_type": "code",
   "execution_count": 165,
   "metadata": {},
   "outputs": [
    {
     "data": {
      "image/png": "[encoded data removed]",
      "text/plain": [
       "<Figure size 640x480 with 1 Axes>"
      ]
     },
     "metadata": {},
     "output_type": "display_data"
    }
   ],
   "source": [
    "g = sns.lineplot(x=range(1, 21), y=scores)\n",
    "g.set_xlabel(\"%\")\n",
    "g.set_ylabel(\"F1-Score\")\n",
    "plt.show()"
   ]
  },
  {
   "cell_type": "code",
   "execution_count": 166,
   "metadata": {},
   "outputs": [
    {
     "data": {
      "text/plain": [
       "array([[0.96579345, 0.03420655],\n",
       "       [0.48358786, 0.51641214]])"
      ]
     },
     "execution_count": 166,
     "metadata": {},
     "output_type": "execute_result"
    }
   ],
   "source": [
    "# apply confusion matrix with probability treshold\n",
    "p_treshold = 0.1\n",
    "\n",
    "from sklearn.metrics import confusion_matrix\n",
    "confusion_matrix(\n",
    "    y_true, \n",
    "    y_pred > p_treshold,\n",
    "    normalize=\"true\"\n",
    ")"
   ]
  },
  {
   "cell_type": "code",
   "execution_count": 167,
   "metadata": {},
   "outputs": [
    {
     "data": {
      "text/plain": [
       "0.29065457546464096"
      ]
     },
     "execution_count": 167,
     "metadata": {},
     "output_type": "execute_result"
    }
   ],
   "source": [
    "f1_score(\n",
    "    y_true, \n",
    "    y_pred > p_treshold\n",
    ")"
   ]
  },
  {
   "cell_type": "markdown",
   "metadata": {},
   "source": [
    "# Prediction example"
   ]
  },
  {
   "cell_type": "code",
   "execution_count": 168,
   "metadata": {},
   "outputs": [],
   "source": [
    "def get_sample(min_area=0.1, dataloader=trainloader):\n",
    "    for input_, truth in dataloader:\n",
    "        batches = list(range(truth.shape[0])) \n",
    "        shuffle(batches)\n",
    "        for idx_batch in batches:\n",
    "            if truth[idx_batch, 1, :, :].mean() > min_area:\n",
    "                return input_, truth, idx_batch"
   ]
  },
  {
   "cell_type": "code",
   "execution_count": 169,
   "metadata": {},
   "outputs": [],
   "source": [
    "input_, truth, idx_batch = get_sample(0.01, trainloader)\n",
    "\n",
    "pred = model(input_)"
   ]
  },
  {
   "cell_type": "code",
   "execution_count": 170,
   "metadata": {},
   "outputs": [
    {
     "data": {
      "image/png": "[encoded data removed]",
      "text/plain": [
       "<Figure size 2400x800 with 4 Axes>"
      ]
     },
     "metadata": {},
     "output_type": "display_data"
    }
   ],
   "source": [
    "fig, ax = plt.subplots(1, 4, figsize=(24, 8))\n",
    "for i in range(4):\n",
    "    ax[i].matshow(input_[idx_batch, i, :, :].cpu(), cmap=\"gnuplot\", vmin=truth.min(), vmax=truth.max())\n",
    "plt.show()"
   ]
  },
  {
   "cell_type": "code",
   "execution_count": 171,
   "metadata": {},
   "outputs": [
    {
     "name": "stderr",
     "output_type": "stream",
     "text": [
      "C:\\Users\\giovanni\\AppData\\Local\\Temp\\ipykernel_14064\\3523613288.py:6: UserWarning: Matplotlib is currently using module://matplotlib_inline.backend_inline, which is a non-GUI backend, so cannot show the figure.\n",
      "  fig.show()\n"
     ]
    },
    {
     "data": {
      "image/png": "[encoded data removed]",
      "text/plain": [
       "<Figure size 800x600 with 4 Axes>"
      ]
     },
     "metadata": {},
     "output_type": "display_data"
    }
   ],
   "source": [
    "fig, ax = plt.subplots(1, 2, figsize=(8, 6))\n",
    "m1 = ax[0].matshow(truth[idx_batch, 1, :, :].cpu(), cmap=\"gnuplot\", vmin=truth.min(), vmax=truth.max())\n",
    "m2 = ax[1].matshow(softmax_(pred).detach().cpu().numpy()[idx_batch, 1, :, :], cmap=\"gnuplot\", vmin=truth.min(), vmax=1)\n",
    "fig.colorbar(m1)\n",
    "fig.colorbar(m2)\n",
    "fig.show()"
   ]
  },
  {
   "cell_type": "markdown",
   "metadata": {},
   "source": [
    "# Save model"
   ]
  },
  {
   "cell_type": "code",
   "execution_count": 78,
   "metadata": {},
   "outputs": [],
   "source": [
    "torch.save(model.state_dict(), r\"DeepLabV3+.pt\")"
   ]
  }
 ],
 "metadata": {
  "kernelspec": {
   "display_name": "venv_dl2cv",
   "language": "python",
   "name": "python3"
  },
  "language_info": {
   "codemirror_mode": {
    "name": "ipython",
    "version": 3
   },
   "file_extension": ".py",
   "mimetype": "text/x-python",
   "name": "python",
   "nbconvert_exporter": "python",
   "pygments_lexer": "ipython3",
   "version": "3.11.5"
  },
  "orig_nbformat": 4
 },
 "nbformat": 4,
 "nbformat_minor": 2
}
