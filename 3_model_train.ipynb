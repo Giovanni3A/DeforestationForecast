{
 "cells": [
  {
   "cell_type": "code",
   "execution_count": 1,
   "metadata": {},
   "outputs": [],
   "source": [
    "import numpy as np\n",
    "import pandas as pd\n",
    "import geopandas as gpd\n",
    "from tqdm import tqdm\n",
    "\n",
    "import matplotlib.pyplot as plt\n",
    "import seaborn as sns\n",
    "\n",
    "import config\n",
    "from utils import compute_frames"
   ]
  },
  {
   "cell_type": "code",
   "execution_count": 2,
   "metadata": {},
   "outputs": [],
   "source": [
    "import torch\n",
    "from torch.utils.data import Dataset"
   ]
  },
  {
   "cell_type": "code",
   "execution_count": 3,
   "metadata": {},
   "outputs": [],
   "source": [
    "dev = \"cuda:0\""
   ]
  },
  {
   "cell_type": "markdown",
   "metadata": {},
   "source": [
    "# History dataset generation"
   ]
  },
  {
   "cell_type": "code",
   "execution_count": 4,
   "metadata": {},
   "outputs": [],
   "source": [
    "# load legal amazon limits\n",
    "am_bounds = gpd.read_file(config.AMAZON_FRONTIER_DATA)"
   ]
  },
  {
   "cell_type": "code",
   "execution_count": 5,
   "metadata": {},
   "outputs": [],
   "source": [
    "# load frames idx detail\n",
    "frames_idx = pd.read_csv(config.TR_FRAMES_IDX, index_col=0)"
   ]
  },
  {
   "cell_type": "code",
   "execution_count": 6,
   "metadata": {},
   "outputs": [],
   "source": [
    "# load frames deforestation area history\n",
    "deforestation = pd.read_csv(config.TR_DEFORESTATION, index_col=0)\n",
    "deforestation[\"quarter_date\"] = pd.to_datetime(deforestation[\"quarter_date\"])"
   ]
  },
  {
   "cell_type": "code",
   "execution_count": 7,
   "metadata": {},
   "outputs": [],
   "source": [
    "# counties\n",
    "frames_county = pd.read_csv(config.TR_COUNTIES, index_col=0)\n",
    "counties_defor = pd.read_csv(config.TR_COUNTIES_DEFOR, index_col=0)"
   ]
  },
  {
   "cell_type": "code",
   "execution_count": 8,
   "metadata": {},
   "outputs": [],
   "source": [
    "# precipitations\n",
    "precip = pd.read_csv(config.TR_RAIN_AVG)\n",
    "precip[\"quarter_date\"] = pd.to_datetime(precip[\"dt\"])"
   ]
  },
  {
   "cell_type": "code",
   "execution_count": 9,
   "metadata": {},
   "outputs": [],
   "source": [
    "# terrain position index\n",
    "tpi = pd.read_csv(config.TR_TPI, skiprows=1)\\\n",
    "    .rename(columns={\"Unnamed: 0\": \"frame_id\"})"
   ]
  },
  {
   "cell_type": "code",
   "execution_count": 10,
   "metadata": {},
   "outputs": [],
   "source": [
    "# land cover\n",
    "landcover = pd.read_csv(config.TR_LANDCOVER)\n",
    "landcover = pd.pivot_table(\n",
    "    landcover, \n",
    "    index=[\"frame_id\"], \n",
    "    columns=[\"landcover\"], \n",
    "    values=\"geometry\", \n",
    "    aggfunc=\"sum\"\n",
    ").fillna(0).astype(int)\n",
    "# convert to percentage\n",
    "sum_by_frame = landcover.sum(axis=1)\n",
    "for col in landcover.columns:\n",
    "    landcover[col] = landcover[col] / sum_by_frame"
   ]
  },
  {
   "cell_type": "code",
   "execution_count": 12,
   "metadata": {},
   "outputs": [],
   "source": [
    "# past scores\n",
    "past_scores = pd.read_csv(config.TR_PAST_SCORES)"
   ]
  },
  {
   "cell_type": "markdown",
   "metadata": {},
   "source": [
    "## Create grid"
   ]
  },
  {
   "cell_type": "code",
   "execution_count": 13,
   "metadata": {},
   "outputs": [],
   "source": [
    "# create limits history grid\n",
    "time_grid = np.zeros((len(config.TIME_STEPS), frames_idx[\"x\"].max() - frames_idx[\"x\"].min() + 1, frames_idx[\"y\"].max() - frames_idx[\"y\"].min() + 1))\n",
    "for t, dt in enumerate(config.TIME_STEPS):\n",
    "    defor_area = (\n",
    "        deforestation[\n",
    "            deforestation[\"quarter_date\"] == dt\n",
    "        ].set_index(\"frame_id\")[\"area\"] +\\\n",
    "        pd.Series(0, index=frames_idx.index)\n",
    "    ).fillna(0).sort_index()\n",
    "    time_grid[t, :, :] = defor_area.values.reshape(time_grid[0, :, :].shape)"
   ]
  },
  {
   "cell_type": "code",
   "execution_count": 14,
   "metadata": {},
   "outputs": [
    {
     "data": {
      "text/plain": [
       "(28, 1002, 778)"
      ]
     },
     "execution_count": 14,
     "metadata": {},
     "output_type": "execute_result"
    }
   ],
   "source": [
    "time_grid.shape"
   ]
  },
  {
   "cell_type": "markdown",
   "metadata": {},
   "source": [
    "# Counties data"
   ]
  },
  {
   "cell_type": "markdown",
   "metadata": {},
   "source": [
    "## Population and density"
   ]
  },
  {
   "cell_type": "code",
   "execution_count": 15,
   "metadata": {},
   "outputs": [],
   "source": [
    "county_data = np.zeros((2, frames_idx[\"x\"].max() - frames_idx[\"x\"].min() + 1, frames_idx[\"y\"].max() - frames_idx[\"y\"].min() + 1))\n",
    "county_data[0] = (\n",
    "    frames_county.set_index(\"frame_id\")[\"populacao\"] +\\\n",
    "    pd.Series(0, index=frames_idx.index)\n",
    ").fillna(0).\\\n",
    "    values.reshape(county_data.shape[1:])\n",
    "\n",
    "county_data[1] = (\n",
    "    frames_county.set_index(\"frame_id\")[\"densidade\"] +\\\n",
    "    pd.Series(0, index=frames_idx.index)\n",
    ").fillna(0).\\\n",
    "    values.reshape(county_data.shape[1:])"
   ]
  },
  {
   "cell_type": "markdown",
   "metadata": {},
   "source": [
    "## Deforestation"
   ]
  },
  {
   "cell_type": "code",
   "execution_count": 16,
   "metadata": {},
   "outputs": [],
   "source": [
    "frames_counties_defor = pd.merge(\n",
    "    counties_defor,\n",
    "    frames_county[[\"frame_id\", \"county_id\"]],\n",
    "    on=\"county_id\",\n",
    "    how=\"right\"\n",
    ")\n",
    "frames_counties_defor[\"quarter_date\"] = pd.to_datetime(frames_counties_defor[\"quarter_date\"])"
   ]
  },
  {
   "cell_type": "code",
   "execution_count": 17,
   "metadata": {},
   "outputs": [
    {
     "name": "stderr",
     "output_type": "stream",
     "text": [
      "28it [00:04,  6.84it/s]\n"
     ]
    }
   ],
   "source": [
    "# create limits history grid\n",
    "counties_time_grid = np.zeros((len(config.TIME_STEPS), frames_idx[\"x\"].max() - frames_idx[\"x\"].min() + 1, frames_idx[\"y\"].max() - frames_idx[\"y\"].min() + 1))\n",
    "for t, dt in tqdm(enumerate(config.TIME_STEPS)):\n",
    "    defor_area = (\n",
    "        frames_counties_defor[\n",
    "            frames_counties_defor[\"quarter_date\"] == dt\n",
    "        ].set_index(\"frame_id\")[\"area\"] +\\\n",
    "        pd.Series(0, index=frames_idx.index)\n",
    "    ).fillna(0).sort_index()\n",
    "    counties_time_grid[t, :, :] = defor_area.values.reshape(counties_time_grid[0, :, :].shape)"
   ]
  },
  {
   "cell_type": "code",
   "execution_count": 18,
   "metadata": {},
   "outputs": [
    {
     "data": {
      "text/plain": [
       "(28, 1002, 778)"
      ]
     },
     "execution_count": 18,
     "metadata": {},
     "output_type": "execute_result"
    }
   ],
   "source": [
    "counties_time_grid.shape"
   ]
  },
  {
   "cell_type": "markdown",
   "metadata": {},
   "source": [
    "# Precipitations"
   ]
  },
  {
   "cell_type": "code",
   "execution_count": 19,
   "metadata": {},
   "outputs": [
    {
     "name": "stderr",
     "output_type": "stream",
     "text": [
      "28it [00:03,  8.34it/s]\n"
     ]
    }
   ],
   "source": [
    "# create limits history grid\n",
    "precip_time_grid = np.zeros((len(config.TIME_STEPS), frames_idx[\"x\"].max() - frames_idx[\"x\"].min() + 1, frames_idx[\"y\"].max() - frames_idx[\"y\"].min() + 1))\n",
    "for t, dt in tqdm(enumerate(config.TIME_STEPS)):\n",
    "    precip_sum = (\n",
    "        precip[\n",
    "            precip[\"quarter_date\"] == dt\n",
    "        ].set_index(\"frame_id\")[\"precipitation\"] +\\\n",
    "        pd.Series(0, index=frames_idx.index)\n",
    "    ).fillna(0).sort_index()\n",
    "    precip_time_grid[t, :, :] = precip_sum.values.reshape(counties_time_grid[0, :, :].shape)"
   ]
  },
  {
   "cell_type": "code",
   "execution_count": 20,
   "metadata": {},
   "outputs": [
    {
     "data": {
      "text/plain": [
       "(28, 1002, 778)"
      ]
     },
     "execution_count": 20,
     "metadata": {},
     "output_type": "execute_result"
    }
   ],
   "source": [
    "precip_time_grid.shape"
   ]
  },
  {
   "cell_type": "markdown",
   "metadata": {},
   "source": [
    "# Terrain Position Index"
   ]
  },
  {
   "cell_type": "code",
   "execution_count": 21,
   "metadata": {},
   "outputs": [],
   "source": [
    "cols = [\"mean\", \"min\", \"max\", \"std\"]\n",
    "tpi_array = np.zeros((len(cols), frames_idx[\"x\"].max() - frames_idx[\"x\"].min() + 1, frames_idx[\"y\"].max() - frames_idx[\"y\"].min() + 1))\n",
    "for icol, col in enumerate(cols):\n",
    "    v = (\n",
    "        tpi.set_index(\"frame_id\")[col] +\\\n",
    "        pd.Series(0, index=frames_idx.index)\n",
    "    ).fillna(0).sort_index()\n",
    "    tpi_array[icol, :, :] = v.values.reshape(tpi_array[0, :, :].shape)"
   ]
  },
  {
   "cell_type": "code",
   "execution_count": 22,
   "metadata": {},
   "outputs": [
    {
     "data": {
      "text/plain": [
       "(4, 1002, 778)"
      ]
     },
     "execution_count": 22,
     "metadata": {},
     "output_type": "execute_result"
    }
   ],
   "source": [
    "tpi_array.shape"
   ]
  },
  {
   "cell_type": "markdown",
   "metadata": {},
   "source": [
    "# Land Cover"
   ]
  },
  {
   "cell_type": "code",
   "execution_count": 23,
   "metadata": {},
   "outputs": [],
   "source": [
    "landcover_categories = [[20], [40, 50], [180]]\n",
    "landcover_array = np.zeros((len(landcover_categories), frames_idx[\"x\"].max() - frames_idx[\"x\"].min() + 1, frames_idx[\"y\"].max() - frames_idx[\"y\"].min() + 1))\n",
    "for i, cols in enumerate(landcover_categories):\n",
    "    v = (\n",
    "        landcover[cols].sum(axis=1) +\\\n",
    "        pd.Series(0, index=frames_idx.index)\n",
    "    ).fillna(0).sort_index()\n",
    "    landcover_array[i, :, :] = v.values.reshape(landcover_array[0, :, :].shape)"
   ]
  },
  {
   "cell_type": "code",
   "execution_count": 24,
   "metadata": {},
   "outputs": [
    {
     "data": {
      "text/plain": [
       "(3, 1002, 778)"
      ]
     },
     "execution_count": 24,
     "metadata": {},
     "output_type": "execute_result"
    }
   ],
   "source": [
    "landcover_array.shape"
   ]
  },
  {
   "cell_type": "markdown",
   "metadata": {},
   "source": [
    "# Past scores"
   ]
  },
  {
   "cell_type": "code",
   "execution_count": 26,
   "metadata": {},
   "outputs": [
    {
     "name": "stderr",
     "output_type": "stream",
     "text": [
      "28it [00:02, 10.48it/s]\n"
     ]
    }
   ],
   "source": [
    "# create history grid for scores\n",
    "scores_time_grid = np.zeros((len(config.TIME_STEPS), frames_idx[\"x\"].max() - frames_idx[\"x\"].min() + 1, frames_idx[\"y\"].max() - frames_idx[\"y\"].min() + 1))\n",
    "for t, dt in tqdm(enumerate(config.TIME_STEPS)):\n",
    "    t_scores = (\n",
    "        past_scores[\n",
    "            past_scores[\"variable\"] == dt\n",
    "        ].set_index(\"frame_id\")[\"value\"] +\\\n",
    "        pd.Series(0, index=frames_idx.index)\n",
    "    ).fillna(0).sort_index()\n",
    "    scores_time_grid[t, :, :] = t_scores.values.reshape(scores_time_grid[0, :, :].shape)"
   ]
  },
  {
   "cell_type": "code",
   "execution_count": 27,
   "metadata": {},
   "outputs": [
    {
     "data": {
      "text/plain": [
       "(28, 1002, 778)"
      ]
     },
     "execution_count": 27,
     "metadata": {},
     "output_type": "execute_result"
    }
   ],
   "source": [
    "scores_time_grid.shape"
   ]
  },
  {
   "cell_type": "markdown",
   "metadata": {},
   "source": [
    "# Compute frame patches\n",
    "\n",
    "A patch is squared set of unitary frames. The patch formation process consists in iterating through the full image on both axis computing the frames corresponding to each iteration."
   ]
  },
  {
   "cell_type": "code",
   "execution_count": 28,
   "metadata": {},
   "outputs": [
    {
     "name": "stderr",
     "output_type": "stream",
     "text": [
      "100%|██████████| 32/32 [00:20<00:00,  1.59it/s]\n"
     ]
    }
   ],
   "source": [
    "out_condition = \"both\"  # deforestation | borders | both\n",
    "\n",
    "bundle_step = 32\n",
    "patches = []\n",
    "for ix in tqdm(list(range(frames_idx[\"x\"].min(), frames_idx[\"x\"].max()+1, bundle_step))):\n",
    "    fx = ix + config.INPUT_BOXES_SIZE\n",
    "    for iy in range(frames_idx[\"y\"].min(), frames_idx[\"y\"].max()+1, bundle_step):\n",
    "        fy = iy + config.INPUT_BOXES_SIZE\n",
    "\n",
    "        iframes = frames_idx[\n",
    "            (frames_idx[\"x\"] >= ix) & \n",
    "            (frames_idx[\"x\"] < fx) &\n",
    "            (frames_idx[\"y\"] >= iy) &\n",
    "            (frames_idx[\"y\"] < fy)\n",
    "        ]\n",
    "        \n",
    "        if out_condition == \"borders\":\n",
    "            if iframes[\"in_borders\"].mean() >= 0.5:  # condition: bundle has to be at least half inside borders\n",
    "                patches.append(iframes.index)\n",
    "                \n",
    "        elif out_condition == \"deforestation\":\n",
    "            out_of_borders_frames = len(set(iframes.index) - set(deforestation[\"frame_id\"].values))\n",
    "            if out_of_borders_frames < len(iframes):  # condition: bundle has to contain some deforestation\n",
    "                patches.append(iframes.index) \n",
    "\n",
    "        elif out_condition == \"both\":\n",
    "            out_of_borders_frames = len(set(iframes.index) - set(deforestation[\"frame_id\"].values))\n",
    "            if (out_of_borders_frames < len(iframes)) and (iframes[\"in_borders\"].mean() >= 0.5):\n",
    "                patches.append(iframes.index) "
   ]
  },
  {
   "cell_type": "code",
   "execution_count": 29,
   "metadata": {},
   "outputs": [],
   "source": [
    "# remove patches that represent reduced regions\n",
    "patches = [b for b in patches if (len(b)==len(patches[0]))]"
   ]
  },
  {
   "cell_type": "code",
   "execution_count": 30,
   "metadata": {},
   "outputs": [
    {
     "data": {
      "text/plain": [
       "431"
      ]
     },
     "execution_count": 30,
     "metadata": {},
     "output_type": "execute_result"
    }
   ],
   "source": [
    "len(patches)"
   ]
  },
  {
   "cell_type": "code",
   "execution_count": 31,
   "metadata": {},
   "outputs": [
    {
     "data": {
      "text/plain": [
       "Index([  288,   289,   290,   291,   292,   293,   294,   295,   296,   297,\n",
       "       ...\n",
       "       49356, 49357, 49358, 49359, 49360, 49361, 49362, 49363, 49364, 49365],\n",
       "      dtype='int64', length=4096)"
      ]
     },
     "execution_count": 31,
     "metadata": {},
     "output_type": "execute_result"
    }
   ],
   "source": [
    "patches[0]"
   ]
  },
  {
   "cell_type": "code",
   "execution_count": 32,
   "metadata": {},
   "outputs": [],
   "source": [
    "# generate region and check which patches intersect\n",
    "region = compute_frames(am_bounds.total_bounds, config.BOX_SIDE, 200, 300, 500, 600)"
   ]
  },
  {
   "cell_type": "code",
   "execution_count": 33,
   "metadata": {},
   "outputs": [
    {
     "data": {
      "image/png": "[encoded data removed]",
      "text/plain": [
       "<Figure size 640x480 with 1 Axes>"
      ]
     },
     "metadata": {},
     "output_type": "display_data"
    }
   ],
   "source": [
    "fig, ax = plt.subplots()\n",
    "am_bounds.boundary.plot(ax=ax, color=\"black\")\n",
    "j = 0\n",
    "for i, b in enumerate(patches):\n",
    "    int_b = region[region[\"frame_id\"].isin(b)]\n",
    "    if len(int_b) > 0:\n",
    "        int_b.plot(ax=ax, color=sns.color_palette()[j%10], alpha=.5)\n",
    "        j+=1\n",
    "        if j > 30:\n",
    "            break\n",
    "plt.show()"
   ]
  },
  {
   "cell_type": "markdown",
   "metadata": {},
   "source": [
    "# Train test split"
   ]
  },
  {
   "cell_type": "code",
   "execution_count": 34,
   "metadata": {},
   "outputs": [
    {
     "data": {
      "text/plain": [
       "(28, 1002, 778)"
      ]
     },
     "execution_count": 34,
     "metadata": {},
     "output_type": "execute_result"
    }
   ],
   "source": [
    "time_grid.shape"
   ]
  },
  {
   "cell_type": "code",
   "execution_count": 35,
   "metadata": {},
   "outputs": [],
   "source": [
    "train_time_idx = range(0,12)\n",
    "val_time_idx = range(12,20)\n",
    "test_time_idx = range(20,28)\n",
    "\n",
    "train_data = time_grid[train_time_idx, :, :]\n",
    "val_data = time_grid[val_time_idx, :, :]\n",
    "test_data = time_grid[test_time_idx, :, :]"
   ]
  },
  {
   "cell_type": "markdown",
   "metadata": {},
   "source": [
    "# Data Normalization"
   ]
  },
  {
   "cell_type": "code",
   "execution_count": 36,
   "metadata": {},
   "outputs": [],
   "source": [
    "one_multiplicator_factor = (train_data <= 1e-7).sum() / (train_data > 1e-7).sum()"
   ]
  },
  {
   "cell_type": "code",
   "execution_count": 37,
   "metadata": {},
   "outputs": [],
   "source": [
    "norm_pop = (county_data[0, :, :] - np.median(county_data[0, :, :])) / 1e5\n",
    "norm_den = (county_data[1, :, :] - np.median(county_data[1, :, :])) / 30\n",
    "\n",
    "county_data[0, :, :] = norm_pop\n",
    "county_data[1, :, :] = norm_den"
   ]
  },
  {
   "cell_type": "code",
   "execution_count": 38,
   "metadata": {},
   "outputs": [],
   "source": [
    "counties_time_grid = (counties_time_grid-counties_time_grid[train_time_idx, :, :].mean()) / counties_time_grid[train_time_idx, :, :].std()"
   ]
  },
  {
   "cell_type": "code",
   "execution_count": 39,
   "metadata": {},
   "outputs": [],
   "source": [
    "precip_time_grid = (precip_time_grid-precip_time_grid[train_time_idx, :, :].mean()) / precip_time_grid[train_time_idx, :, :].std()"
   ]
  },
  {
   "cell_type": "code",
   "execution_count": 40,
   "metadata": {},
   "outputs": [],
   "source": [
    "for i in range(tpi_array.shape[0]):\n",
    "    tpi_array[i, :, :] = (tpi_array[i, :, :] - tpi_array[i, :, :].mean()) / tpi_array[i, :, :].std()"
   ]
  },
  {
   "cell_type": "markdown",
   "metadata": {},
   "source": [
    "# Loss function"
   ]
  },
  {
   "cell_type": "code",
   "execution_count": 41,
   "metadata": {},
   "outputs": [],
   "source": [
    "def WeightedBinaryCrossEntropy(target, prediction):\n",
    "    return -(target*prediction.log() + (1-target)*((1-prediction).log()))"
   ]
  },
  {
   "cell_type": "code",
   "execution_count": 42,
   "metadata": {},
   "outputs": [],
   "source": [
    "import torch.nn as nn\n",
    "\n",
    "ce_loss = nn.CrossEntropyLoss().to(dev)"
   ]
  },
  {
   "cell_type": "markdown",
   "metadata": {},
   "source": [
    "# Dataset & Dataloaders"
   ]
  },
  {
   "cell_type": "code",
   "execution_count": 43,
   "metadata": {},
   "outputs": [
    {
     "data": {
      "text/plain": [
       "10344"
      ]
     },
     "execution_count": 43,
     "metadata": {},
     "output_type": "execute_result"
    }
   ],
   "source": [
    "len(patches) * (time_grid.shape[0] - 4)"
   ]
  },
  {
   "cell_type": "code",
   "execution_count": 50,
   "metadata": {},
   "outputs": [],
   "source": [
    "class CustomDataset(Dataset):\n",
    "    def __init__(\n",
    "        self, \n",
    "        X, \n",
    "        patches, \n",
    "        frames_idx, \n",
    "        county_data=None, \n",
    "        county_defor=None,\n",
    "        precip_data=None,\n",
    "        tpi_data=None,\n",
    "        landcover_data=None,\n",
    "        scores_data=None\n",
    "    ):\n",
    "        super(CustomDataset, self).__init__()\n",
    "\n",
    "        self.patches = patches\n",
    "        self.frames_idx = frames_idx\n",
    "        self.X = X\n",
    "        self.county_data = county_data\n",
    "        self.county_defor = county_defor\n",
    "        self.precip_data = precip_data\n",
    "        self.tpi_data = tpi_data\n",
    "        self.landcover_data = landcover_data\n",
    "        self.scores_data = scores_data\n",
    "\n",
    "        self.autor_window = 4\n",
    "        self.ix = frames_idx[\"x\"].min()\n",
    "        self.iy = frames_idx[\"y\"].min()\n",
    "\n",
    "    def __len__(self):\n",
    "        return len(self.patches) * (self.X.shape[0]-self.autor_window)\n",
    "\n",
    "    def __getitem__(self, index):\n",
    "\n",
    "        # get index info\n",
    "        idx_patch = index // (self.X.shape[0] - self.autor_window)\n",
    "        idx_time   = index % (self.X.shape[0] - self.autor_window)\n",
    "        idx_frames = self.frames_idx.loc[self.patches[idx_patch]]\n",
    "\n",
    "        # get input\n",
    "        input_matrix = self.X[\n",
    "            idx_time:idx_time+self.autor_window, \n",
    "            idx_frames[\"x\"].min()-self.ix:idx_frames[\"x\"].max()-self.ix+1, \n",
    "            idx_frames[\"y\"].min()-self.iy:idx_frames[\"y\"].max()-self.iy+1\n",
    "        ]\n",
    "\n",
    "        if self.county_data is not None:\n",
    "            input_matrix = np.concatenate([\n",
    "                input_matrix,\n",
    "                self.county_data[\n",
    "                    :,\n",
    "                    idx_frames[\"x\"].min()-self.ix:idx_frames[\"x\"].max()-self.ix+1, \n",
    "                    idx_frames[\"y\"].min()-self.iy:idx_frames[\"y\"].max()-self.iy+1\n",
    "                ]\n",
    "            ])\n",
    "        \n",
    "        if self.county_defor is not None:\n",
    "            input_matrix = np.concatenate([\n",
    "                input_matrix,\n",
    "                self.county_defor[\n",
    "                    idx_time:idx_time+self.autor_window,\n",
    "                    idx_frames[\"x\"].min()-self.ix:idx_frames[\"x\"].max()-self.ix+1, \n",
    "                    idx_frames[\"y\"].min()-self.iy:idx_frames[\"y\"].max()-self.iy+1\n",
    "                ]\n",
    "            ])\n",
    "        \n",
    "        if self.precip_data is not None:\n",
    "            input_matrix = np.concatenate([\n",
    "                input_matrix,\n",
    "                self.precip_data[\n",
    "                    idx_time:idx_time+self.autor_window,\n",
    "                    idx_frames[\"x\"].min()-self.ix:idx_frames[\"x\"].max()-self.ix+1, \n",
    "                    idx_frames[\"y\"].min()-self.iy:idx_frames[\"y\"].max()-self.iy+1\n",
    "                ]\n",
    "            ])\n",
    "        \n",
    "        if self.tpi_data is not None:\n",
    "            input_matrix = np.concatenate([\n",
    "                input_matrix,\n",
    "                self.tpi_data[\n",
    "                    :,\n",
    "                    idx_frames[\"x\"].min()-self.ix:idx_frames[\"x\"].max()-self.ix+1, \n",
    "                    idx_frames[\"y\"].min()-self.iy:idx_frames[\"y\"].max()-self.iy+1\n",
    "                ]\n",
    "            ])\n",
    "        \n",
    "        if self.landcover_data is not None:\n",
    "            input_matrix = np.concatenate([\n",
    "                input_matrix,\n",
    "                self.landcover_data[\n",
    "                    :,\n",
    "                    idx_frames[\"x\"].min()-self.ix:idx_frames[\"x\"].max()-self.ix+1, \n",
    "                    idx_frames[\"y\"].min()-self.iy:idx_frames[\"y\"].max()-self.iy+1\n",
    "                ]\n",
    "            ])\n",
    "        \n",
    "        if self.scores_data is not None:\n",
    "            input_matrix = np.concatenate([\n",
    "                input_matrix,\n",
    "                self.scores_data[\n",
    "                    [idx_time+self.autor_window],\n",
    "                    idx_frames[\"x\"].min()-self.ix:idx_frames[\"x\"].max()-self.ix+1, \n",
    "                    idx_frames[\"y\"].min()-self.iy:idx_frames[\"y\"].max()-self.iy+1\n",
    "                ]\n",
    "            ])\n",
    "        data = torch.tensor(input_matrix).float().to(dev)\n",
    "\n",
    "        # get output\n",
    "        labels = np.zeros(\n",
    "            (\n",
    "                2, \n",
    "                idx_frames[\"x\"].max()-idx_frames[\"x\"].min() + 1, \n",
    "                idx_frames[\"y\"].max()-idx_frames[\"y\"].min() + 1\n",
    "            )\n",
    "        )\n",
    "        target_idx = np.where(\n",
    "            self.X[\n",
    "                idx_time+self.autor_window, \n",
    "                idx_frames[\"x\"].min()-self.ix:idx_frames[\"x\"].max()-self.ix+1, \n",
    "                idx_frames[\"y\"].min()-self.iy:idx_frames[\"y\"].max()-self.iy+1\n",
    "            ] > 1e-7\n",
    "        )\n",
    "        labels[0, :, :] = 1\n",
    "        labels[0, :, :][target_idx] = 0\n",
    "        labels[1, :, :][target_idx] = 1\n",
    "        labels = torch.tensor(labels).float().to(dev)\n",
    "        return data, labels"
   ]
  },
  {
   "cell_type": "code",
   "execution_count": 51,
   "metadata": {},
   "outputs": [
    {
     "data": {
      "text/plain": [
       "((12, 1002, 778), (8, 1002, 778), (8, 1002, 778))"
      ]
     },
     "execution_count": 51,
     "metadata": {},
     "output_type": "execute_result"
    }
   ],
   "source": [
    "train_data.shape, val_data.shape, test_data.shape"
   ]
  },
  {
   "cell_type": "code",
   "execution_count": 52,
   "metadata": {},
   "outputs": [],
   "source": [
    "# patches_sample_train = [patches[i] for i in np.random.choice(range(len(patches)), 100, replace=False)]\n",
    "# patches_sample_test = [patches[i] for i in np.random.choice(range(len(patches)), 10, replace=False)]\n",
    "\n",
    "# patches_sample_train = patches[:1]\n",
    "# patches_sample_test = patches[1:2]\n",
    "\n",
    "patches_sample_train = patches\n",
    "patches_sample_val = patches"
   ]
  },
  {
   "cell_type": "code",
   "execution_count": 53,
   "metadata": {},
   "outputs": [],
   "source": [
    "trainloader = torch.utils.data.DataLoader(\n",
    "    CustomDataset(\n",
    "        train_data, \n",
    "        patches_sample_train, \n",
    "        frames_idx, \n",
    "        county_data,\n",
    "        counties_time_grid,\n",
    "        precip_time_grid,\n",
    "        tpi_array,\n",
    "        landcover_array,\n",
    "        scores_time_grid\n",
    "    ),\n",
    "    batch_size=40,\n",
    "    shuffle=True\n",
    ")\n",
    "\n",
    "valloader = torch.utils.data.DataLoader(\n",
    "    CustomDataset(\n",
    "        test_data, \n",
    "        patches_sample_val, \n",
    "        frames_idx, \n",
    "        county_data,\n",
    "        counties_time_grid,\n",
    "        precip_time_grid,\n",
    "        tpi_array,\n",
    "        landcover_array,\n",
    "        scores_time_grid\n",
    "    ),\n",
    "    batch_size=1000,\n",
    "    shuffle=False\n",
    ")"
   ]
  },
  {
   "cell_type": "code",
   "execution_count": 54,
   "metadata": {},
   "outputs": [
    {
     "data": {
      "text/plain": [
       "(87, 2)"
      ]
     },
     "execution_count": 54,
     "metadata": {},
     "output_type": "execute_result"
    }
   ],
   "source": [
    "trainloader.__len__(), valloader.__len__()"
   ]
  },
  {
   "cell_type": "markdown",
   "metadata": {},
   "source": [
    "# Baseline Model\n",
    "\n",
    "Evaluate error without any model"
   ]
  },
  {
   "cell_type": "code",
   "execution_count": 55,
   "metadata": {},
   "outputs": [
    {
     "name": "stdout",
     "output_type": "stream",
     "text": [
      "Baseline Error (Train) = 0.329706\n"
     ]
    }
   ],
   "source": [
    "# baseline: all 50%\n",
    "base_train_err = 0\n",
    "for inputs, labels in trainloader:\n",
    "    y_pred = torch.tensor(np.zeros(labels.shape)).to(dev)\n",
    "    y_pred[:, 0, :, :] = 1\n",
    "    base_train_err += ce_loss(input=y_pred, target=labels)\n",
    "base_train_err = base_train_err / len(trainloader)\n",
    "\n",
    "print(f\"Baseline Error (Train) = {base_train_err:.6f}\")"
   ]
  },
  {
   "cell_type": "code",
   "execution_count": 56,
   "metadata": {},
   "outputs": [
    {
     "name": "stdout",
     "output_type": "stream",
     "text": [
      "Baseline Error (Validation) = 0.336113\n"
     ]
    }
   ],
   "source": [
    "base_val_err = 0\n",
    "for inputs, labels in valloader:\n",
    "    y_pred = torch.tensor(np.zeros(labels.shape)).to(dev)\n",
    "    y_pred[:, 0, :, :] = 1\n",
    "    base_val_err += ce_loss(input=y_pred, target=labels)\n",
    "base_val_err = base_val_err / len(valloader)\n",
    "print(f\"Baseline Error (Validation) = {base_val_err:.6f}\")"
   ]
  },
  {
   "cell_type": "markdown",
   "metadata": {},
   "source": [
    "# Model Init"
   ]
  },
  {
   "cell_type": "code",
   "execution_count": 57,
   "metadata": {},
   "outputs": [],
   "source": [
    "import torch.optim as optim\n",
    "import segmentation_models_pytorch as smp"
   ]
  },
  {
   "cell_type": "code",
   "execution_count": 64,
   "metadata": {},
   "outputs": [
    {
     "data": {
      "text/plain": [
       "22"
      ]
     },
     "execution_count": 64,
     "metadata": {},
     "output_type": "execute_result"
    }
   ],
   "source": [
    "in_channels = 4+2+4+4+4+3+1\n",
    "in_channels"
   ]
  },
  {
   "cell_type": "code",
   "execution_count": 65,
   "metadata": {},
   "outputs": [],
   "source": [
    "model = smp.Unet(\n",
    "    encoder_name=\"resnet34\",\n",
    "    in_channels=in_channels,\n",
    "    classes=2,\n",
    ")\n",
    "optimizer = optim.Adam(model.parameters())"
   ]
  },
  {
   "cell_type": "code",
   "execution_count": 66,
   "metadata": {},
   "outputs": [],
   "source": [
    "model = smp.DeepLabV3Plus(\n",
    "    encoder_name=\"resnet34\",\n",
    "    in_channels=in_channels, \n",
    "    classes=2\n",
    ")\n",
    "optimizer = optim.Adam(model.parameters())"
   ]
  },
  {
   "cell_type": "code",
   "execution_count": 67,
   "metadata": {},
   "outputs": [],
   "source": [
    "# use gpu\n",
    "model = model.to(dev)"
   ]
  },
  {
   "cell_type": "code",
   "execution_count": 68,
   "metadata": {},
   "outputs": [],
   "source": [
    "# model.load_state_dict(torch.load(r\"basic_cnn_003.pt\"))"
   ]
  },
  {
   "cell_type": "code",
   "execution_count": 69,
   "metadata": {},
   "outputs": [
    {
     "name": "stdout",
     "output_type": "stream",
     "text": [
      "DeepLabV3Plus(\n",
      "  (encoder): ResNetEncoder(\n",
      "    (conv1): Conv2d(22, 64, kernel_size=(7, 7), stride=(2, 2), padding=(3, 3), bias=False)\n",
      "    (bn1): BatchNorm2d(64, eps=1e-05, momentum=0.1, affine=True, track_running_stats=True)\n",
      "    (relu): ReLU(inplace=True)\n",
      "    (maxpool): MaxPool2d(kernel_size=3, stride=2, padding=1, dilation=1, ceil_mode=False)\n",
      "    (layer1): Sequential(\n",
      "      (0): BasicBlock(\n",
      "        (conv1): Conv2d(64, 64, kernel_size=(3, 3), stride=(1, 1), padding=(1, 1), bias=False)\n",
      "        (bn1): BatchNorm2d(64, eps=1e-05, momentum=0.1, affine=True, track_running_stats=True)\n",
      "        (relu): ReLU(inplace=True)\n",
      "        (conv2): Conv2d(64, 64, kernel_size=(3, 3), stride=(1, 1), padding=(1, 1), bias=False)\n",
      "        (bn2): BatchNorm2d(64, eps=1e-05, momentum=0.1, affine=True, track_running_stats=True)\n",
      "      )\n",
      "      (1): BasicBlock(\n",
      "        (conv1): Conv2d(64, 64, kernel_size=(3, 3), stride=(1, 1), padding=(1, 1), bias=False)\n",
      "        (bn1): BatchNorm2d(64, eps=1e-05, momentum=0.1, affine=True, track_running_stats=True)\n",
      "        (relu): ReLU(inplace=True)\n",
      "        (conv2): Conv2d(64, 64, kernel_size=(3, 3), stride=(1, 1), padding=(1, 1), bias=False)\n",
      "        (bn2): BatchNorm2d(64, eps=1e-05, momentum=0.1, affine=True, track_running_stats=True)\n",
      "      )\n",
      "      (2): BasicBlock(\n",
      "        (conv1): Conv2d(64, 64, kernel_size=(3, 3), stride=(1, 1), padding=(1, 1), bias=False)\n",
      "        (bn1): BatchNorm2d(64, eps=1e-05, momentum=0.1, affine=True, track_running_stats=True)\n",
      "        (relu): ReLU(inplace=True)\n",
      "        (conv2): Conv2d(64, 64, kernel_size=(3, 3), stride=(1, 1), padding=(1, 1), bias=False)\n",
      "        (bn2): BatchNorm2d(64, eps=1e-05, momentum=0.1, affine=True, track_running_stats=True)\n",
      "      )\n",
      "    )\n",
      "    (layer2): Sequential(\n",
      "      (0): BasicBlock(\n",
      "        (conv1): Conv2d(64, 128, kernel_size=(3, 3), stride=(2, 2), padding=(1, 1), bias=False)\n",
      "        (bn1): BatchNorm2d(128, eps=1e-05, momentum=0.1, affine=True, track_running_stats=True)\n",
      "        (relu): ReLU(inplace=True)\n",
      "        (conv2): Conv2d(128, 128, kernel_size=(3, 3), stride=(1, 1), padding=(1, 1), bias=False)\n",
      "        (bn2): BatchNorm2d(128, eps=1e-05, momentum=0.1, affine=True, track_running_stats=True)\n",
      "        (downsample): Sequential(\n",
      "          (0): Conv2d(64, 128, kernel_size=(1, 1), stride=(2, 2), bias=False)\n",
      "          (1): BatchNorm2d(128, eps=1e-05, momentum=0.1, affine=True, track_running_stats=True)\n",
      "        )\n",
      "      )\n",
      "      (1): BasicBlock(\n",
      "        (conv1): Conv2d(128, 128, kernel_size=(3, 3), stride=(1, 1), padding=(1, 1), bias=False)\n",
      "        (bn1): BatchNorm2d(128, eps=1e-05, momentum=0.1, affine=True, track_running_stats=True)\n",
      "        (relu): ReLU(inplace=True)\n",
      "        (conv2): Conv2d(128, 128, kernel_size=(3, 3), stride=(1, 1), padding=(1, 1), bias=False)\n",
      "        (bn2): BatchNorm2d(128, eps=1e-05, momentum=0.1, affine=True, track_running_stats=True)\n",
      "      )\n",
      "      (2): BasicBlock(\n",
      "        (conv1): Conv2d(128, 128, kernel_size=(3, 3), stride=(1, 1), padding=(1, 1), bias=False)\n",
      "        (bn1): BatchNorm2d(128, eps=1e-05, momentum=0.1, affine=True, track_running_stats=True)\n",
      "        (relu): ReLU(inplace=True)\n",
      "        (conv2): Conv2d(128, 128, kernel_size=(3, 3), stride=(1, 1), padding=(1, 1), bias=False)\n",
      "        (bn2): BatchNorm2d(128, eps=1e-05, momentum=0.1, affine=True, track_running_stats=True)\n",
      "      )\n",
      "      (3): BasicBlock(\n",
      "        (conv1): Conv2d(128, 128, kernel_size=(3, 3), stride=(1, 1), padding=(1, 1), bias=False)\n",
      "        (bn1): BatchNorm2d(128, eps=1e-05, momentum=0.1, affine=True, track_running_stats=True)\n",
      "        (relu): ReLU(inplace=True)\n",
      "        (conv2): Conv2d(128, 128, kernel_size=(3, 3), stride=(1, 1), padding=(1, 1), bias=False)\n",
      "        (bn2): BatchNorm2d(128, eps=1e-05, momentum=0.1, affine=True, track_running_stats=True)\n",
      "      )\n",
      "    )\n",
      "    (layer3): Sequential(\n",
      "      (0): BasicBlock(\n",
      "        (conv1): Conv2d(128, 256, kernel_size=(3, 3), stride=(2, 2), padding=(1, 1), bias=False)\n",
      "        (bn1): BatchNorm2d(256, eps=1e-05, momentum=0.1, affine=True, track_running_stats=True)\n",
      "        (relu): ReLU(inplace=True)\n",
      "        (conv2): Conv2d(256, 256, kernel_size=(3, 3), stride=(1, 1), padding=(1, 1), bias=False)\n",
      "        (bn2): BatchNorm2d(256, eps=1e-05, momentum=0.1, affine=True, track_running_stats=True)\n",
      "        (downsample): Sequential(\n",
      "          (0): Conv2d(128, 256, kernel_size=(1, 1), stride=(2, 2), bias=False)\n",
      "          (1): BatchNorm2d(256, eps=1e-05, momentum=0.1, affine=True, track_running_stats=True)\n",
      "        )\n",
      "      )\n",
      "      (1): BasicBlock(\n",
      "        (conv1): Conv2d(256, 256, kernel_size=(3, 3), stride=(1, 1), padding=(1, 1), bias=False)\n",
      "        (bn1): BatchNorm2d(256, eps=1e-05, momentum=0.1, affine=True, track_running_stats=True)\n",
      "        (relu): ReLU(inplace=True)\n",
      "        (conv2): Conv2d(256, 256, kernel_size=(3, 3), stride=(1, 1), padding=(1, 1), bias=False)\n",
      "        (bn2): BatchNorm2d(256, eps=1e-05, momentum=0.1, affine=True, track_running_stats=True)\n",
      "      )\n",
      "      (2): BasicBlock(\n",
      "        (conv1): Conv2d(256, 256, kernel_size=(3, 3), stride=(1, 1), padding=(1, 1), bias=False)\n",
      "        (bn1): BatchNorm2d(256, eps=1e-05, momentum=0.1, affine=True, track_running_stats=True)\n",
      "        (relu): ReLU(inplace=True)\n",
      "        (conv2): Conv2d(256, 256, kernel_size=(3, 3), stride=(1, 1), padding=(1, 1), bias=False)\n",
      "        (bn2): BatchNorm2d(256, eps=1e-05, momentum=0.1, affine=True, track_running_stats=True)\n",
      "      )\n",
      "      (3): BasicBlock(\n",
      "        (conv1): Conv2d(256, 256, kernel_size=(3, 3), stride=(1, 1), padding=(1, 1), bias=False)\n",
      "        (bn1): BatchNorm2d(256, eps=1e-05, momentum=0.1, affine=True, track_running_stats=True)\n",
      "        (relu): ReLU(inplace=True)\n",
      "        (conv2): Conv2d(256, 256, kernel_size=(3, 3), stride=(1, 1), padding=(1, 1), bias=False)\n",
      "        (bn2): BatchNorm2d(256, eps=1e-05, momentum=0.1, affine=True, track_running_stats=True)\n",
      "      )\n",
      "      (4): BasicBlock(\n",
      "        (conv1): Conv2d(256, 256, kernel_size=(3, 3), stride=(1, 1), padding=(1, 1), bias=False)\n",
      "        (bn1): BatchNorm2d(256, eps=1e-05, momentum=0.1, affine=True, track_running_stats=True)\n",
      "        (relu): ReLU(inplace=True)\n",
      "        (conv2): Conv2d(256, 256, kernel_size=(3, 3), stride=(1, 1), padding=(1, 1), bias=False)\n",
      "        (bn2): BatchNorm2d(256, eps=1e-05, momentum=0.1, affine=True, track_running_stats=True)\n",
      "      )\n",
      "      (5): BasicBlock(\n",
      "        (conv1): Conv2d(256, 256, kernel_size=(3, 3), stride=(1, 1), padding=(1, 1), bias=False)\n",
      "        (bn1): BatchNorm2d(256, eps=1e-05, momentum=0.1, affine=True, track_running_stats=True)\n",
      "        (relu): ReLU(inplace=True)\n",
      "        (conv2): Conv2d(256, 256, kernel_size=(3, 3), stride=(1, 1), padding=(1, 1), bias=False)\n",
      "        (bn2): BatchNorm2d(256, eps=1e-05, momentum=0.1, affine=True, track_running_stats=True)\n",
      "      )\n",
      "    )\n",
      "    (layer4): Sequential(\n",
      "      (0): BasicBlock(\n",
      "        (conv1): Conv2d(256, 512, kernel_size=(3, 3), stride=(1, 1), padding=(2, 2), dilation=(2, 2), bias=False)\n",
      "        (bn1): BatchNorm2d(512, eps=1e-05, momentum=0.1, affine=True, track_running_stats=True)\n",
      "        (relu): ReLU(inplace=True)\n",
      "        (conv2): Conv2d(512, 512, kernel_size=(3, 3), stride=(1, 1), padding=(2, 2), dilation=(2, 2), bias=False)\n",
      "        (bn2): BatchNorm2d(512, eps=1e-05, momentum=0.1, affine=True, track_running_stats=True)\n",
      "        (downsample): Sequential(\n",
      "          (0): Conv2d(256, 512, kernel_size=(1, 1), stride=(1, 1), dilation=(2, 2), bias=False)\n",
      "          (1): BatchNorm2d(512, eps=1e-05, momentum=0.1, affine=True, track_running_stats=True)\n",
      "        )\n",
      "      )\n",
      "      (1): BasicBlock(\n",
      "        (conv1): Conv2d(512, 512, kernel_size=(3, 3), stride=(1, 1), padding=(2, 2), dilation=(2, 2), bias=False)\n",
      "        (bn1): BatchNorm2d(512, eps=1e-05, momentum=0.1, affine=True, track_running_stats=True)\n",
      "        (relu): ReLU(inplace=True)\n",
      "        (conv2): Conv2d(512, 512, kernel_size=(3, 3), stride=(1, 1), padding=(2, 2), dilation=(2, 2), bias=False)\n",
      "        (bn2): BatchNorm2d(512, eps=1e-05, momentum=0.1, affine=True, track_running_stats=True)\n",
      "      )\n",
      "      (2): BasicBlock(\n",
      "        (conv1): Conv2d(512, 512, kernel_size=(3, 3), stride=(1, 1), padding=(2, 2), dilation=(2, 2), bias=False)\n",
      "        (bn1): BatchNorm2d(512, eps=1e-05, momentum=0.1, affine=True, track_running_stats=True)\n",
      "        (relu): ReLU(inplace=True)\n",
      "        (conv2): Conv2d(512, 512, kernel_size=(3, 3), stride=(1, 1), padding=(2, 2), dilation=(2, 2), bias=False)\n",
      "        (bn2): BatchNorm2d(512, eps=1e-05, momentum=0.1, affine=True, track_running_stats=True)\n",
      "      )\n",
      "    )\n",
      "  )\n",
      "  (decoder): DeepLabV3PlusDecoder(\n",
      "    (aspp): Sequential(\n",
      "      (0): ASPP(\n",
      "        (convs): ModuleList(\n",
      "          (0): Sequential(\n",
      "            (0): Conv2d(512, 256, kernel_size=(1, 1), stride=(1, 1), bias=False)\n",
      "            (1): BatchNorm2d(256, eps=1e-05, momentum=0.1, affine=True, track_running_stats=True)\n",
      "            (2): ReLU()\n",
      "          )\n",
      "          (1): ASPPSeparableConv(\n",
      "            (0): SeparableConv2d(\n",
      "              (0): Conv2d(512, 512, kernel_size=(3, 3), stride=(1, 1), padding=(12, 12), dilation=(12, 12), groups=512, bias=False)\n",
      "              (1): Conv2d(512, 256, kernel_size=(1, 1), stride=(1, 1), bias=False)\n",
      "            )\n",
      "            (1): BatchNorm2d(256, eps=1e-05, momentum=0.1, affine=True, track_running_stats=True)\n",
      "            (2): ReLU()\n",
      "          )\n",
      "          (2): ASPPSeparableConv(\n",
      "            (0): SeparableConv2d(\n",
      "              (0): Conv2d(512, 512, kernel_size=(3, 3), stride=(1, 1), padding=(24, 24), dilation=(24, 24), groups=512, bias=False)\n",
      "              (1): Conv2d(512, 256, kernel_size=(1, 1), stride=(1, 1), bias=False)\n",
      "            )\n",
      "            (1): BatchNorm2d(256, eps=1e-05, momentum=0.1, affine=True, track_running_stats=True)\n",
      "            (2): ReLU()\n",
      "          )\n",
      "          (3): ASPPSeparableConv(\n",
      "            (0): SeparableConv2d(\n",
      "              (0): Conv2d(512, 512, kernel_size=(3, 3), stride=(1, 1), padding=(36, 36), dilation=(36, 36), groups=512, bias=False)\n",
      "              (1): Conv2d(512, 256, kernel_size=(1, 1), stride=(1, 1), bias=False)\n",
      "            )\n",
      "            (1): BatchNorm2d(256, eps=1e-05, momentum=0.1, affine=True, track_running_stats=True)\n",
      "            (2): ReLU()\n",
      "          )\n",
      "          (4): ASPPPooling(\n",
      "            (0): AdaptiveAvgPool2d(output_size=1)\n",
      "            (1): Conv2d(512, 256, kernel_size=(1, 1), stride=(1, 1), bias=False)\n",
      "            (2): BatchNorm2d(256, eps=1e-05, momentum=0.1, affine=True, track_running_stats=True)\n",
      "            (3): ReLU()\n",
      "          )\n",
      "        )\n",
      "        (project): Sequential(\n",
      "          (0): Conv2d(1280, 256, kernel_size=(1, 1), stride=(1, 1), bias=False)\n",
      "          (1): BatchNorm2d(256, eps=1e-05, momentum=0.1, affine=True, track_running_stats=True)\n",
      "          (2): ReLU()\n",
      "          (3): Dropout(p=0.5, inplace=False)\n",
      "        )\n",
      "      )\n",
      "      (1): SeparableConv2d(\n",
      "        (0): Conv2d(256, 256, kernel_size=(3, 3), stride=(1, 1), padding=(1, 1), groups=256, bias=False)\n",
      "        (1): Conv2d(256, 256, kernel_size=(1, 1), stride=(1, 1), bias=False)\n",
      "      )\n",
      "      (2): BatchNorm2d(256, eps=1e-05, momentum=0.1, affine=True, track_running_stats=True)\n",
      "      (3): ReLU()\n",
      "    )\n",
      "    (up): UpsamplingBilinear2d(scale_factor=4.0, mode='bilinear')\n",
      "    (block1): Sequential(\n",
      "      (0): Conv2d(64, 48, kernel_size=(1, 1), stride=(1, 1), bias=False)\n",
      "      (1): BatchNorm2d(48, eps=1e-05, momentum=0.1, affine=True, track_running_stats=True)\n",
      "      (2): ReLU()\n",
      "    )\n",
      "    (block2): Sequential(\n",
      "      (0): SeparableConv2d(\n",
      "        (0): Conv2d(304, 304, kernel_size=(3, 3), stride=(1, 1), padding=(1, 1), groups=304, bias=False)\n",
      "        (1): Conv2d(304, 256, kernel_size=(1, 1), stride=(1, 1), bias=False)\n",
      "      )\n",
      "      (1): BatchNorm2d(256, eps=1e-05, momentum=0.1, affine=True, track_running_stats=True)\n",
      "      (2): ReLU()\n",
      "    )\n",
      "  )\n",
      "  (segmentation_head): SegmentationHead(\n",
      "    (0): Conv2d(256, 2, kernel_size=(1, 1), stride=(1, 1))\n",
      "    (1): UpsamplingBilinear2d(scale_factor=4.0, mode='bilinear')\n",
      "    (2): Activation(\n",
      "      (activation): Identity()\n",
      "    )\n",
      "  )\n",
      ")\n"
     ]
    }
   ],
   "source": [
    "print(model)"
   ]
  },
  {
   "cell_type": "code",
   "execution_count": 70,
   "metadata": {},
   "outputs": [
    {
     "name": "stdout",
     "output_type": "stream",
     "text": [
      "tensor(1.0439, device='cuda:0')\n",
      "tensor(2.0857, device='cuda:0')\n",
      "tensor(3.1407, device='cuda:0')\n",
      "tensor(4.1873, device='cuda:0')\n",
      "tensor(5.2268, device='cuda:0')\n",
      "tensor(6.2784, device='cuda:0')\n",
      "tensor(7.3276, device='cuda:0')\n",
      "tensor(8.3789, device='cuda:0')\n",
      "tensor(9.4256, device='cuda:0')\n",
      "tensor(10.4705, device='cuda:0')\n",
      "tensor(11.5154, device='cuda:0')\n",
      "tensor(12.5533, device='cuda:0')\n",
      "tensor(13.5977, device='cuda:0')\n",
      "tensor(14.6244, device='cuda:0')\n",
      "tensor(15.6653, device='cuda:0')\n",
      "tensor(16.7060, device='cuda:0')\n",
      "tensor(17.7452, device='cuda:0')\n",
      "tensor(18.7931, device='cuda:0')\n",
      "tensor(19.8434, device='cuda:0')\n",
      "tensor(20.8851, device='cuda:0')\n",
      "tensor(21.9268, device='cuda:0')\n",
      "tensor(22.9742, device='cuda:0')\n",
      "tensor(24.0190, device='cuda:0')\n",
      "tensor(25.0583, device='cuda:0')\n",
      "tensor(26.0920, device='cuda:0')\n",
      "tensor(27.1409, device='cuda:0')\n",
      "tensor(28.1796, device='cuda:0')\n",
      "tensor(29.2306, device='cuda:0')\n",
      "tensor(30.2767, device='cuda:0')\n",
      "tensor(31.3188, device='cuda:0')\n",
      "tensor(32.3621, device='cuda:0')\n",
      "tensor(33.4088, device='cuda:0')\n",
      "tensor(34.4445, device='cuda:0')\n",
      "tensor(35.4908, device='cuda:0')\n",
      "tensor(36.5401, device='cuda:0')\n",
      "tensor(37.5930, device='cuda:0')\n",
      "tensor(38.6310, device='cuda:0')\n",
      "tensor(39.6779, device='cuda:0')\n",
      "tensor(40.7240, device='cuda:0')\n",
      "tensor(41.7669, device='cuda:0')\n",
      "tensor(42.8146, device='cuda:0')\n",
      "tensor(43.8581, device='cuda:0')\n",
      "tensor(44.9056, device='cuda:0')\n",
      "tensor(45.9496, device='cuda:0')\n",
      "tensor(46.9939, device='cuda:0')\n",
      "tensor(48.0270, device='cuda:0')\n",
      "tensor(49.0643, device='cuda:0')\n",
      "tensor(50.1098, device='cuda:0')\n",
      "tensor(51.1454, device='cuda:0')\n",
      "tensor(52.1840, device='cuda:0')\n",
      "tensor(53.2237, device='cuda:0')\n",
      "tensor(54.2712, device='cuda:0')\n",
      "tensor(55.3085, device='cuda:0')\n",
      "tensor(56.3497, device='cuda:0')\n",
      "tensor(57.3897, device='cuda:0')\n",
      "tensor(58.4271, device='cuda:0')\n",
      "tensor(59.4716, device='cuda:0')\n",
      "tensor(60.5158, device='cuda:0')\n",
      "tensor(61.5537, device='cuda:0')\n",
      "tensor(62.5995, device='cuda:0')\n",
      "tensor(63.6462, device='cuda:0')\n",
      "tensor(64.6960, device='cuda:0')\n",
      "tensor(65.7373, device='cuda:0')\n",
      "tensor(66.7902, device='cuda:0')\n",
      "tensor(67.8416, device='cuda:0')\n",
      "tensor(68.8906, device='cuda:0')\n",
      "tensor(69.9384, device='cuda:0')\n",
      "tensor(70.9778, device='cuda:0')\n",
      "tensor(72.0350, device='cuda:0')\n",
      "tensor(73.0829, device='cuda:0')\n",
      "tensor(74.1292, device='cuda:0')\n",
      "tensor(75.1653, device='cuda:0')\n",
      "tensor(76.2136, device='cuda:0')\n",
      "tensor(77.2542, device='cuda:0')\n",
      "tensor(78.3015, device='cuda:0')\n",
      "tensor(79.3461, device='cuda:0')\n",
      "tensor(80.3939, device='cuda:0')\n",
      "tensor(81.4460, device='cuda:0')\n",
      "tensor(82.4869, device='cuda:0')\n",
      "tensor(83.5242, device='cuda:0')\n",
      "tensor(84.5670, device='cuda:0')\n",
      "tensor(85.6123, device='cuda:0')\n",
      "tensor(86.6580, device='cuda:0')\n",
      "tensor(87.7089, device='cuda:0')\n",
      "tensor(88.7513, device='cuda:0')\n",
      "tensor(89.8011, device='cuda:0')\n",
      "tensor(90.8579, device='cuda:0')\n"
     ]
    }
   ],
   "source": [
    "# check for inifinty error\n",
    "train_err = 0\n",
    "for inputs, labels in trainloader:\n",
    "    y_pred = model(inputs).detach().to(dev)\n",
    "    train_err += ce_loss(input=y_pred, target=labels)\n",
    "    # train_err += WeightedBinaryCrossEntropy(labels, y_pred).detach().float().mean()\n",
    "    print(train_err)\n",
    "    if train_err > 1e9:\n",
    "        break"
   ]
  },
  {
   "cell_type": "markdown",
   "metadata": {},
   "source": [
    "Train loop"
   ]
  },
  {
   "cell_type": "code",
   "execution_count": 71,
   "metadata": {},
   "outputs": [],
   "source": [
    "# train loop\n",
    "model.epoch = 0\n",
    "model.errs = []"
   ]
  },
  {
   "cell_type": "code",
   "execution_count": 72,
   "metadata": {},
   "outputs": [],
   "source": [
    "def evaluate_model(model, dataloader):\n",
    "    err = 0\n",
    "    for inputs, labels in dataloader:\n",
    "        y_pred = model(inputs).detach()\n",
    "        err += ce_loss(input=y_pred, target=labels)\n",
    "    err = err / len(dataloader)\n",
    "\n",
    "    return err"
   ]
  },
  {
   "cell_type": "code",
   "execution_count": 73,
   "metadata": {},
   "outputs": [],
   "source": [
    "def run_epoch():\n",
    "    model.epoch += 1\n",
    "    print(f\"\\nEpoch {model.epoch}\")\n",
    "    \n",
    "    train_err = 0\n",
    "    for inputs, labels in tqdm(trainloader):\n",
    "        y_pred = model(inputs)\n",
    "        loss = ce_loss(input=y_pred, target=labels)\n",
    "        optimizer.zero_grad()\n",
    "        loss.backward()\n",
    "        optimizer.step()\n",
    "        train_err += loss.detach()\n",
    "    train_err = train_err / len(trainloader)\n",
    "    \n",
    "    return train_err\n",
    "\n",
    "\n",
    "def train(n_epochs):\n",
    "    for epoch in range(n_epochs):\n",
    "        \n",
    "        # train for 1 epoch and compute error\n",
    "        train_err = run_epoch()\n",
    "\n",
    "        # compute validation error and save history            \n",
    "        val_err = evaluate_model(model, valloader)\n",
    "        model.errs.append([train_err, val_err])\n",
    "\n",
    "        print(f\"Epoch {model.epoch}: Train Loss = {train_err:.6f} | Validation Loss = {val_err:.6f}\")"
   ]
  },
  {
   "cell_type": "code",
   "execution_count": 74,
   "metadata": {},
   "outputs": [
    {
     "name": "stdout",
     "output_type": "stream",
     "text": [
      "\n",
      "Epoch 1\n"
     ]
    },
    {
     "name": "stderr",
     "output_type": "stream",
     "text": [
      "100%|██████████| 87/87 [00:13<00:00,  6.44it/s]\n"
     ]
    },
    {
     "name": "stdout",
     "output_type": "stream",
     "text": [
      "Epoch 1: Train Loss = 0.137621 | Validation Loss = 0.104979\n",
      "\n",
      "Epoch 2\n"
     ]
    },
    {
     "name": "stderr",
     "output_type": "stream",
     "text": [
      "100%|██████████| 87/87 [00:13<00:00,  6.47it/s]\n"
     ]
    },
    {
     "name": "stdout",
     "output_type": "stream",
     "text": [
      "Epoch 2: Train Loss = 0.078051 | Validation Loss = 0.102479\n",
      "\n",
      "Epoch 3\n"
     ]
    },
    {
     "name": "stderr",
     "output_type": "stream",
     "text": [
      "100%|██████████| 87/87 [00:13<00:00,  6.39it/s]\n"
     ]
    },
    {
     "name": "stdout",
     "output_type": "stream",
     "text": [
      "Epoch 3: Train Loss = 0.075296 | Validation Loss = 0.099331\n",
      "\n",
      "Epoch 4\n"
     ]
    },
    {
     "name": "stderr",
     "output_type": "stream",
     "text": [
      "100%|██████████| 87/87 [00:13<00:00,  6.37it/s]\n"
     ]
    },
    {
     "name": "stdout",
     "output_type": "stream",
     "text": [
      "Epoch 4: Train Loss = 0.073420 | Validation Loss = 0.098266\n",
      "\n",
      "Epoch 5\n"
     ]
    },
    {
     "name": "stderr",
     "output_type": "stream",
     "text": [
      "100%|██████████| 87/87 [00:13<00:00,  6.33it/s]\n"
     ]
    },
    {
     "name": "stdout",
     "output_type": "stream",
     "text": [
      "Epoch 5: Train Loss = 0.072272 | Validation Loss = 0.100010\n",
      "\n",
      "Epoch 6\n"
     ]
    },
    {
     "name": "stderr",
     "output_type": "stream",
     "text": [
      "100%|██████████| 87/87 [00:13<00:00,  6.29it/s]\n"
     ]
    },
    {
     "name": "stdout",
     "output_type": "stream",
     "text": [
      "Epoch 6: Train Loss = 0.071895 | Validation Loss = 0.099449\n",
      "\n",
      "Epoch 7\n"
     ]
    },
    {
     "name": "stderr",
     "output_type": "stream",
     "text": [
      "100%|██████████| 87/87 [00:13<00:00,  6.35it/s]\n"
     ]
    },
    {
     "name": "stdout",
     "output_type": "stream",
     "text": [
      "Epoch 7: Train Loss = 0.071186 | Validation Loss = 0.094820\n",
      "\n",
      "Epoch 8\n"
     ]
    },
    {
     "name": "stderr",
     "output_type": "stream",
     "text": [
      "100%|██████████| 87/87 [00:13<00:00,  6.44it/s]\n"
     ]
    },
    {
     "name": "stdout",
     "output_type": "stream",
     "text": [
      "Epoch 8: Train Loss = 0.069655 | Validation Loss = 0.097113\n",
      "\n",
      "Epoch 9\n"
     ]
    },
    {
     "name": "stderr",
     "output_type": "stream",
     "text": [
      "100%|██████████| 87/87 [00:13<00:00,  6.44it/s]\n"
     ]
    },
    {
     "name": "stdout",
     "output_type": "stream",
     "text": [
      "Epoch 9: Train Loss = 0.068493 | Validation Loss = 0.089883\n",
      "\n",
      "Epoch 10\n"
     ]
    },
    {
     "name": "stderr",
     "output_type": "stream",
     "text": [
      "100%|██████████| 87/87 [00:13<00:00,  6.43it/s]\n"
     ]
    },
    {
     "name": "stdout",
     "output_type": "stream",
     "text": [
      "Epoch 10: Train Loss = 0.068609 | Validation Loss = 0.087162\n",
      "\n",
      "Epoch 11\n"
     ]
    },
    {
     "name": "stderr",
     "output_type": "stream",
     "text": [
      "100%|██████████| 87/87 [00:13<00:00,  6.31it/s]\n"
     ]
    },
    {
     "name": "stdout",
     "output_type": "stream",
     "text": [
      "Epoch 11: Train Loss = 0.070097 | Validation Loss = 0.093309\n",
      "\n",
      "Epoch 12\n"
     ]
    },
    {
     "name": "stderr",
     "output_type": "stream",
     "text": [
      "100%|██████████| 87/87 [00:13<00:00,  6.41it/s]\n"
     ]
    },
    {
     "name": "stdout",
     "output_type": "stream",
     "text": [
      "Epoch 12: Train Loss = 0.067199 | Validation Loss = 0.086780\n",
      "\n",
      "Epoch 13\n"
     ]
    },
    {
     "name": "stderr",
     "output_type": "stream",
     "text": [
      "100%|██████████| 87/87 [00:13<00:00,  6.43it/s]\n"
     ]
    },
    {
     "name": "stdout",
     "output_type": "stream",
     "text": [
      "Epoch 13: Train Loss = 0.065119 | Validation Loss = 0.085910\n",
      "\n",
      "Epoch 14\n"
     ]
    },
    {
     "name": "stderr",
     "output_type": "stream",
     "text": [
      "100%|██████████| 87/87 [00:13<00:00,  6.39it/s]\n"
     ]
    },
    {
     "name": "stdout",
     "output_type": "stream",
     "text": [
      "Epoch 14: Train Loss = 0.065449 | Validation Loss = 0.084382\n",
      "\n",
      "Epoch 15\n"
     ]
    },
    {
     "name": "stderr",
     "output_type": "stream",
     "text": [
      "100%|██████████| 87/87 [00:13<00:00,  6.51it/s]\n"
     ]
    },
    {
     "name": "stdout",
     "output_type": "stream",
     "text": [
      "Epoch 15: Train Loss = 0.064762 | Validation Loss = 0.086389\n",
      "\n",
      "Epoch 16\n"
     ]
    },
    {
     "name": "stderr",
     "output_type": "stream",
     "text": [
      "100%|██████████| 87/87 [00:13<00:00,  6.42it/s]\n"
     ]
    },
    {
     "name": "stdout",
     "output_type": "stream",
     "text": [
      "Epoch 16: Train Loss = 0.064887 | Validation Loss = 0.087713\n",
      "\n",
      "Epoch 17\n"
     ]
    },
    {
     "name": "stderr",
     "output_type": "stream",
     "text": [
      "100%|██████████| 87/87 [00:13<00:00,  6.59it/s]\n"
     ]
    },
    {
     "name": "stdout",
     "output_type": "stream",
     "text": [
      "Epoch 17: Train Loss = 0.064126 | Validation Loss = 0.088300\n",
      "\n",
      "Epoch 18\n"
     ]
    },
    {
     "name": "stderr",
     "output_type": "stream",
     "text": [
      "100%|██████████| 87/87 [00:13<00:00,  6.43it/s]\n"
     ]
    },
    {
     "name": "stdout",
     "output_type": "stream",
     "text": [
      "Epoch 18: Train Loss = 0.063113 | Validation Loss = 0.085522\n",
      "\n",
      "Epoch 19\n"
     ]
    },
    {
     "name": "stderr",
     "output_type": "stream",
     "text": [
      "100%|██████████| 87/87 [00:13<00:00,  6.43it/s]\n"
     ]
    },
    {
     "name": "stdout",
     "output_type": "stream",
     "text": [
      "Epoch 19: Train Loss = 0.062179 | Validation Loss = 0.084121\n",
      "\n",
      "Epoch 20\n"
     ]
    },
    {
     "name": "stderr",
     "output_type": "stream",
     "text": [
      "100%|██████████| 87/87 [00:13<00:00,  6.47it/s]\n"
     ]
    },
    {
     "name": "stdout",
     "output_type": "stream",
     "text": [
      "Epoch 20: Train Loss = 0.062550 | Validation Loss = 0.089309\n",
      "\n",
      "Epoch 21\n"
     ]
    },
    {
     "name": "stderr",
     "output_type": "stream",
     "text": [
      "100%|██████████| 87/87 [00:13<00:00,  6.56it/s]\n"
     ]
    },
    {
     "name": "stdout",
     "output_type": "stream",
     "text": [
      "Epoch 21: Train Loss = 0.061832 | Validation Loss = 0.087024\n",
      "\n",
      "Epoch 22\n"
     ]
    },
    {
     "name": "stderr",
     "output_type": "stream",
     "text": [
      "100%|██████████| 87/87 [00:13<00:00,  6.50it/s]\n"
     ]
    },
    {
     "name": "stdout",
     "output_type": "stream",
     "text": [
      "Epoch 22: Train Loss = 0.059862 | Validation Loss = 0.086961\n",
      "\n",
      "Epoch 23\n"
     ]
    },
    {
     "name": "stderr",
     "output_type": "stream",
     "text": [
      "100%|██████████| 87/87 [00:13<00:00,  6.42it/s]\n"
     ]
    },
    {
     "name": "stdout",
     "output_type": "stream",
     "text": [
      "Epoch 23: Train Loss = 0.059332 | Validation Loss = 0.083118\n",
      "\n",
      "Epoch 24\n"
     ]
    },
    {
     "name": "stderr",
     "output_type": "stream",
     "text": [
      "100%|██████████| 87/87 [00:13<00:00,  6.36it/s]\n"
     ]
    },
    {
     "name": "stdout",
     "output_type": "stream",
     "text": [
      "Epoch 24: Train Loss = 0.059692 | Validation Loss = 0.087737\n",
      "\n",
      "Epoch 25\n"
     ]
    },
    {
     "name": "stderr",
     "output_type": "stream",
     "text": [
      "100%|██████████| 87/87 [00:13<00:00,  6.54it/s]\n"
     ]
    },
    {
     "name": "stdout",
     "output_type": "stream",
     "text": [
      "Epoch 25: Train Loss = 0.065230 | Validation Loss = 0.086968\n",
      "\n",
      "Epoch 26\n"
     ]
    },
    {
     "name": "stderr",
     "output_type": "stream",
     "text": [
      "100%|██████████| 87/87 [00:13<00:00,  6.52it/s]\n"
     ]
    },
    {
     "name": "stdout",
     "output_type": "stream",
     "text": [
      "Epoch 26: Train Loss = 0.061436 | Validation Loss = 0.083211\n",
      "\n",
      "Epoch 27\n"
     ]
    },
    {
     "name": "stderr",
     "output_type": "stream",
     "text": [
      "100%|██████████| 87/87 [00:13<00:00,  6.49it/s]\n"
     ]
    },
    {
     "name": "stdout",
     "output_type": "stream",
     "text": [
      "Epoch 27: Train Loss = 0.059122 | Validation Loss = 0.084597\n",
      "\n",
      "Epoch 28\n"
     ]
    },
    {
     "name": "stderr",
     "output_type": "stream",
     "text": [
      "100%|██████████| 87/87 [00:13<00:00,  6.43it/s]\n"
     ]
    },
    {
     "name": "stdout",
     "output_type": "stream",
     "text": [
      "Epoch 28: Train Loss = 0.058762 | Validation Loss = 0.084439\n",
      "\n",
      "Epoch 29\n"
     ]
    },
    {
     "name": "stderr",
     "output_type": "stream",
     "text": [
      "100%|██████████| 87/87 [00:13<00:00,  6.40it/s]\n"
     ]
    },
    {
     "name": "stdout",
     "output_type": "stream",
     "text": [
      "Epoch 29: Train Loss = 0.058536 | Validation Loss = 0.085122\n",
      "\n",
      "Epoch 30\n"
     ]
    },
    {
     "name": "stderr",
     "output_type": "stream",
     "text": [
      "100%|██████████| 87/87 [00:13<00:00,  6.54it/s]\n"
     ]
    },
    {
     "name": "stdout",
     "output_type": "stream",
     "text": [
      "Epoch 30: Train Loss = 0.056922 | Validation Loss = 0.084089\n",
      "\n",
      "Epoch 31\n"
     ]
    },
    {
     "name": "stderr",
     "output_type": "stream",
     "text": [
      "100%|██████████| 87/87 [00:13<00:00,  6.51it/s]\n"
     ]
    },
    {
     "name": "stdout",
     "output_type": "stream",
     "text": [
      "Epoch 31: Train Loss = 0.056353 | Validation Loss = 0.086536\n",
      "\n",
      "Epoch 32\n"
     ]
    },
    {
     "name": "stderr",
     "output_type": "stream",
     "text": [
      "100%|██████████| 87/87 [00:13<00:00,  6.55it/s]\n"
     ]
    },
    {
     "name": "stdout",
     "output_type": "stream",
     "text": [
      "Epoch 32: Train Loss = 0.056850 | Validation Loss = 0.084062\n",
      "\n",
      "Epoch 33\n"
     ]
    },
    {
     "name": "stderr",
     "output_type": "stream",
     "text": [
      "100%|██████████| 87/87 [00:13<00:00,  6.54it/s]\n"
     ]
    },
    {
     "name": "stdout",
     "output_type": "stream",
     "text": [
      "Epoch 33: Train Loss = 0.056292 | Validation Loss = 0.084815\n",
      "\n",
      "Epoch 34\n"
     ]
    },
    {
     "name": "stderr",
     "output_type": "stream",
     "text": [
      "100%|██████████| 87/87 [00:13<00:00,  6.48it/s]\n"
     ]
    },
    {
     "name": "stdout",
     "output_type": "stream",
     "text": [
      "Epoch 34: Train Loss = 0.055045 | Validation Loss = 0.084363\n",
      "\n",
      "Epoch 35\n"
     ]
    },
    {
     "name": "stderr",
     "output_type": "stream",
     "text": [
      "100%|██████████| 87/87 [00:13<00:00,  6.47it/s]\n"
     ]
    },
    {
     "name": "stdout",
     "output_type": "stream",
     "text": [
      "Epoch 35: Train Loss = 0.054614 | Validation Loss = 0.085211\n",
      "\n",
      "Epoch 36\n"
     ]
    },
    {
     "name": "stderr",
     "output_type": "stream",
     "text": [
      "100%|██████████| 87/87 [00:13<00:00,  6.46it/s]\n"
     ]
    },
    {
     "name": "stdout",
     "output_type": "stream",
     "text": [
      "Epoch 36: Train Loss = 0.054267 | Validation Loss = 0.083501\n",
      "\n",
      "Epoch 37\n"
     ]
    },
    {
     "name": "stderr",
     "output_type": "stream",
     "text": [
      "100%|██████████| 87/87 [00:13<00:00,  6.54it/s]\n"
     ]
    },
    {
     "name": "stdout",
     "output_type": "stream",
     "text": [
      "Epoch 37: Train Loss = 0.053603 | Validation Loss = 0.087593\n",
      "\n",
      "Epoch 38\n"
     ]
    },
    {
     "name": "stderr",
     "output_type": "stream",
     "text": [
      "100%|██████████| 87/87 [00:13<00:00,  6.51it/s]\n"
     ]
    },
    {
     "name": "stdout",
     "output_type": "stream",
     "text": [
      "Epoch 38: Train Loss = 0.053180 | Validation Loss = 0.083792\n",
      "\n",
      "Epoch 39\n"
     ]
    },
    {
     "name": "stderr",
     "output_type": "stream",
     "text": [
      "100%|██████████| 87/87 [00:13<00:00,  6.47it/s]\n"
     ]
    },
    {
     "name": "stdout",
     "output_type": "stream",
     "text": [
      "Epoch 39: Train Loss = 0.053271 | Validation Loss = 0.087728\n",
      "\n",
      "Epoch 40\n"
     ]
    },
    {
     "name": "stderr",
     "output_type": "stream",
     "text": [
      "100%|██████████| 87/87 [00:13<00:00,  6.47it/s]\n"
     ]
    },
    {
     "name": "stdout",
     "output_type": "stream",
     "text": [
      "Epoch 40: Train Loss = 0.052447 | Validation Loss = 0.085096\n",
      "\n",
      "Epoch 41\n"
     ]
    },
    {
     "name": "stderr",
     "output_type": "stream",
     "text": [
      "100%|██████████| 87/87 [00:13<00:00,  6.61it/s]\n"
     ]
    },
    {
     "name": "stdout",
     "output_type": "stream",
     "text": [
      "Epoch 41: Train Loss = 0.051920 | Validation Loss = 0.085392\n",
      "\n",
      "Epoch 42\n"
     ]
    },
    {
     "name": "stderr",
     "output_type": "stream",
     "text": [
      "100%|██████████| 87/87 [00:13<00:00,  6.55it/s]\n"
     ]
    },
    {
     "name": "stdout",
     "output_type": "stream",
     "text": [
      "Epoch 42: Train Loss = 0.051176 | Validation Loss = 0.088398\n",
      "\n",
      "Epoch 43\n"
     ]
    },
    {
     "name": "stderr",
     "output_type": "stream",
     "text": [
      "100%|██████████| 87/87 [00:13<00:00,  6.47it/s]\n"
     ]
    },
    {
     "name": "stdout",
     "output_type": "stream",
     "text": [
      "Epoch 43: Train Loss = 0.050989 | Validation Loss = 0.089414\n",
      "\n",
      "Epoch 44\n"
     ]
    },
    {
     "name": "stderr",
     "output_type": "stream",
     "text": [
      "100%|██████████| 87/87 [00:13<00:00,  6.50it/s]\n"
     ]
    },
    {
     "name": "stdout",
     "output_type": "stream",
     "text": [
      "Epoch 44: Train Loss = 0.050719 | Validation Loss = 0.084788\n",
      "\n",
      "Epoch 45\n"
     ]
    },
    {
     "name": "stderr",
     "output_type": "stream",
     "text": [
      "100%|██████████| 87/87 [00:13<00:00,  6.43it/s]\n"
     ]
    },
    {
     "name": "stdout",
     "output_type": "stream",
     "text": [
      "Epoch 45: Train Loss = 0.050468 | Validation Loss = 0.086603\n",
      "\n",
      "Epoch 46\n"
     ]
    },
    {
     "name": "stderr",
     "output_type": "stream",
     "text": [
      "100%|██████████| 87/87 [00:13<00:00,  6.47it/s]\n"
     ]
    },
    {
     "name": "stdout",
     "output_type": "stream",
     "text": [
      "Epoch 46: Train Loss = 0.049631 | Validation Loss = 0.087186\n",
      "\n",
      "Epoch 47\n"
     ]
    },
    {
     "name": "stderr",
     "output_type": "stream",
     "text": [
      "100%|██████████| 87/87 [00:13<00:00,  6.39it/s]\n"
     ]
    },
    {
     "name": "stdout",
     "output_type": "stream",
     "text": [
      "Epoch 47: Train Loss = 0.050041 | Validation Loss = 0.087513\n",
      "\n",
      "Epoch 48\n"
     ]
    },
    {
     "name": "stderr",
     "output_type": "stream",
     "text": [
      "100%|██████████| 87/87 [00:13<00:00,  6.31it/s]\n"
     ]
    },
    {
     "name": "stdout",
     "output_type": "stream",
     "text": [
      "Epoch 48: Train Loss = 0.050168 | Validation Loss = 0.088526\n",
      "\n",
      "Epoch 49\n"
     ]
    },
    {
     "name": "stderr",
     "output_type": "stream",
     "text": [
      "100%|██████████| 87/87 [00:14<00:00,  6.17it/s]\n"
     ]
    },
    {
     "name": "stdout",
     "output_type": "stream",
     "text": [
      "Epoch 49: Train Loss = 0.049716 | Validation Loss = 0.087080\n",
      "\n",
      "Epoch 50\n"
     ]
    },
    {
     "name": "stderr",
     "output_type": "stream",
     "text": [
      "100%|██████████| 87/87 [00:13<00:00,  6.24it/s]\n"
     ]
    },
    {
     "name": "stdout",
     "output_type": "stream",
     "text": [
      "Epoch 50: Train Loss = 0.049558 | Validation Loss = 0.087990\n"
     ]
    }
   ],
   "source": [
    "train(50)"
   ]
  },
  {
   "cell_type": "markdown",
   "metadata": {},
   "source": [
    "Better than baseline?"
   ]
  },
  {
   "cell_type": "code",
   "execution_count": 75,
   "metadata": {},
   "outputs": [
    {
     "data": {
      "text/plain": [
       "(-0.2801481939105758, -0.24812351389524312)"
      ]
     },
     "execution_count": 75,
     "metadata": {},
     "output_type": "execute_result"
    }
   ],
   "source": [
    "(\n",
    "    float(model.errs[-1][0] - base_train_err), \n",
    "    float(model.errs[-1][1] - base_val_err)\n",
    ")"
   ]
  },
  {
   "cell_type": "markdown",
   "metadata": {},
   "source": [
    "Learning curve"
   ]
  },
  {
   "cell_type": "code",
   "execution_count": 76,
   "metadata": {},
   "outputs": [
    {
     "data": {
      "image/png": "[encoded data removed]",
      "text/plain": [
       "<Figure size 640x480 with 1 Axes>"
      ]
     },
     "metadata": {},
     "output_type": "display_data"
    },
    {
     "data": {
      "image/png": "[encoded data removed]",
      "text/plain": [
       "<Figure size 640x480 with 1 Axes>"
      ]
     },
     "metadata": {},
     "output_type": "display_data"
    }
   ],
   "source": [
    "import matplotlib.pyplot as plt\n",
    "\n",
    "plt.plot([float(e[0]) for e in model.errs])\n",
    "plt.title(\"Train loss\")\n",
    "plt.show()\n",
    "plt.plot([float(e[1]) for e in model.errs])\n",
    "plt.title(\"Validation loss\")\n",
    "plt.show()"
   ]
  },
  {
   "cell_type": "markdown",
   "metadata": {},
   "source": [
    "Prediction example"
   ]
  },
  {
   "cell_type": "code",
   "execution_count": 77,
   "metadata": {},
   "outputs": [],
   "source": [
    "softmax_ = nn.Softmax(dim=1)"
   ]
  },
  {
   "cell_type": "code",
   "execution_count": 91,
   "metadata": {},
   "outputs": [],
   "source": [
    "def get_sample(min_area=0.1):\n",
    "    for input_, truth in valloader:\n",
    "        for idx_batch in range(truth.shape[0]):\n",
    "            if truth[idx_batch, 1, :, :].mean() > min_area:\n",
    "                return input_, truth, idx_batch"
   ]
  },
  {
   "cell_type": "code",
   "execution_count": 92,
   "metadata": {},
   "outputs": [],
   "source": [
    "input_, truth, idx_batch = get_sample(0.01)\n",
    "\n",
    "pred = model(input_)"
   ]
  },
  {
   "cell_type": "code",
   "execution_count": 93,
   "metadata": {},
   "outputs": [
    {
     "data": {
      "image/png": "[encoded data removed]",
      "text/plain": [
       "<Figure size 2400x800 with 4 Axes>"
      ]
     },
     "metadata": {},
     "output_type": "display_data"
    }
   ],
   "source": [
    "fig, ax = plt.subplots(1, 4, figsize=(24, 8))\n",
    "for i in range(4):\n",
    "    ax[i].matshow(input_[idx_batch, i, :, :].cpu(), cmap=\"gnuplot\", vmin=truth.min(), vmax=truth.max())\n",
    "plt.show()"
   ]
  },
  {
   "cell_type": "code",
   "execution_count": 94,
   "metadata": {},
   "outputs": [
    {
     "name": "stderr",
     "output_type": "stream",
     "text": [
      "C:\\Users\\giovanni\\AppData\\Local\\Temp\\ipykernel_2768\\3523613288.py:6: UserWarning: Matplotlib is currently using module://matplotlib_inline.backend_inline, which is a non-GUI backend, so cannot show the figure.\n",
      "  fig.show()\n"
     ]
    },
    {
     "data": {
      "image/png": "[encoded data removed]",
      "text/plain": [
       "<Figure size 800x600 with 4 Axes>"
      ]
     },
     "metadata": {},
     "output_type": "display_data"
    }
   ],
   "source": [
    "fig, ax = plt.subplots(1, 2, figsize=(8, 6))\n",
    "m1 = ax[0].matshow(truth[idx_batch, 1, :, :].cpu(), cmap=\"gnuplot\", vmin=truth.min(), vmax=truth.max())\n",
    "m2 = ax[1].matshow(softmax_(pred).detach().cpu().numpy()[idx_batch, 1, :, :], cmap=\"gnuplot\", vmin=truth.min(), vmax=1)\n",
    "fig.colorbar(m1)\n",
    "fig.colorbar(m2)\n",
    "fig.show()"
   ]
  },
  {
   "cell_type": "markdown",
   "metadata": {},
   "source": [
    "# Save model"
   ]
  },
  {
   "cell_type": "code",
   "execution_count": null,
   "metadata": {},
   "outputs": [],
   "source": [
    "torch.save(model.state_dict(), r\"DeepLabV3+.pt\")"
   ]
  }
 ],
 "metadata": {
  "kernelspec": {
   "display_name": "venv_dl2cv",
   "language": "python",
   "name": "python3"
  },
  "language_info": {
   "codemirror_mode": {
    "name": "ipython",
    "version": 3
   },
   "file_extension": ".py",
   "mimetype": "text/x-python",
   "name": "python",
   "nbconvert_exporter": "python",
   "pygments_lexer": "ipython3",
   "version": "3.11.5"
  },
  "orig_nbformat": 4
 },
 "nbformat": 4,
 "nbformat_minor": 2
}
