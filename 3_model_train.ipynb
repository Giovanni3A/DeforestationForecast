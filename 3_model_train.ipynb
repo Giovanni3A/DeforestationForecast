{
 "cells": [
  {
   "cell_type": "code",
   "execution_count": 1,
   "metadata": {},
   "outputs": [],
   "source": [
    "import os\n",
    "import pickle\n",
    "import numpy as np\n",
    "import pandas as pd\n",
    "import geopandas as gpd\n",
    "from tqdm import tqdm\n",
    "\n",
    "import matplotlib.pyplot as plt\n",
    "import seaborn as sns\n",
    "\n",
    "import config\n",
    "from utils import compute_frames"
   ]
  },
  {
   "cell_type": "code",
   "execution_count": 2,
   "metadata": {},
   "outputs": [],
   "source": [
    "import torch\n",
    "from torch.utils.data import Dataset"
   ]
  },
  {
   "cell_type": "markdown",
   "metadata": {},
   "source": [
    "# History dataset generation"
   ]
  },
  {
   "cell_type": "code",
   "execution_count": 3,
   "metadata": {},
   "outputs": [],
   "source": [
    "# load legal amazon limits\n",
    "am_bounds = gpd.read_file(config.AMAZON_FRONTIER_DATA)"
   ]
  },
  {
   "cell_type": "code",
   "execution_count": 4,
   "metadata": {},
   "outputs": [],
   "source": [
    "# load frames idx detail\n",
    "frames_idx = pd.read_csv(config.TR_FRAMES_IDX, index_col=0)"
   ]
  },
  {
   "cell_type": "code",
   "execution_count": 5,
   "metadata": {},
   "outputs": [],
   "source": [
    "# load frames deforestation area history\n",
    "deforestation = pd.read_csv(config.TR_DEFORESTATION, index_col=0)\n",
    "deforestation[\"quarter_date\"] = pd.to_datetime(deforestation[\"quarter_date\"])"
   ]
  },
  {
   "cell_type": "code",
   "execution_count": 6,
   "metadata": {},
   "outputs": [],
   "source": [
    "# counties\n",
    "frames_county = pd.read_csv(config.TR_COUNTIES, index_col=0)\n",
    "counties_defor = pd.read_csv(config.TR_COUNTIES_DEFOR, index_col=0)"
   ]
  },
  {
   "cell_type": "markdown",
   "metadata": {},
   "source": [
    "## Create grid"
   ]
  },
  {
   "cell_type": "code",
   "execution_count": 7,
   "metadata": {},
   "outputs": [],
   "source": [
    "# create limits history grid\n",
    "time_grid = np.zeros((len(config.TIME_STEPS), frames_idx[\"x\"].max() - frames_idx[\"x\"].min() + 1, frames_idx[\"y\"].max() - frames_idx[\"y\"].min() + 1))\n",
    "for t, dt in enumerate(config.TIME_STEPS):\n",
    "    defor_area = (\n",
    "        deforestation[\n",
    "            deforestation[\"quarter_date\"] == dt\n",
    "        ].set_index(\"frame_id\")[\"area\"] +\\\n",
    "        pd.Series(0, index=frames_idx.index)\n",
    "    ).fillna(0)\n",
    "    time_grid[t, :, :] = defor_area.values.reshape(time_grid[0, :, :].shape)"
   ]
  },
  {
   "cell_type": "code",
   "execution_count": 8,
   "metadata": {},
   "outputs": [
    {
     "data": {
      "text/plain": [
       "(28, 1002, 778)"
      ]
     },
     "execution_count": 8,
     "metadata": {},
     "output_type": "execute_result"
    }
   ],
   "source": [
    "time_grid.shape"
   ]
  },
  {
   "cell_type": "markdown",
   "metadata": {},
   "source": [
    "# Counties data"
   ]
  },
  {
   "cell_type": "markdown",
   "metadata": {},
   "source": [
    "## Population and density"
   ]
  },
  {
   "cell_type": "code",
   "execution_count": 9,
   "metadata": {},
   "outputs": [],
   "source": [
    "county_data = np.zeros((2, frames_idx[\"x\"].max() - frames_idx[\"x\"].min() + 1, frames_idx[\"y\"].max() - frames_idx[\"y\"].min() + 1))\n",
    "county_data[0] = (\n",
    "    frames_county.set_index(\"frame_id\")[\"populacao\"] +\\\n",
    "    pd.Series(0, index=frames_idx.index)\n",
    ").fillna(0).\\\n",
    "    values.reshape(county_data.shape[1:])\n",
    "\n",
    "county_data[1] = (\n",
    "    frames_county.set_index(\"frame_id\")[\"densidade\"] +\\\n",
    "    pd.Series(0, index=frames_idx.index)\n",
    ").fillna(0).\\\n",
    "    values.reshape(county_data.shape[1:])"
   ]
  },
  {
   "cell_type": "markdown",
   "metadata": {},
   "source": [
    "## Deforestation"
   ]
  },
  {
   "cell_type": "code",
   "execution_count": 10,
   "metadata": {},
   "outputs": [],
   "source": [
    "frames_counties_defor = pd.merge(\n",
    "    counties_defor,\n",
    "    frames_county[[\"frame_id\", \"county_id\"]],\n",
    "    on=\"county_id\",\n",
    "    how=\"right\"\n",
    ")\n",
    "frames_counties_defor[\"quarter_date\"] = pd.to_datetime(frames_counties_defor[\"quarter_date\"])"
   ]
  },
  {
   "cell_type": "code",
   "execution_count": 11,
   "metadata": {},
   "outputs": [
    {
     "name": "stderr",
     "output_type": "stream",
     "text": [
      "28it [00:06,  4.60it/s]\n"
     ]
    }
   ],
   "source": [
    "# create limits history grid\n",
    "counties_time_grid = np.zeros((len(config.TIME_STEPS), frames_idx[\"x\"].max() - frames_idx[\"x\"].min() + 1, frames_idx[\"y\"].max() - frames_idx[\"y\"].min() + 1))\n",
    "for t, dt in tqdm(enumerate(config.TIME_STEPS)):\n",
    "    defor_area = (\n",
    "        frames_counties_defor[\n",
    "            frames_counties_defor[\"quarter_date\"] == dt\n",
    "        ].set_index(\"frame_id\")[\"area\"] +\\\n",
    "        pd.Series(0, index=frames_idx.index)\n",
    "    ).fillna(0)\n",
    "    counties_time_grid[t, :, :] = defor_area.values.reshape(counties_time_grid[0, :, :].shape)"
   ]
  },
  {
   "cell_type": "code",
   "execution_count": 12,
   "metadata": {},
   "outputs": [
    {
     "data": {
      "text/plain": [
       "(28, 1002, 778)"
      ]
     },
     "execution_count": 12,
     "metadata": {},
     "output_type": "execute_result"
    }
   ],
   "source": [
    "counties_time_grid.shape"
   ]
  },
  {
   "cell_type": "markdown",
   "metadata": {},
   "source": [
    "# Compute frame patches\n",
    "\n",
    "A patch is squared set of unitary frames. The patch formation process consists in iterating through the full image on both axis computing the frames corresponding to each iteration."
   ]
  },
  {
   "cell_type": "code",
   "execution_count": 13,
   "metadata": {},
   "outputs": [
    {
     "name": "stderr",
     "output_type": "stream",
     "text": [
      "100%|██████████| 32/32 [00:04<00:00,  6.93it/s]\n"
     ]
    }
   ],
   "source": [
    "out_condition = \"borders\"  # deforestation | borders\n",
    "\n",
    "bundle_step = 32\n",
    "patches = []\n",
    "for ix in tqdm(list(range(frames_idx[\"x\"].min(), frames_idx[\"x\"].max()+1, bundle_step))):\n",
    "    fx = ix + config.INPUT_BOXES_SIZE\n",
    "    for iy in range(frames_idx[\"y\"].min(), frames_idx[\"y\"].max()+1, bundle_step):\n",
    "        fy = iy + config.INPUT_BOXES_SIZE\n",
    "\n",
    "        iframes = frames_idx[\n",
    "            (frames_idx[\"x\"] >= ix) & \n",
    "            (frames_idx[\"x\"] < fx) &\n",
    "            (frames_idx[\"y\"] >= iy) &\n",
    "            (frames_idx[\"y\"] < fy)\n",
    "        ]\n",
    "        \n",
    "        if out_condition == \"borders\":\n",
    "            if iframes[\"in_borders\"].mean() >= 0.5:  # condition: bundle has to be at least half inside borders\n",
    "                patches.append(iframes.index)\n",
    "                \n",
    "        elif out_condition == \"deforestation\":\n",
    "            out_of_borders_frames = len(set(iframes.index) - set(deforestation[\"frame_id\"].values))\n",
    "            if out_of_borders_frames < len(iframes):  # condition: bundle has to contain  some deforestation\n",
    "                patches.append(iframes.index)        "
   ]
  },
  {
   "cell_type": "code",
   "execution_count": 14,
   "metadata": {},
   "outputs": [],
   "source": [
    "# remove patches that represent reduced regions\n",
    "patches = [b for b in patches if (len(b)==len(patches[0]))]"
   ]
  },
  {
   "cell_type": "code",
   "execution_count": 15,
   "metadata": {},
   "outputs": [
    {
     "data": {
      "text/plain": [
       "441"
      ]
     },
     "execution_count": 15,
     "metadata": {},
     "output_type": "execute_result"
    }
   ],
   "source": [
    "len(patches)"
   ]
  },
  {
   "cell_type": "code",
   "execution_count": 16,
   "metadata": {},
   "outputs": [
    {
     "data": {
      "text/plain": [
       "Index([  288,   289,   290,   291,   292,   293,   294,   295,   296,   297,\n",
       "       ...\n",
       "       49356, 49357, 49358, 49359, 49360, 49361, 49362, 49363, 49364, 49365],\n",
       "      dtype='int64', length=4096)"
      ]
     },
     "execution_count": 16,
     "metadata": {},
     "output_type": "execute_result"
    }
   ],
   "source": [
    "patches[0]"
   ]
  },
  {
   "cell_type": "code",
   "execution_count": 17,
   "metadata": {},
   "outputs": [],
   "source": [
    "# generate region and check which patches intersect\n",
    "region = compute_frames(am_bounds.total_bounds, config.BOX_SIDE, 200, 300, 500, 600)"
   ]
  },
  {
   "cell_type": "code",
   "execution_count": 18,
   "metadata": {},
   "outputs": [
    {
     "name": "stdout",
     "output_type": "stream",
     "text": [
      "41\n",
      "42\n",
      "43\n",
      "44\n",
      "45\n",
      "53\n",
      "54\n",
      "55\n",
      "56\n",
      "57\n"
     ]
    },
    {
     "data": {
      "image/png": "[encoded data removed]",
      "text/plain": [
       "<Figure size 640x480 with 1 Axes>"
      ]
     },
     "metadata": {},
     "output_type": "display_data"
    }
   ],
   "source": [
    "fig, ax = plt.subplots()\n",
    "am_bounds.boundary.plot(ax=ax, color=\"black\")\n",
    "j = 0\n",
    "for i, b in enumerate(patches):\n",
    "    int_b = region[region[\"frame_id\"].isin(b)]\n",
    "    if len(int_b) > 0:\n",
    "        int_b.plot(ax=ax, color=sns.color_palette()[j%10], alpha=.5)\n",
    "        j+=1\n",
    "        if j > 10:\n",
    "            break\n",
    "        print(i)\n",
    "plt.show()"
   ]
  },
  {
   "cell_type": "markdown",
   "metadata": {},
   "source": [
    "# Data Normalization"
   ]
  },
  {
   "cell_type": "code",
   "execution_count": 19,
   "metadata": {},
   "outputs": [],
   "source": [
    "class BinaryMatrixData:\n",
    "\n",
    "    def __init__(self):\n",
    "        pass\n",
    "\n",
    "    def fit(self, X):\n",
    "        self.X = X.copy()\n",
    "\n",
    "        # apply (-1, 1) range\n",
    "        self.X[np.where(X>=1e-7)] = 1\n",
    "        self.X = 2*(self.X - .5)\n",
    "\n",
    "        # normalize to get zero mean\n",
    "        self.multiplier = (self.X<0).sum() / (self.X>0).sum()\n",
    "        self.X[np.where(self.X == 1)] = self.multiplier\n",
    "\n",
    "        return self.X\n",
    "\n",
    "    def transform(self, X):\n",
    "        X_ = X.copy()\n",
    "\n",
    "        # apply (-1, 1) range\n",
    "        X_[np.where(X_>=1e-7)] = 1\n",
    "        X_ = 2*(X_ - .5)\n",
    "\n",
    "        # normalize to get zero mean\n",
    "        X_[np.where(X_ == 1)] = self.multiplier\n",
    "\n",
    "        return X_"
   ]
  },
  {
   "cell_type": "code",
   "execution_count": 20,
   "metadata": {},
   "outputs": [
    {
     "data": {
      "text/plain": [
       "(28, 1002, 778)"
      ]
     },
     "execution_count": 20,
     "metadata": {},
     "output_type": "execute_result"
    }
   ],
   "source": [
    "time_grid.shape"
   ]
  },
  {
   "cell_type": "code",
   "execution_count": 21,
   "metadata": {},
   "outputs": [],
   "source": [
    "train_time_idx = range(8,20)\n",
    "test_time_idx = range(20,28)\n",
    "\n",
    "train_data = time_grid[train_time_idx, :, :]\n",
    "test_data = time_grid[test_time_idx, :, :]"
   ]
  },
  {
   "cell_type": "code",
   "execution_count": 22,
   "metadata": {},
   "outputs": [],
   "source": [
    "one_multiplicator_factor = np.log(\n",
    "    (train_data <= 1e-7).sum() / (train_data > 1e-7).sum()\n",
    ")"
   ]
  },
  {
   "cell_type": "code",
   "execution_count": 23,
   "metadata": {},
   "outputs": [],
   "source": [
    "norm_pop = (county_data[0, :, :] - np.median(county_data[0, :, :])) / 1e5\n",
    "norm_den = (county_data[1, :, :] - np.median(county_data[1, :, :])) / 30\n",
    "\n",
    "county_data[0, :, :] = norm_pop\n",
    "county_data[1, :, :] = norm_den"
   ]
  },
  {
   "cell_type": "code",
   "execution_count": 24,
   "metadata": {},
   "outputs": [],
   "source": [
    "counties_time_grid = counties_time_grid / counties_time_grid[train_time_idx, :, :].std()"
   ]
  },
  {
   "cell_type": "code",
   "execution_count": 25,
   "metadata": {},
   "outputs": [],
   "source": [
    "# loss function\n",
    "def WeightedBinaryCrossEntropy(target, prediction):\n",
    "    return -(one_multiplicator_factor*target*prediction.log() + (1-target)*((1-prediction).log()))"
   ]
  },
  {
   "cell_type": "markdown",
   "metadata": {},
   "source": [
    "# Dataset & Dataloaders"
   ]
  },
  {
   "cell_type": "code",
   "execution_count": 26,
   "metadata": {},
   "outputs": [
    {
     "data": {
      "text/plain": [
       "10584"
      ]
     },
     "execution_count": 26,
     "metadata": {},
     "output_type": "execute_result"
    }
   ],
   "source": [
    "len(patches) * (time_grid.shape[0] - 4)"
   ]
  },
  {
   "cell_type": "code",
   "execution_count": 27,
   "metadata": {},
   "outputs": [],
   "source": [
    "class CustomDataset(Dataset):\n",
    "    def __init__(self, X, patches, frames_idx, county_data=None, county_defor=None):\n",
    "        super(CustomDataset, self).__init__()\n",
    "\n",
    "        self.patches = patches\n",
    "        self.frames_idx = frames_idx\n",
    "        self.X = X\n",
    "        self.county_data = county_data\n",
    "        self.county_defor = county_defor\n",
    "        self.autor_window = 4\n",
    "        self.ix = frames_idx[\"x\"].min()\n",
    "        self.iy = frames_idx[\"y\"].min()\n",
    "\n",
    "    def __len__(self):\n",
    "        return len(self.patches) * (self.X.shape[0]-self.autor_window)\n",
    "\n",
    "    def __getitem__(self, index):\n",
    "\n",
    "        # get index info\n",
    "        idx_patch = index // (self.X.shape[0] - self.autor_window)\n",
    "        idx_time   = index % (self.X.shape[0] - self.autor_window)\n",
    "        idx_frames = self.frames_idx.loc[self.patches[idx_patch]]\n",
    "\n",
    "        # get input\n",
    "        input_matrix = self.X[\n",
    "            idx_time:idx_time+self.autor_window, \n",
    "            idx_frames[\"x\"].min()-self.ix:idx_frames[\"x\"].max()-self.ix+1, \n",
    "            idx_frames[\"y\"].min()-self.iy:idx_frames[\"y\"].max()-self.iy+1\n",
    "        ]\n",
    "\n",
    "        if self.county_data is not None:\n",
    "            input_matrix = np.concatenate([\n",
    "                input_matrix,\n",
    "                self.county_data[\n",
    "                    :,\n",
    "                    idx_frames[\"x\"].min()-self.ix:idx_frames[\"x\"].max()-self.ix+1, \n",
    "                    idx_frames[\"y\"].min()-self.iy:idx_frames[\"y\"].max()-self.iy+1\n",
    "                ]\n",
    "            ])\n",
    "        \n",
    "        if self.county_defor is not None:\n",
    "            input_matrix = np.concatenate([\n",
    "                input_matrix,\n",
    "                self.county_defor[\n",
    "                    idx_time:idx_time+self.autor_window,\n",
    "                    idx_frames[\"x\"].min()-self.ix:idx_frames[\"x\"].max()-self.ix+1, \n",
    "                    idx_frames[\"y\"].min()-self.iy:idx_frames[\"y\"].max()-self.iy+1\n",
    "                ]\n",
    "            ])\n",
    "        data = torch.tensor(input_matrix).float()\n",
    "\n",
    "        # get output\n",
    "        labels = torch.tensor(\n",
    "            self.X[\n",
    "                idx_time+self.autor_window, \n",
    "                idx_frames[\"x\"].min()-self.ix:idx_frames[\"x\"].max()-self.ix+1, \n",
    "                idx_frames[\"y\"].min()-self.iy:idx_frames[\"y\"].max()-self.iy+1\n",
    "            ] > 1e-7\n",
    "        ).float()\n",
    "        return data, labels"
   ]
  },
  {
   "cell_type": "code",
   "execution_count": 28,
   "metadata": {},
   "outputs": [
    {
     "data": {
      "text/plain": [
       "((12, 1002, 778), (8, 1002, 778))"
      ]
     },
     "execution_count": 28,
     "metadata": {},
     "output_type": "execute_result"
    }
   ],
   "source": [
    "train_data.shape, test_data.shape"
   ]
  },
  {
   "cell_type": "code",
   "execution_count": 46,
   "metadata": {},
   "outputs": [],
   "source": [
    "patches_sample_train = [patches[i] for i in np.random.choice(range(len(patches)), 100, replace=False)]\n",
    "patches_sample_test = [patches[i] for i in np.random.choice(range(len(patches)), 10, replace=False)]"
   ]
  },
  {
   "cell_type": "code",
   "execution_count": 47,
   "metadata": {},
   "outputs": [],
   "source": [
    "trainloader = torch.utils.data.DataLoader(\n",
    "    CustomDataset(\n",
    "        train_data, \n",
    "        patches_sample_train, \n",
    "        frames_idx, \n",
    "        county_data,\n",
    "        counties_time_grid\n",
    "    ),\n",
    "    batch_size=40,\n",
    "    shuffle=True\n",
    ")\n",
    "\n",
    "testloader = torch.utils.data.DataLoader(\n",
    "    CustomDataset(\n",
    "        test_data, \n",
    "        patches_sample_test, \n",
    "        frames_idx, \n",
    "        county_data,\n",
    "        counties_time_grid\n",
    "    ),\n",
    "    batch_size=1,\n",
    "    shuffle=False\n",
    ")"
   ]
  },
  {
   "cell_type": "code",
   "execution_count": 48,
   "metadata": {},
   "outputs": [
    {
     "data": {
      "text/plain": [
       "(800, 40)"
      ]
     },
     "execution_count": 48,
     "metadata": {},
     "output_type": "execute_result"
    }
   ],
   "source": [
    "trainloader.__len__()*trainloader.batch_size, testloader.__len__()*testloader.batch_size"
   ]
  },
  {
   "cell_type": "markdown",
   "metadata": {},
   "source": [
    "# Baseline Model\n",
    "\n",
    "Just test the metrics we get when always predicting zeros."
   ]
  },
  {
   "cell_type": "code",
   "execution_count": 49,
   "metadata": {},
   "outputs": [
    {
     "name": "stdout",
     "output_type": "stream",
     "text": [
      "Baseline: Train Loss = 0.018462 | Test Loss = 0.735048\n"
     ]
    }
   ],
   "source": [
    "# baseline: all 50%\n",
    "base_train_err = 0\n",
    "for inputs, labels in trainloader:\n",
    "    y_pred = torch.tensor(0.5*np.ones(labels.shape))\n",
    "    # base_train_err -= (y_pred*labels).float().mean()\n",
    "    base_train_err += WeightedBinaryCrossEntropy(labels, y_pred).detach().float().mean()\n",
    "base_train_err = base_train_err / (len(trainloader)*trainloader.batch_size)\n",
    "    \n",
    "base_test_err = 0\n",
    "for inputs, labels in testloader:\n",
    "    y_pred = torch.tensor(0.5*np.ones(labels.shape))\n",
    "    # base_test_err -= (y_pred*labels).float().mean()\n",
    "    base_test_err += WeightedBinaryCrossEntropy(labels, y_pred).detach().float().mean()\n",
    "base_test_err = base_test_err / (len(testloader)*testloader.batch_size)\n",
    "\n",
    "print(f\"Baseline: Train Loss = {base_train_err:.6f} | Test Loss = {base_test_err:.6f}\")"
   ]
  },
  {
   "cell_type": "markdown",
   "metadata": {},
   "source": [
    "# Model Implementation"
   ]
  },
  {
   "cell_type": "code",
   "execution_count": 50,
   "metadata": {},
   "outputs": [],
   "source": [
    "import torch\n",
    "import torch.nn as nn\n",
    "import torch.optim as optim\n",
    "import torchvision\n",
    "\n",
    "ks = 7\n",
    " \n",
    "class BasicConvModel(nn.Module):\n",
    "    def __init__(self):\n",
    "        super().__init__()\n",
    "        self.epoch = 0\n",
    "        self.errs = []\n",
    "\n",
    "        self.convolutional_layer = nn.Sequential(\n",
    "            nn.Conv2d(4+2+4, 64, kernel_size=(ks,ks), stride=1, padding=int(ks/2)),\n",
    "            nn.ReLU(),\n",
    "            nn.Conv2d(64, 64, kernel_size=(ks,ks), stride=1, padding=int(ks/2)),\n",
    "            nn.ReLU(),\n",
    "            nn.MaxPool2d(kernel_size=(ks,ks), stride=1, padding=int(ks/2)),\n",
    "            nn.BatchNorm2d(64),\n",
    "            nn.Conv2d(64, 1, kernel_size=(ks,ks), stride=1, padding=int(ks/2)),\n",
    "            nn.Sigmoid()\n",
    "        )\n",
    " \n",
    "    def forward(self, x):\n",
    "        y = self.convolutional_layer(x)\n",
    "        return y"
   ]
  },
  {
   "cell_type": "code",
   "execution_count": 51,
   "metadata": {},
   "outputs": [],
   "source": [
    "# model initialization\n",
    "model = BasicConvModel()\n",
    "optimizer = optim.SGD(model.parameters(), lr=1e-4, momentum=0.9)"
   ]
  },
  {
   "cell_type": "code",
   "execution_count": 52,
   "metadata": {},
   "outputs": [],
   "source": [
    "# model.load_state_dict(torch.load(r\"basic_cnn_003.pt\"))"
   ]
  },
  {
   "cell_type": "code",
   "execution_count": 53,
   "metadata": {},
   "outputs": [
    {
     "name": "stdout",
     "output_type": "stream",
     "text": [
      "BasicConvModel(\n",
      "  (convolutional_layer): Sequential(\n",
      "    (0): Conv2d(10, 64, kernel_size=(7, 7), stride=(1, 1), padding=(3, 3))\n",
      "    (1): ReLU()\n",
      "    (2): Conv2d(64, 64, kernel_size=(7, 7), stride=(1, 1), padding=(3, 3))\n",
      "    (3): ReLU()\n",
      "    (4): MaxPool2d(kernel_size=(7, 7), stride=1, padding=3, dilation=1, ceil_mode=False)\n",
      "    (5): BatchNorm2d(64, eps=1e-05, momentum=0.1, affine=True, track_running_stats=True)\n",
      "    (6): Conv2d(64, 1, kernel_size=(7, 7), stride=(1, 1), padding=(3, 3))\n",
      "    (7): Sigmoid()\n",
      "  )\n",
      ")\n"
     ]
    }
   ],
   "source": [
    "print(model)"
   ]
  },
  {
   "cell_type": "code",
   "execution_count": 54,
   "metadata": {},
   "outputs": [],
   "source": [
    "for data, target in trainloader:\n",
    "    break"
   ]
  },
  {
   "cell_type": "code",
   "execution_count": 55,
   "metadata": {},
   "outputs": [
    {
     "data": {
      "text/plain": [
       "(torch.Size([40, 10, 64, 64]), torch.Size([40, 64, 64]))"
      ]
     },
     "execution_count": 55,
     "metadata": {},
     "output_type": "execute_result"
    }
   ],
   "source": [
    "data.shape, target.shape"
   ]
  },
  {
   "cell_type": "code",
   "execution_count": 56,
   "metadata": {},
   "outputs": [],
   "source": [
    "pred = model(data)"
   ]
  },
  {
   "cell_type": "code",
   "execution_count": 57,
   "metadata": {},
   "outputs": [
    {
     "data": {
      "text/plain": [
       "tensor(0.)"
      ]
     },
     "execution_count": 57,
     "metadata": {},
     "output_type": "execute_result"
    }
   ],
   "source": [
    "target.min()"
   ]
  },
  {
   "cell_type": "code",
   "execution_count": 58,
   "metadata": {},
   "outputs": [
    {
     "data": {
      "text/plain": [
       "(tensor(0.4577, grad_fn=<SelectBackward0>), tensor(0.))"
      ]
     },
     "execution_count": 58,
     "metadata": {},
     "output_type": "execute_result"
    }
   ],
   "source": [
    "pred[0, 0, 0, 0], target[0, 0, 0]"
   ]
  },
  {
   "cell_type": "code",
   "execution_count": 59,
   "metadata": {},
   "outputs": [
    {
     "data": {
      "text/plain": [
       "(torch.Size([40, 1, 64, 64]), torch.Size([40, 64, 64]))"
      ]
     },
     "execution_count": 59,
     "metadata": {},
     "output_type": "execute_result"
    }
   ],
   "source": [
    "pred.shape, target.shape"
   ]
  },
  {
   "cell_type": "code",
   "execution_count": 60,
   "metadata": {},
   "outputs": [
    {
     "data": {
      "text/plain": [
       "torch.Size([40, 64, 64])"
      ]
     },
     "execution_count": 60,
     "metadata": {},
     "output_type": "execute_result"
    }
   ],
   "source": [
    "(pred[:, 0, :, :]*target).shape"
   ]
  },
  {
   "cell_type": "code",
   "execution_count": 61,
   "metadata": {},
   "outputs": [
    {
     "data": {
      "text/plain": [
       "torch.Size([40, 64, 64])"
      ]
     },
     "execution_count": 61,
     "metadata": {},
     "output_type": "execute_result"
    }
   ],
   "source": [
    "(pred[:, 0, :, :] - target).multiply(np.exp(target)).shape"
   ]
  },
  {
   "cell_type": "code",
   "execution_count": 63,
   "metadata": {},
   "outputs": [
    {
     "name": "stdout",
     "output_type": "stream",
     "text": [
      "\n",
      "Epoch 0\n",
      "Epoch 0: Train Loss = 0.018812 | Test Loss = 0.751612\n",
      "\n",
      "Epoch 1\n"
     ]
    },
    {
     "name": "stderr",
     "output_type": "stream",
     "text": [
      "100%|██████████| 20/20 [01:24<00:00,  4.21s/it]\n"
     ]
    },
    {
     "name": "stdout",
     "output_type": "stream",
     "text": [
      "Epoch 1: Train Loss = 0.018363 | Test Loss = 0.739783\n",
      "\n",
      "Epoch 2\n"
     ]
    },
    {
     "name": "stderr",
     "output_type": "stream",
     "text": [
      "100%|██████████| 20/20 [01:21<00:00,  4.06s/it]\n"
     ]
    },
    {
     "name": "stdout",
     "output_type": "stream",
     "text": [
      "Epoch 2: Train Loss = 0.018150 | Test Loss = 0.728553\n",
      "\n",
      "Epoch 3\n"
     ]
    },
    {
     "name": "stderr",
     "output_type": "stream",
     "text": [
      "100%|██████████| 20/20 [01:22<00:00,  4.13s/it]\n"
     ]
    },
    {
     "name": "stdout",
     "output_type": "stream",
     "text": [
      "Epoch 3: Train Loss = 0.017993 | Test Loss = 0.722599\n",
      "\n",
      "Epoch 4\n"
     ]
    },
    {
     "name": "stderr",
     "output_type": "stream",
     "text": [
      "100%|██████████| 20/20 [01:19<00:00,  3.98s/it]\n"
     ]
    },
    {
     "name": "stdout",
     "output_type": "stream",
     "text": [
      "Epoch 4: Train Loss = 0.017859 | Test Loss = 0.716300\n",
      "\n",
      "Epoch 5\n"
     ]
    },
    {
     "name": "stderr",
     "output_type": "stream",
     "text": [
      "100%|██████████| 20/20 [01:20<00:00,  4.00s/it]\n"
     ]
    },
    {
     "name": "stdout",
     "output_type": "stream",
     "text": [
      "Epoch 5: Train Loss = 0.017723 | Test Loss = 0.710735\n",
      "\n",
      "Epoch 6\n"
     ]
    },
    {
     "name": "stderr",
     "output_type": "stream",
     "text": [
      "100%|██████████| 20/20 [01:19<00:00,  3.97s/it]\n"
     ]
    },
    {
     "name": "stdout",
     "output_type": "stream",
     "text": [
      "Epoch 6: Train Loss = 0.017592 | Test Loss = 0.705463\n",
      "\n",
      "Epoch 7\n"
     ]
    },
    {
     "name": "stderr",
     "output_type": "stream",
     "text": [
      "100%|██████████| 20/20 [01:18<00:00,  3.93s/it]\n"
     ]
    },
    {
     "name": "stdout",
     "output_type": "stream",
     "text": [
      "Epoch 7: Train Loss = 0.017470 | Test Loss = 0.700031\n",
      "\n",
      "Epoch 8\n"
     ]
    },
    {
     "name": "stderr",
     "output_type": "stream",
     "text": [
      "100%|██████████| 20/20 [01:19<00:00,  3.97s/it]\n"
     ]
    },
    {
     "name": "stdout",
     "output_type": "stream",
     "text": [
      "Epoch 8: Train Loss = 0.017349 | Test Loss = 0.694953\n",
      "\n",
      "Epoch 9\n"
     ]
    },
    {
     "name": "stderr",
     "output_type": "stream",
     "text": [
      "100%|██████████| 20/20 [01:19<00:00,  3.99s/it]\n"
     ]
    },
    {
     "name": "stdout",
     "output_type": "stream",
     "text": [
      "Epoch 9: Train Loss = 0.017231 | Test Loss = 0.690024\n"
     ]
    }
   ],
   "source": [
    "# train loop\n",
    "errs = []\n",
    "\n",
    "def train(n_epochs):\n",
    "\n",
    "    for epoch in range(n_epochs):\n",
    "        print(f\"\\nEpoch {model.epoch}\")\n",
    "        if model.epoch >= 1:\n",
    "            for inputs, labels in tqdm(trainloader):\n",
    "                y_pred = model(inputs)[:, 0, :, :]\n",
    "                # evaluate loss ignoring the borders\n",
    "                # l = (y_pred - labels).multiply(np.exp(labels))\n",
    "                # l = -y_pred*labels\n",
    "                l = WeightedBinaryCrossEntropy(labels, y_pred)\n",
    "                loss = l.mean()\n",
    "                optimizer.zero_grad()\n",
    "                loss.backward()\n",
    "                optimizer.step()\n",
    "\n",
    "        train_err = 0\n",
    "        for inputs, labels in trainloader:\n",
    "            y_pred = model(inputs)[:, 0, :, :]\n",
    "            # train_err += torch.square(y_pred - labels).detach().float().sum()\n",
    "            # train_err -= (y_pred * labels).detach().float().mean()\n",
    "            train_err += WeightedBinaryCrossEntropy(labels, y_pred).detach().float().mean()\n",
    "        train_err = train_err / (len(trainloader)*trainloader.batch_size)\n",
    "            \n",
    "        test_err = 0\n",
    "        for inputs, labels in testloader:\n",
    "            y_pred = model(inputs)[:, 0, :, :]\n",
    "            # test_err += torch.square(y_pred - labels).detach().float().sum()\n",
    "            # test_err -= (y_pred * labels).detach().float().mean()\n",
    "            test_err += WeightedBinaryCrossEntropy(labels, y_pred).detach().float().mean()\n",
    "        test_err = test_err / len(testloader)\n",
    "        model.errs.append([train_err, test_err])\n",
    "\n",
    "        print(f\"Epoch {model.epoch}: Train Loss = {train_err:.6f} | Test Loss = {test_err:.6f}\")\n",
    "        \n",
    "        model.epoch += 1\n",
    "\n",
    "train(10)"
   ]
  },
  {
   "cell_type": "code",
   "execution_count": 77,
   "metadata": {},
   "outputs": [
    {
     "name": "stdout",
     "output_type": "stream",
     "text": [
      "\n",
      "Epoch 10\n"
     ]
    },
    {
     "name": "stderr",
     "output_type": "stream",
     "text": [
      "100%|██████████| 20/20 [01:14<00:00,  3.74s/it]\n"
     ]
    },
    {
     "name": "stdout",
     "output_type": "stream",
     "text": [
      "Epoch 10: Train Loss = 0.017113 | Test Loss = 0.684903\n",
      "\n",
      "Epoch 11\n"
     ]
    },
    {
     "name": "stderr",
     "output_type": "stream",
     "text": [
      "100%|██████████| 20/20 [01:17<00:00,  3.89s/it]\n"
     ]
    },
    {
     "name": "stdout",
     "output_type": "stream",
     "text": [
      "Epoch 11: Train Loss = 0.016992 | Test Loss = 0.679993\n",
      "\n",
      "Epoch 12\n"
     ]
    },
    {
     "name": "stderr",
     "output_type": "stream",
     "text": [
      "100%|██████████| 20/20 [01:18<00:00,  3.93s/it]\n"
     ]
    },
    {
     "name": "stdout",
     "output_type": "stream",
     "text": [
      "Epoch 12: Train Loss = 0.016866 | Test Loss = 0.675089\n",
      "\n",
      "Epoch 13\n"
     ]
    },
    {
     "name": "stderr",
     "output_type": "stream",
     "text": [
      "100%|██████████| 20/20 [01:18<00:00,  3.91s/it]\n"
     ]
    },
    {
     "name": "stdout",
     "output_type": "stream",
     "text": [
      "Epoch 13: Train Loss = 0.016747 | Test Loss = 0.670528\n",
      "\n",
      "Epoch 14\n"
     ]
    },
    {
     "name": "stderr",
     "output_type": "stream",
     "text": [
      "100%|██████████| 20/20 [01:17<00:00,  3.89s/it]\n"
     ]
    },
    {
     "name": "stdout",
     "output_type": "stream",
     "text": [
      "Epoch 14: Train Loss = 0.016633 | Test Loss = 0.665287\n",
      "\n",
      "Epoch 15\n"
     ]
    },
    {
     "name": "stderr",
     "output_type": "stream",
     "text": [
      "100%|██████████| 20/20 [01:18<00:00,  3.90s/it]\n"
     ]
    },
    {
     "name": "stdout",
     "output_type": "stream",
     "text": [
      "Epoch 15: Train Loss = 0.016510 | Test Loss = 0.660380\n",
      "\n",
      "Epoch 16\n"
     ]
    },
    {
     "name": "stderr",
     "output_type": "stream",
     "text": [
      "100%|██████████| 20/20 [01:21<00:00,  4.09s/it]\n"
     ]
    },
    {
     "name": "stdout",
     "output_type": "stream",
     "text": [
      "Epoch 16: Train Loss = 0.016376 | Test Loss = 0.655739\n",
      "\n",
      "Epoch 17\n"
     ]
    },
    {
     "name": "stderr",
     "output_type": "stream",
     "text": [
      "100%|██████████| 20/20 [01:20<00:00,  4.00s/it]\n"
     ]
    },
    {
     "name": "stdout",
     "output_type": "stream",
     "text": [
      "Epoch 17: Train Loss = 0.016254 | Test Loss = 0.650491\n",
      "\n",
      "Epoch 18\n"
     ]
    },
    {
     "name": "stderr",
     "output_type": "stream",
     "text": [
      "100%|██████████| 20/20 [01:19<00:00,  3.96s/it]\n"
     ]
    },
    {
     "name": "stdout",
     "output_type": "stream",
     "text": [
      "Epoch 18: Train Loss = 0.016130 | Test Loss = 0.645544\n",
      "\n",
      "Epoch 19\n"
     ]
    },
    {
     "name": "stderr",
     "output_type": "stream",
     "text": [
      "100%|██████████| 20/20 [01:17<00:00,  3.87s/it]\n"
     ]
    },
    {
     "name": "stdout",
     "output_type": "stream",
     "text": [
      "Epoch 19: Train Loss = 0.015994 | Test Loss = 0.640755\n",
      "\n",
      "Epoch 20\n"
     ]
    },
    {
     "name": "stderr",
     "output_type": "stream",
     "text": [
      "100%|██████████| 20/20 [01:19<00:00,  3.98s/it]\n"
     ]
    },
    {
     "name": "stdout",
     "output_type": "stream",
     "text": [
      "Epoch 20: Train Loss = 0.015857 | Test Loss = 0.635728\n",
      "\n",
      "Epoch 21\n"
     ]
    },
    {
     "name": "stderr",
     "output_type": "stream",
     "text": [
      "100%|██████████| 20/20 [01:17<00:00,  3.87s/it]\n"
     ]
    },
    {
     "name": "stdout",
     "output_type": "stream",
     "text": [
      "Epoch 21: Train Loss = 0.015723 | Test Loss = 0.630548\n",
      "\n",
      "Epoch 22\n"
     ]
    },
    {
     "name": "stderr",
     "output_type": "stream",
     "text": [
      "100%|██████████| 20/20 [01:17<00:00,  3.88s/it]\n"
     ]
    },
    {
     "name": "stdout",
     "output_type": "stream",
     "text": [
      "Epoch 22: Train Loss = 0.015588 | Test Loss = 0.625355\n",
      "\n",
      "Epoch 23\n"
     ]
    },
    {
     "name": "stderr",
     "output_type": "stream",
     "text": [
      "100%|██████████| 20/20 [01:18<00:00,  3.93s/it]\n"
     ]
    },
    {
     "name": "stdout",
     "output_type": "stream",
     "text": [
      "Epoch 23: Train Loss = 0.015449 | Test Loss = 0.619901\n",
      "\n",
      "Epoch 24\n"
     ]
    },
    {
     "name": "stderr",
     "output_type": "stream",
     "text": [
      "100%|██████████| 20/20 [01:17<00:00,  3.85s/it]\n"
     ]
    },
    {
     "name": "stdout",
     "output_type": "stream",
     "text": [
      "Epoch 24: Train Loss = 0.015307 | Test Loss = 0.614947\n",
      "\n",
      "Epoch 25\n"
     ]
    },
    {
     "name": "stderr",
     "output_type": "stream",
     "text": [
      "100%|██████████| 20/20 [01:17<00:00,  3.89s/it]\n"
     ]
    },
    {
     "name": "stdout",
     "output_type": "stream",
     "text": [
      "Epoch 25: Train Loss = 0.015167 | Test Loss = 0.609680\n",
      "\n",
      "Epoch 26\n"
     ]
    },
    {
     "name": "stderr",
     "output_type": "stream",
     "text": [
      "100%|██████████| 20/20 [01:17<00:00,  3.89s/it]\n"
     ]
    },
    {
     "name": "stdout",
     "output_type": "stream",
     "text": [
      "Epoch 26: Train Loss = 0.015011 | Test Loss = 0.604028\n",
      "\n",
      "Epoch 27\n"
     ]
    },
    {
     "name": "stderr",
     "output_type": "stream",
     "text": [
      "100%|██████████| 20/20 [01:16<00:00,  3.85s/it]\n"
     ]
    },
    {
     "name": "stdout",
     "output_type": "stream",
     "text": [
      "Epoch 27: Train Loss = 0.014850 | Test Loss = 0.598573\n",
      "\n",
      "Epoch 28\n"
     ]
    },
    {
     "name": "stderr",
     "output_type": "stream",
     "text": [
      "100%|██████████| 20/20 [01:17<00:00,  3.86s/it]\n"
     ]
    },
    {
     "name": "stdout",
     "output_type": "stream",
     "text": [
      "Epoch 28: Train Loss = 0.014699 | Test Loss = 0.592609\n",
      "\n",
      "Epoch 29\n"
     ]
    },
    {
     "name": "stderr",
     "output_type": "stream",
     "text": [
      "100%|██████████| 20/20 [01:16<00:00,  3.84s/it]\n"
     ]
    },
    {
     "name": "stdout",
     "output_type": "stream",
     "text": [
      "Epoch 29: Train Loss = 0.014552 | Test Loss = 0.587161\n",
      "\n",
      "Epoch 30\n"
     ]
    },
    {
     "name": "stderr",
     "output_type": "stream",
     "text": [
      "100%|██████████| 20/20 [01:24<00:00,  4.20s/it]\n"
     ]
    },
    {
     "name": "stdout",
     "output_type": "stream",
     "text": [
      "Epoch 30: Train Loss = 0.014389 | Test Loss = 0.581559\n",
      "\n",
      "Epoch 31\n"
     ]
    },
    {
     "name": "stderr",
     "output_type": "stream",
     "text": [
      "100%|██████████| 20/20 [01:27<00:00,  4.38s/it]\n"
     ]
    },
    {
     "name": "stdout",
     "output_type": "stream",
     "text": [
      "Epoch 31: Train Loss = 0.014216 | Test Loss = 0.575188\n",
      "\n",
      "Epoch 32\n"
     ]
    },
    {
     "name": "stderr",
     "output_type": "stream",
     "text": [
      "100%|██████████| 20/20 [01:20<00:00,  4.03s/it]\n"
     ]
    },
    {
     "name": "stdout",
     "output_type": "stream",
     "text": [
      "Epoch 32: Train Loss = 0.014038 | Test Loss = 0.569048\n",
      "\n",
      "Epoch 33\n"
     ]
    },
    {
     "name": "stderr",
     "output_type": "stream",
     "text": [
      "100%|██████████| 20/20 [01:16<00:00,  3.83s/it]\n"
     ]
    },
    {
     "name": "stdout",
     "output_type": "stream",
     "text": [
      "Epoch 33: Train Loss = 0.013865 | Test Loss = 0.563255\n",
      "\n",
      "Epoch 34\n"
     ]
    },
    {
     "name": "stderr",
     "output_type": "stream",
     "text": [
      "100%|██████████| 20/20 [01:18<00:00,  3.95s/it]\n"
     ]
    },
    {
     "name": "stdout",
     "output_type": "stream",
     "text": [
      "Epoch 34: Train Loss = 0.013679 | Test Loss = 0.556556\n",
      "\n",
      "Epoch 35\n"
     ]
    },
    {
     "name": "stderr",
     "output_type": "stream",
     "text": [
      "100%|██████████| 20/20 [01:16<00:00,  3.83s/it]\n"
     ]
    },
    {
     "name": "stdout",
     "output_type": "stream",
     "text": [
      "Epoch 35: Train Loss = 0.013489 | Test Loss = 0.550703\n",
      "\n",
      "Epoch 36\n"
     ]
    },
    {
     "name": "stderr",
     "output_type": "stream",
     "text": [
      "100%|██████████| 20/20 [01:17<00:00,  3.85s/it]\n"
     ]
    },
    {
     "name": "stdout",
     "output_type": "stream",
     "text": [
      "Epoch 36: Train Loss = 0.013301 | Test Loss = 0.544196\n",
      "\n",
      "Epoch 37\n"
     ]
    },
    {
     "name": "stderr",
     "output_type": "stream",
     "text": [
      "100%|██████████| 20/20 [01:17<00:00,  3.88s/it]\n"
     ]
    },
    {
     "name": "stdout",
     "output_type": "stream",
     "text": [
      "Epoch 37: Train Loss = 0.013118 | Test Loss = 0.537135\n",
      "\n",
      "Epoch 38\n"
     ]
    },
    {
     "name": "stderr",
     "output_type": "stream",
     "text": [
      "100%|██████████| 20/20 [01:17<00:00,  3.90s/it]\n"
     ]
    },
    {
     "name": "stdout",
     "output_type": "stream",
     "text": [
      "Epoch 38: Train Loss = 0.012910 | Test Loss = 0.530721\n",
      "\n",
      "Epoch 39\n"
     ]
    },
    {
     "name": "stderr",
     "output_type": "stream",
     "text": [
      "100%|██████████| 20/20 [01:18<00:00,  3.95s/it]\n"
     ]
    },
    {
     "name": "stdout",
     "output_type": "stream",
     "text": [
      "Epoch 39: Train Loss = 0.012734 | Test Loss = 0.524677\n"
     ]
    }
   ],
   "source": [
    "train(30)"
   ]
  },
  {
   "cell_type": "markdown",
   "metadata": {},
   "source": [
    "Ganhamos do baseline?"
   ]
  },
  {
   "cell_type": "code",
   "execution_count": 78,
   "metadata": {},
   "outputs": [
    {
     "data": {
      "text/plain": [
       "(-0.0057274289429187775, -0.21037131547927856)"
      ]
     },
     "execution_count": 78,
     "metadata": {},
     "output_type": "execute_result"
    }
   ],
   "source": [
    "(\n",
    "    float(model.errs[-1][0] - base_train_err), \n",
    "    float(model.errs[-1][1] - base_test_err)\n",
    ")"
   ]
  },
  {
   "cell_type": "markdown",
   "metadata": {},
   "source": [
    "Curva de aprendizado"
   ]
  },
  {
   "cell_type": "code",
   "execution_count": 79,
   "metadata": {},
   "outputs": [
    {
     "data": {
      "image/png": "[encoded data removed]",
      "text/plain": [
       "<Figure size 640x480 with 1 Axes>"
      ]
     },
     "metadata": {},
     "output_type": "display_data"
    },
    {
     "data": {
      "image/png": "[encoded data removed]",
      "text/plain": [
       "<Figure size 640x480 with 1 Axes>"
      ]
     },
     "metadata": {},
     "output_type": "display_data"
    }
   ],
   "source": [
    "import matplotlib.pyplot as plt\n",
    "\n",
    "plt.plot([float(e[0]) for e in model.errs])\n",
    "plt.title(\"Train loss\")\n",
    "plt.show()\n",
    "plt.plot([float(e[1]) for e in model.errs])\n",
    "plt.title(\"Test loss\")\n",
    "plt.show()"
   ]
  },
  {
   "cell_type": "markdown",
   "metadata": {},
   "source": [
    "Exemplo de previsão"
   ]
  },
  {
   "cell_type": "code",
   "execution_count": 80,
   "metadata": {},
   "outputs": [
    {
     "data": {
      "text/plain": [
       "(28, 1002, 778)"
      ]
     },
     "execution_count": 80,
     "metadata": {},
     "output_type": "execute_result"
    }
   ],
   "source": [
    "time_grid.shape"
   ]
  },
  {
   "cell_type": "code",
   "execution_count": 101,
   "metadata": {},
   "outputs": [
    {
     "name": "stdout",
     "output_type": "stream",
     "text": [
      "ok\n"
     ]
    }
   ],
   "source": [
    "for input_, truth in trainloader:\n",
    "    if np.random.random() < 0.05:\n",
    "        print(\"ok\")\n",
    "        break\n",
    "\n",
    "pred = model(input_)[:, 0, :, :]"
   ]
  },
  {
   "cell_type": "code",
   "execution_count": 82,
   "metadata": {},
   "outputs": [],
   "source": [
    "# region = compute_frames(am_bounds.total_bounds, config.BOX_SIDE, 450, 514, 80, 144)\n",
    "# t = 27\n",
    "\n",
    "# truth = time_grid[t, region[\"x\"].min():region[\"x\"].max()+1, region[\"y\"].min():region[\"y\"].max()+1]\n",
    "# input_ = time_grid[t-4:t, region[\"x\"].min():region[\"x\"].max()+1, region[\"y\"].min():region[\"y\"].max()+1]\n",
    "# input_ = input_.reshape(1,*input_.shape)\n",
    "# pred = model(torch.tensor(input_).float())[0, :, :].detach().numpy()"
   ]
  },
  {
   "cell_type": "code",
   "execution_count": 102,
   "metadata": {},
   "outputs": [
    {
     "data": {
      "text/plain": [
       "(tensor(0.), tensor(1.))"
      ]
     },
     "execution_count": 102,
     "metadata": {},
     "output_type": "execute_result"
    }
   ],
   "source": [
    "truth.min(), truth.max()"
   ]
  },
  {
   "cell_type": "code",
   "execution_count": 103,
   "metadata": {},
   "outputs": [
    {
     "data": {
      "text/plain": [
       "torch.Size([40, 10, 64, 64])"
      ]
     },
     "execution_count": 103,
     "metadata": {},
     "output_type": "execute_result"
    }
   ],
   "source": [
    "input_.shape"
   ]
  },
  {
   "cell_type": "code",
   "execution_count": 104,
   "metadata": {},
   "outputs": [
    {
     "data": {
      "image/png": "[encoded data removed]",
      "text/plain": [
       "<Figure size 2400x800 with 4 Axes>"
      ]
     },
     "metadata": {},
     "output_type": "display_data"
    }
   ],
   "source": [
    "fig, ax = plt.subplots(1, 4, figsize=(24, 8))\n",
    "for i in range(4):\n",
    "    ax[i].matshow(input_[0, i, :, :], cmap=\"gnuplot\", vmin=truth.min(), vmax=truth.max())\n",
    "plt.show()"
   ]
  },
  {
   "cell_type": "code",
   "execution_count": 105,
   "metadata": {},
   "outputs": [
    {
     "name": "stderr",
     "output_type": "stream",
     "text": [
      "C:\\Users\\GiovanniAmorim\\AppData\\Local\\Temp\\ipykernel_15804\\3204401083.py:6: UserWarning: Matplotlib is currently using module://matplotlib_inline.backend_inline, which is a non-GUI backend, so cannot show the figure.\n",
      "  fig.show()\n"
     ]
    },
    {
     "data": {
      "image/png": "[encoded data removed]",
      "text/plain": [
       "<Figure size 1200x800 with 4 Axes>"
      ]
     },
     "metadata": {},
     "output_type": "display_data"
    }
   ],
   "source": [
    "fig, ax = plt.subplots(1, 2, figsize=(12, 8))\n",
    "m1 = ax[0].matshow(truth[0, :, :], cmap=\"gnuplot\", vmin=truth.min(), vmax=truth.max())\n",
    "m2 = ax[1].matshow(pred.detach().numpy()[0, :, :], cmap=\"gnuplot\", vmin=truth.min(), vmax=1)\n",
    "fig.colorbar(m1)\n",
    "fig.colorbar(m2)\n",
    "fig.show()"
   ]
  },
  {
   "cell_type": "markdown",
   "metadata": {},
   "source": [
    "# Save model"
   ]
  },
  {
   "cell_type": "code",
   "execution_count": 106,
   "metadata": {},
   "outputs": [],
   "source": [
    "torch.save(model.state_dict(), r\"basic_cnn_counties_40.pt\")"
   ]
  }
 ],
 "metadata": {
  "kernelspec": {
   "display_name": "venv_dl2cv",
   "language": "python",
   "name": "python3"
  },
  "language_info": {
   "codemirror_mode": {
    "name": "ipython",
    "version": 3
   },
   "file_extension": ".py",
   "mimetype": "text/x-python",
   "name": "python",
   "nbconvert_exporter": "python",
   "pygments_lexer": "ipython3",
   "version": "3.11.4"
  },
  "orig_nbformat": 4
 },
 "nbformat": 4,
 "nbformat_minor": 2
}
