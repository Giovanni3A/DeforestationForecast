{
 "cells": [
  {
   "cell_type": "markdown",
   "metadata": {},
   "source": [
    "Notebook for read and wrangle of deforestation historical data"
   ]
  },
  {
   "cell_type": "markdown",
   "metadata": {},
   "source": [
    "# Prepare environment"
   ]
  },
  {
   "cell_type": "code",
   "execution_count": 1,
   "metadata": {},
   "outputs": [],
   "source": [
    "import pickle\n",
    "import numpy as np\n",
    "import pandas as pd\n",
    "import matplotlib.pyplot as plt\n",
    "\n",
    "import geopandas as gpd\n",
    "from shapely.geometry import box"
   ]
  },
  {
   "cell_type": "code",
   "execution_count": 2,
   "metadata": {},
   "outputs": [],
   "source": [
    "import config"
   ]
  },
  {
   "cell_type": "markdown",
   "metadata": {},
   "source": [
    "# Data reading"
   ]
  },
  {
   "cell_type": "code",
   "execution_count": null,
   "metadata": {},
   "outputs": [],
   "source": [
    "# legal amazon limits\n",
    "am_bounds = gpd.read_file(config.AMAZON_FRONTIER_DATA)"
   ]
  },
  {
   "cell_type": "code",
   "execution_count": null,
   "metadata": {},
   "outputs": [],
   "source": [
    "# prodes deforestation alerts\n",
    "prodes = gpd.read_file(config.PRODES_DATA)"
   ]
  },
  {
   "cell_type": "code",
   "execution_count": null,
   "metadata": {},
   "outputs": [],
   "source": [
    "# deter deforestation alerts\n",
    "deter = gpd.read_file(config.DETER_DATA)"
   ]
  },
  {
   "cell_type": "code",
   "execution_count": null,
   "metadata": {},
   "outputs": [],
   "source": [
    "# deforestation status on initial time (2007)\n",
    "acc_deforestation_init = gpd.read_file(config.INITIAL_DEFORESTATION)"
   ]
  },
  {
   "cell_type": "markdown",
   "metadata": {},
   "source": [
    "## Date format"
   ]
  },
  {
   "cell_type": "code",
   "execution_count": null,
   "metadata": {},
   "outputs": [],
   "source": [
    "# datetime data formatting\n",
    "deter[\"date\"] = pd.to_datetime(deter[\"VIEW_DATE\"])\n",
    "prodes[\"date\"] = pd.to_datetime(prodes[\"image_date\"])"
   ]
  },
  {
   "cell_type": "markdown",
   "metadata": {},
   "source": [
    "# Create full grid"
   ]
  },
  {
   "cell_type": "code",
   "execution_count": null,
   "metadata": {},
   "outputs": [],
   "source": [
    "# get rectangle bounds from region\n",
    "min_x, min_y, max_x, max_y = am_bounds.total_bounds\n",
    "print(min_x, min_y, max_x, max_y)\n",
    "min_x, min_y, max_x, max_y = [-68.7, -11.0, -68.2, -10.5]\n",
    "min_x, min_y, max_x, max_y = [-69.0, -11.0, -68.0, -10.0]"
   ]
  },
  {
   "cell_type": "code",
   "execution_count": null,
   "metadata": {},
   "outputs": [],
   "source": [
    "box_side = 0.0089  # aproximate 1km distance on geografical coordinates\n",
    "\n",
    "# generate grid intersection with desired area\n",
    "km_x = (max_x - min_x) / box_side\n",
    "km_y = (max_y - min_y) / box_side\n",
    "matrix_size_x = int(np.ceil(km_x))\n",
    "matrix_size_y = int(np.ceil(km_y))\n",
    "all_boxes = []\n",
    "frame_idx = []  # list with indexes from each box\n",
    "for ix in range(matrix_size_x):\n",
    "    for iy in range(matrix_size_y):\n",
    "        frame = box(min_x+ix*box_side, min_y+iy*box_side, min_x+(ix+1)*box_side, min_y+(iy+1)*box_side)\n",
    "        all_boxes.append(frame)\n",
    "        frame_idx.append((ix, iy))\n",
    "frames = gpd.GeoDataFrame({\"geometry\": all_boxes}, crs=am_bounds.crs)\\\n",
    "    .reset_index().rename(columns={\"index\": \"frame_id\"})"
   ]
  },
  {
   "cell_type": "markdown",
   "metadata": {},
   "source": [
    "# Compute temporal evolution"
   ]
  },
  {
   "cell_type": "code",
   "execution_count": null,
   "metadata": {},
   "outputs": [],
   "source": [
    "# create date range\n",
    "monthly_first = pd.date_range(config.DT_INIT, config.DT_FIM, freq=\"MS\")\n",
    "monthly_last  = pd.date_range(config.DT_INIT, config.DT_FIM, freq=\"M\")"
   ]
  },
  {
   "cell_type": "code",
   "execution_count": null,
   "metadata": {},
   "outputs": [],
   "source": [
    "# initial deforestation state\n",
    "deforestation_state = gpd.overlay(\n",
    "    frames,\n",
    "    acc_deforestation_init[[\"geometry\"]], \n",
    "    how=\"intersection\",\n",
    "    keep_geom_type=False\n",
    ").dissolve(\"frame_id\").reset_index()"
   ]
  },
  {
   "cell_type": "code",
   "execution_count": null,
   "metadata": {},
   "outputs": [],
   "source": [
    "# create series applying accumulated deforestation data\n",
    "deforestation_series = []\n",
    "\n",
    "for dti, dtf in list(zip(monthly_first, monthly_last)):\n",
    "    print(dti)\n",
    "\n",
    "    # filter prodes data between dates\n",
    "    dt_prodes = prodes[(prodes[\"date\"] >= dti) & (prodes[\"date\"] <= dtf)][[\"geometry\"]]\n",
    "\n",
    "    # filter deter data between dates\n",
    "    dt_deter = deter[(deter[\"date\"] >= dti) & (deter[\"date\"] <= dtf)][[\"geometry\"]]\n",
    "\n",
    "    # get frame id for each case\n",
    "    prodes_cases = gpd.overlay(\n",
    "        frames, dt_prodes, how=\"intersection\", keep_geom_type=False\n",
    "    )\n",
    "    deter_cases = gpd.overlay(\n",
    "        frames, dt_deter, how=\"intersection\", keep_geom_type=False\n",
    "    )\n",
    "\n",
    "    # dissolve by frame summing area\n",
    "    dt_cases = pd.concat([prodes_cases, deter_cases])\n",
    "    dt_deforestation = dt_cases.dissolve(\"frame_id\").reset_index()\n",
    "\n",
    "    # get deforestation state (unitl date)\n",
    "    deforestation_state = (\n",
    "        pd.concat([deforestation_state, dt_deforestation])\n",
    "        .dissolve(\"frame_id\")\n",
    "        .reset_index()\n",
    "    )\n",
    "\n",
    "    # update deforestation series\n",
    "    deforestation_series.append(deforestation_state.copy())"
   ]
  },
  {
   "cell_type": "code",
   "execution_count": null,
   "metadata": {},
   "outputs": [],
   "source": [
    "# create temporal data (warning about area error will show up)\n",
    "temporal_data = []\n",
    "for ds in deforestation_series:\n",
    "    s = pd.merge(frames, ds, on=\"frame_id\")\n",
    "    s[\"area\"] = s.geometry_y.area / s.geometry_x.area    \n",
    "    temporal_data.append(s.copy())"
   ]
  },
  {
   "cell_type": "markdown",
   "metadata": {},
   "source": [
    "# Visualizations"
   ]
  },
  {
   "cell_type": "code",
   "execution_count": null,
   "metadata": {},
   "outputs": [],
   "source": [
    "# last state exact areas vs square aproximation\n",
    "s = temporal_data[-1]\n",
    "\n",
    "fig, ax = plt.subplots()\n",
    "s[\"geometry_y\"].boundary.plot(color=\"red\", ax=ax, linewidth=0.2)\n",
    "s.set_geometry(\"geometry_x\").plot(column=\"area\", cmap=\"Blues\", ax=ax)\n",
    "plt.show()"
   ]
  },
  {
   "cell_type": "code",
   "execution_count": null,
   "metadata": {},
   "outputs": [],
   "source": [
    "# first vs last stage\n",
    "fig, ax = plt.subplots(1, 2)\n",
    "\n",
    "temporal_data[0].set_geometry(\"geometry_x\").plot(ax=ax[0], column=\"area\", cmap=\"Blues\")\n",
    "temporal_data[-1].set_geometry(\"geometry_x\").plot(ax=ax[1], column=\"area\", cmap=\"Blues\")\n",
    "\n",
    "plt.show()\n",
    "\n",
    "temporal_data[0][\"area\"].sum(), temporal_data[-1][\"area\"].sum()"
   ]
  },
  {
   "cell_type": "markdown",
   "metadata": {},
   "source": [
    "# Matrix data"
   ]
  },
  {
   "cell_type": "code",
   "execution_count": null,
   "metadata": {},
   "outputs": [],
   "source": [
    "# associate x y coordinate from frames\n",
    "frames[[\"x\", \"y\"]] = frame_idx"
   ]
  },
  {
   "cell_type": "code",
   "execution_count": null,
   "metadata": {},
   "outputs": [],
   "source": [
    "# create X matrix\n",
    "X = np.zeros((matrix_size_x, matrix_size_y, len(temporal_data)))\n",
    "for t, ds in enumerate(temporal_data):\n",
    "    X[:, :, t] = pd.merge(\n",
    "        frames,\n",
    "        ds[[\"frame_id\", \"area\"]],\n",
    "        on=\"frame_id\",\n",
    "        how=\"left\"\n",
    "    ).sort_values(\"frame_id\")[\"area\"]\\\n",
    "        .fillna(0).values\\\n",
    "        .reshape((matrix_size_x, matrix_size_y))"
   ]
  },
  {
   "cell_type": "code",
   "execution_count": null,
   "metadata": {},
   "outputs": [],
   "source": [
    "X.shape"
   ]
  },
  {
   "cell_type": "code",
   "execution_count": null,
   "metadata": {},
   "outputs": [],
   "source": [
    "# save deforestation history matrix\n",
    "with open(config.TR_DEFORESTATION, \"wb\") as file:\n",
    "    pickle.dump(X, file)"
   ]
  },
  {
   "cell_type": "code",
   "execution_count": null,
   "metadata": {},
   "outputs": [],
   "source": [
    "# save frames geo-coordinates\n",
    "frames.to_file(config.TR_FRAMES)"
   ]
  }
 ],
 "metadata": {
  "kernelspec": {
   "display_name": "Python 3 (ipykernel)",
   "language": "python",
   "name": "python3"
  },
  "language_info": {
   "codemirror_mode": {
    "name": "ipython",
    "version": 3
   },
   "file_extension": ".py",
   "mimetype": "text/x-python",
   "name": "python",
   "nbconvert_exporter": "python",
   "pygments_lexer": "ipython3",
   "version": "3.11.4"
  }
 },
 "nbformat": 4,
 "nbformat_minor": 4
}
