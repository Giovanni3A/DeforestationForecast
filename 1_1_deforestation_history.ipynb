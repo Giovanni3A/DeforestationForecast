{
 "cells": [
  {
   "cell_type": "markdown",
   "metadata": {},
   "source": [
    "Notebook for read and wrangle of deforestation historical data"
   ]
  },
  {
   "cell_type": "markdown",
   "metadata": {},
   "source": [
    "# Prepare environment"
   ]
  },
  {
   "cell_type": "code",
   "execution_count": 1,
   "metadata": {},
   "outputs": [],
   "source": [
    "import os\n",
    "import pickle\n",
    "import numpy as np\n",
    "import pandas as pd\n",
    "import matplotlib.pyplot as plt\n",
    "import seaborn as sns\n",
    "\n",
    "import geopandas as gpd\n",
    "from shapely.geometry import box\n",
    "\n",
    "from tqdm import tqdm"
   ]
  },
  {
   "cell_type": "code",
   "execution_count": 2,
   "metadata": {},
   "outputs": [],
   "source": [
    "import config\n",
    "\n",
    "import warnings\n",
    "warnings.filterwarnings('ignore')"
   ]
  },
  {
   "cell_type": "markdown",
   "metadata": {},
   "source": [
    "# Data reading"
   ]
  },
  {
   "cell_type": "code",
   "execution_count": 3,
   "metadata": {},
   "outputs": [],
   "source": [
    "# legal amazon limits\n",
    "am_bounds = gpd.read_file(config.AMAZON_FRONTIER_DATA)"
   ]
  },
  {
   "cell_type": "code",
   "execution_count": 4,
   "metadata": {},
   "outputs": [],
   "source": [
    "# deter deforestation alerts\n",
    "deter = gpd.read_file(config.DETER_DATA)"
   ]
  },
  {
   "cell_type": "markdown",
   "metadata": {},
   "source": [
    "## Date format"
   ]
  },
  {
   "cell_type": "code",
   "execution_count": 5,
   "metadata": {},
   "outputs": [],
   "source": [
    "# datetime data formatting\n",
    "deter[\"date\"] = pd.to_datetime(deter[\"VIEW_DATE\"])\n",
    "deter[\"month\"] = (deter[\"date\"].dt.quarter - 1) * 3 + 1\n",
    "deter[\"year\"] = deter[\"date\"].dt.year\n",
    "deter[\"day\"] = 1\n",
    "deter[\"quarter_date\"] = pd.to_datetime(deter[[\"year\", \"month\", \"day\"]])"
   ]
  },
  {
   "cell_type": "code",
   "execution_count": 6,
   "metadata": {},
   "outputs": [
    {
     "data": {
      "text/plain": [
       "count                           318546\n",
       "mean     2020-03-11 05:33:17.965756928\n",
       "min                2016-07-01 00:00:00\n",
       "25%                2018-07-01 00:00:00\n",
       "50%                2020-07-01 00:00:00\n",
       "75%                2021-10-01 00:00:00\n",
       "max                2023-07-01 00:00:00\n",
       "Name: quarter_date, dtype: object"
      ]
     },
     "execution_count": 6,
     "metadata": {},
     "output_type": "execute_result"
    }
   ],
   "source": [
    "deter[\"quarter_date\"].describe()"
   ]
  },
  {
   "cell_type": "markdown",
   "metadata": {},
   "source": [
    "# Create full grid"
   ]
  },
  {
   "cell_type": "code",
   "execution_count": 7,
   "metadata": {},
   "outputs": [
    {
     "name": "stdout",
     "output_type": "stream",
     "text": [
      "-73.9909722199879 -18.04176667000001 -43.95182736291479 5.27222500000003\n"
     ]
    }
   ],
   "source": [
    "# get rectangle bounds from region\n",
    "min_x, min_y, max_x, max_y = am_bounds.total_bounds\n",
    "print(min_x, min_y, max_x, max_y)"
   ]
  },
  {
   "cell_type": "code",
   "execution_count": 10,
   "metadata": {},
   "outputs": [
    {
     "name": "stderr",
     "output_type": "stream",
     "text": [
      "  0%|          | 0/3004 [00:00<?, ?it/s]"
     ]
    },
    {
     "name": "stderr",
     "output_type": "stream",
     "text": [
      "100%|██████████| 3004/3004 [40:29<00:00,  1.24it/s] \n"
     ]
    }
   ],
   "source": [
    "# generate grid intersection with desired area\n",
    "km_x = (max_x - min_x) / config.BOX_SIDE\n",
    "km_y = (max_y - min_y) / config.BOX_SIDE\n",
    "matrix_size_x = int(np.ceil(km_x))\n",
    "matrix_size_y = int(np.ceil(km_y))\n",
    "all_boxes = []\n",
    "frame_idx = []  # list with indexes from each box\n",
    "all_idx = []\n",
    "idx = 0\n",
    "for ix in tqdm(list(range(matrix_size_x))):\n",
    "    for iy in range(matrix_size_y):\n",
    "        frame = box(min_x+ix*config.BOX_SIDE, min_y+iy*config.BOX_SIDE, min_x+(ix+1)*config.BOX_SIDE, min_y+(iy+1)*config.BOX_SIDE)\n",
    "        if am_bounds.intersects(frame).any():\n",
    "            all_boxes.append(frame)\n",
    "            all_idx.append(idx)\n",
    "        frame_idx.append((ix, iy))\n",
    "        idx += 1\n",
    "frames = gpd.GeoDataFrame({\"geometry\": all_boxes}, crs=am_bounds.crs)\n",
    "frames[\"frame_id\"] = all_idx\n",
    "frame_idx = np.array(frame_idx)"
   ]
  },
  {
   "cell_type": "markdown",
   "metadata": {},
   "source": [
    "# Compute temporal increments by frame"
   ]
  },
  {
   "cell_type": "code",
   "execution_count": 11,
   "metadata": {},
   "outputs": [],
   "source": [
    "increments_by_quarter = gpd.overlay(\n",
    "    frames, \n",
    "    deter[[\"quarter_date\", \"geometry\"]],\n",
    "    how=\"intersection\", \n",
    "    keep_geom_type=False\n",
    ").dissolve([\"frame_id\", \"quarter_date\"]).reset_index()"
   ]
  },
  {
   "cell_type": "code",
   "execution_count": 12,
   "metadata": {},
   "outputs": [
    {
     "data": {
      "image/png": "[encoded data removed]",
      "text/plain": [
       "<Figure size 800x800 with 1 Axes>"
      ]
     },
     "metadata": {},
     "output_type": "display_data"
    }
   ],
   "source": [
    "frame_id_ = increments_by_quarter.sample()[\"frame_id\"].item()\n",
    "k = increments_by_quarter[\n",
    "    ((increments_by_quarter[\"frame_id\"] - frame_id_).abs() < 2) |\n",
    "    ((increments_by_quarter[\"frame_id\"] + matrix_size_y - frame_id_).abs() < 2) |\n",
    "    ((increments_by_quarter[\"frame_id\"] - matrix_size_y - frame_id_).abs() < 2)\n",
    "].copy()\n",
    "k[\"k\"] = (k[\"quarter_date\"] - k[\"quarter_date\"].min()).dt.days\n",
    "fig, ax = plt.subplots(figsize=(8, 8))\n",
    "frames[\n",
    "    ((frames[\"frame_id\"] - frame_id_).abs() < 2) |\n",
    "    ((frames[\"frame_id\"] + matrix_size_y - frame_id_).abs() < 2) |\n",
    "    ((frames[\"frame_id\"] - matrix_size_y - frame_id_).abs() < 2)\n",
    "].boundary.plot(ax=ax, color=\"black\")\n",
    "k.plot(column=\"k\", ax=ax, cmap=\"Reds\")\n",
    "plt.show()"
   ]
  },
  {
   "cell_type": "markdown",
   "metadata": {},
   "source": [
    "# Compute area by frame"
   ]
  },
  {
   "cell_type": "code",
   "execution_count": 13,
   "metadata": {},
   "outputs": [],
   "source": [
    "increments_by_quarter[\"area\"] = increments_by_quarter[\"geometry\"].area / increments_by_quarter[\"frame_id\"].map(frames.set_index(\"frame_id\").area)"
   ]
  },
  {
   "cell_type": "code",
   "execution_count": null,
   "metadata": {},
   "outputs": [],
   "source": [
    "frame_idx[\"in_borders\"] = False\n",
    "frame_idx.loc[frames[\"frame_id\"].values, \"in_borders\"] = True"
   ]
  },
  {
   "cell_type": "code",
   "execution_count": 14,
   "metadata": {},
   "outputs": [],
   "source": [
    "# save all frames geo-coordinates\n",
    "frames.to_file(config.TR_FRAMES)\n",
    "\n",
    "# save frames idx documentation\n",
    "pd.DataFrame(frame_idx, columns=[\"x\", \"y\"]).to_csv(config.TR_FRAMES_IDX)\n",
    "\n",
    "# save increments history\n",
    "increments_by_quarter[[\"frame_id\", \"quarter_date\", \"area\"]].to_csv(config.TR_DEFORESTATION)"
   ]
  }
 ],
 "metadata": {
  "kernelspec": {
   "display_name": "Python 3 (ipykernel)",
   "language": "python",
   "name": "python3"
  },
  "language_info": {
   "codemirror_mode": {
    "name": "ipython",
    "version": 3
   },
   "file_extension": ".py",
   "mimetype": "text/x-python",
   "name": "python",
   "nbconvert_exporter": "python",
   "pygments_lexer": "ipython3",
   "version": "3.11.4"
  }
 },
 "nbformat": 4,
 "nbformat_minor": 4
}
