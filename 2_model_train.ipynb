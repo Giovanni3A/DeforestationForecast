{
 "cells": [
  {
   "cell_type": "code",
   "execution_count": null,
   "metadata": {},
   "outputs": [],
   "source": [
    "import os\n",
    "import pickle\n",
    "import numpy as np\n",
    "import pandas as pd\n",
    "import geopandas as gpd\n",
    "\n",
    "import matplotlib.pyplot as plt\n",
    "\n",
    "import config"
   ]
  },
  {
   "cell_type": "code",
   "execution_count": null,
   "metadata": {},
   "outputs": [],
   "source": [
    "import torch\n",
    "from torch.utils.data import Dataset"
   ]
  },
  {
   "cell_type": "markdown",
   "metadata": {},
   "source": [
    "# Geração do dataset"
   ]
  },
  {
   "cell_type": "code",
   "execution_count": null,
   "metadata": {},
   "outputs": [],
   "source": [
    "# load full frame\n",
    "frames = gpd.read_file(config.TR_FRAMES)\n",
    "\n",
    "#load frames idx detail\n",
    "frames_idx = pd.read_csv(config.TR_FRAMES_IDX, index_col=0)"
   ]
  },
  {
   "cell_type": "code",
   "execution_count": null,
   "metadata": {},
   "outputs": [],
   "source": [
    "# create file coordinates limits description\n",
    "def extract_coord_from_file(f):\n",
    "    filename = f.split(\".\")[0]\n",
    "    indexes = filename.split(\"_\")\n",
    "    return int(indexes[1]), int(indexes[2])\n",
    "coord_files = {f: extract_coord_from_file(f) for f in os.listdir(config.TR_DEFORESTATION)}"
   ]
  },
  {
   "cell_type": "code",
   "execution_count": null,
   "metadata": {},
   "outputs": [],
   "source": [
    "xmin = 100\n",
    "xmax = 130\n",
    "ymin = 100\n",
    "ymax = 130\n",
    "\n",
    "# get indexes of frames inside limits\n",
    "in_limit_idx = frames_idx[\n",
    "            (frames_idx[\"x\"] >= xmin) &\n",
    "            (frames_idx[\"x\"] < xmax) &\n",
    "            (frames_idx[\"y\"] >= ymin) &\n",
    "            (frames_idx[\"y\"] < ymax)\n",
    "        ]\n",
    "# get frames inside limites\n",
    "in_limit_frames = frames[\n",
    "    frames[\"frame_id\"].isin(\n",
    "        in_limit_idx.index\n",
    "    )\n",
    "]\n",
    "# read from files that represent regions inside limits\n",
    "in_limit_files = [\n",
    "    f for (f, (x, y))\n",
    "    in coord_files.items()\n",
    "    if \n",
    "        (x <= xmax) & \\\n",
    "        (x > xmin) &\\\n",
    "        (y <= ymax) &\\\n",
    "        (y > ymin)\n",
    "]\n",
    "print(in_limit_files)\n",
    "full_history = []\n",
    "for filename in in_limit_files:\n",
    "    with open(os.path.join(config.TR_DEFORESTATION, filename), \"rb\") as file:\n",
    "        full_history.append(pickle.load(file))\n",
    "\n",
    "# create limits history grid\n",
    "grid = np.zeros((xmax-xmin, ymax-ymin))\n",
    "grid_history = np.array([grid.copy() for _ in full_history[0]])\n",
    "for t, regions in enumerate(zip(*full_history)):\n",
    "    for region in regions:\n",
    "        in_limit_region = region[\n",
    "            region[\"frame_id\"].isin(\n",
    "                in_limit_frames[\"frame_id\"].values\n",
    "            )\n",
    "        ]\n",
    "\n",
    "        grid_history[t, :, :] += (\n",
    "            pd.Series(0, index=in_limit_idx.index) +\\\n",
    "            in_limit_region.set_index(\"frame_id\")[\"area\"]\n",
    "        ).fillna(0).values.reshape(grid.shape)"
   ]
  },
  {
   "cell_type": "code",
   "execution_count": null,
   "metadata": {},
   "outputs": [],
   "source": [
    "fig, ax = plt.subplots()\n",
    "frames.boundary.plot(ax=ax, linewidth=0.1)\n",
    "in_limit_frames.plot(ax=ax, color=\"red\")\n",
    "plt.show()"
   ]
  },
  {
   "cell_type": "code",
   "execution_count": null,
   "metadata": {},
   "outputs": [],
   "source": [
    "grid_history.shape"
   ]
  },
  {
   "cell_type": "code",
   "execution_count": null,
   "metadata": {},
   "outputs": [],
   "source": [
    "# reshape to add channel\n",
    "deforestation_history = grid_history.reshape((1, 74, 30, 30))\n",
    "deforestation_history.shape"
   ]
  },
  {
   "cell_type": "code",
   "execution_count": null,
   "metadata": {},
   "outputs": [],
   "source": [
    "class CustomDataset(Dataset):\n",
    "    def __init__(self, X):\n",
    "        super(CustomDataset, self).__init__()\n",
    "        \n",
    "        self.X = X[:, :-1, :, :]\n",
    "        self.Y = X[:,  1:, :, :]\n",
    "\n",
    "    def __len__(self):\n",
    "        return self.X.shape[1]\n",
    "\n",
    "    def __getitem__(self, index):\n",
    "        data = torch.tensor(self.X[:, index, :, :]).float()\n",
    "        labels = torch.tensor(self.Y[:, index, :, :]).float()\n",
    "        return data, labels"
   ]
  },
  {
   "cell_type": "code",
   "execution_count": null,
   "metadata": {},
   "outputs": [],
   "source": [
    "train_data = deforestation_history[:, :-24, :, :]\n",
    "test_data = deforestation_history[:, -24:, :, :]"
   ]
  },
  {
   "cell_type": "code",
   "execution_count": null,
   "metadata": {},
   "outputs": [],
   "source": [
    "train_data.shape, test_data.shape"
   ]
  },
  {
   "cell_type": "code",
   "execution_count": null,
   "metadata": {},
   "outputs": [],
   "source": [
    "trainloader = torch.utils.data.DataLoader(\n",
    "    CustomDataset(train_data),\n",
    "    batch_size=1,\n",
    "    shuffle=False\n",
    ")\n",
    "\n",
    "testloader = torch.utils.data.DataLoader(\n",
    "    CustomDataset(test_data),\n",
    "    batch_size=1,\n",
    "    shuffle=False\n",
    ")"
   ]
  },
  {
   "cell_type": "markdown",
   "metadata": {},
   "source": [
    "# Modelo baseline"
   ]
  },
  {
   "cell_type": "code",
   "execution_count": null,
   "metadata": {},
   "outputs": [],
   "source": [
    "# baseline\n",
    "base_train_err = 0\n",
    "for inputs, labels in trainloader:\n",
    "    y_pred = inputs\n",
    "    base_train_err += torch.square(y_pred - labels).float().sum()\n",
    "base_train_err = base_train_err**0.5 / len(trainloader)\n",
    "    \n",
    "base_test_err = 0\n",
    "for inputs, labels in testloader:\n",
    "    y_pred = inputs\n",
    "    base_test_err += torch.square(y_pred - labels).float().sum()\n",
    "base_test_err = base_test_err**0.5 / len(testloader)\n",
    "\n",
    "print(f\"Baseline: Train Error = {base_train_err:.6f} | Test Error = {base_test_err:.6f}\")"
   ]
  },
  {
   "cell_type": "markdown",
   "metadata": {},
   "source": [
    "O erro de teste no modelo baseline é maior"
   ]
  },
  {
   "cell_type": "code",
   "execution_count": null,
   "metadata": {},
   "outputs": [],
   "source": [
    "import torch\n",
    "import torch.nn as nn\n",
    "import torch.optim as optim\n",
    "import torchvision\n",
    "\n",
    " \n",
    "class BasicConvModel(nn.Module):\n",
    "    def __init__(self):\n",
    "        super().__init__()\n",
    "        self.epoch = 0\n",
    "        self.errs = []\n",
    "        self.conv1 = nn.Conv2d(1, 64, kernel_size=(5,5), stride=1, padding=2)\n",
    "        self.act1 = nn.ReLU()\n",
    " \n",
    "        self.conv2 = nn.Conv2d(64, 64, kernel_size=(5,5), stride=1, padding=2)\n",
    "        self.act2 = nn.ReLU()\n",
    " \n",
    "        self.conv3 = nn.Conv2d(64, 1, kernel_size=(5,5), stride=1, padding=2)\n",
    " \n",
    "    def forward(self, x):\n",
    "        y = self.act1(self.conv1(x))\n",
    "        y = self.act2(self.conv2(y))\n",
    "        y = self.conv3(y)\n",
    "        return x+y"
   ]
  },
  {
   "cell_type": "code",
   "execution_count": null,
   "metadata": {},
   "outputs": [],
   "source": [
    "model = BasicConvModel()\n",
    "optimizer = optim.SGD(model.parameters(), lr=1e-1, momentum=0.9)\n",
    "\n",
    "errs = []\n",
    "\n",
    "def train(n_epochs):\n",
    "    for epoch in range(n_epochs):\n",
    "        model.epoch += 1\n",
    "        for inputs, labels in trainloader:\n",
    "            y_pred = model(inputs)\n",
    "            loss = torch.square(y_pred - labels).mean()\n",
    "            optimizer.zero_grad()\n",
    "            loss.backward()\n",
    "            optimizer.step()\n",
    "\n",
    "        train_err = 0\n",
    "        for inputs, labels in trainloader:\n",
    "            y_pred = model(inputs)\n",
    "            train_err += torch.square(y_pred - labels).float().sum()\n",
    "        train_err = train_err**0.5 / len(trainloader)\n",
    "            \n",
    "        test_err = 0\n",
    "        for inputs, labels in testloader:\n",
    "            y_pred = model(inputs)\n",
    "            test_err += torch.square(y_pred - labels).float().sum()\n",
    "        test_err = test_err**0.5 / len(testloader)\n",
    "        model.errs.append([train_err, test_err])\n",
    "\n",
    "        print(f\"Epoch {model.epoch}: Train Error = {train_err:.6f} | Test Error = {test_err:.6f}\")\n",
    "\n",
    "train(10)"
   ]
  },
  {
   "cell_type": "code",
   "execution_count": null,
   "metadata": {},
   "outputs": [],
   "source": [
    "train(30)"
   ]
  },
  {
   "cell_type": "markdown",
   "metadata": {},
   "source": [
    "Ganhamos do baseline?"
   ]
  },
  {
   "cell_type": "code",
   "execution_count": null,
   "metadata": {},
   "outputs": [],
   "source": [
    "(\n",
    "    float(model.errs[-1][0] - base_train_err), \n",
    "    float(model.errs[-1][1] - base_test_err)\n",
    ")"
   ]
  },
  {
   "cell_type": "code",
   "execution_count": null,
   "metadata": {},
   "outputs": [],
   "source": [
    "import matplotlib.pyplot as plt\n",
    "\n",
    "plt.plot([float(e[0]) for e in model.errs])\n",
    "plt.plot([float(e[1]) for e in model.errs])\n",
    "plt.show()"
   ]
  },
  {
   "cell_type": "code",
   "execution_count": null,
   "metadata": {},
   "outputs": [],
   "source": []
  }
 ],
 "metadata": {
  "kernelspec": {
   "display_name": "venv_dl2cv",
   "language": "python",
   "name": "python3"
  },
  "language_info": {
   "codemirror_mode": {
    "name": "ipython",
    "version": 3
   },
   "file_extension": ".py",
   "mimetype": "text/x-python",
   "name": "python",
   "nbconvert_exporter": "python",
   "pygments_lexer": "ipython3",
   "version": "3.11.4"
  },
  "orig_nbformat": 4
 },
 "nbformat": 4,
 "nbformat_minor": 2
}
