{
 "cells": [
  {
   "cell_type": "code",
   "execution_count": 4,
   "metadata": {},
   "outputs": [],
   "source": [
    "import pickle\n",
    "import numpy as np\n",
    "\n",
    "import config"
   ]
  },
  {
   "cell_type": "code",
   "execution_count": 6,
   "metadata": {},
   "outputs": [],
   "source": [
    "import torch\n",
    "from torch.utils.data import Dataset"
   ]
  },
  {
   "cell_type": "code",
   "execution_count": 126,
   "metadata": {},
   "outputs": [
    {
     "data": {
      "text/plain": [
       "(113, 113, 74)"
      ]
     },
     "execution_count": 126,
     "metadata": {},
     "output_type": "execute_result"
    }
   ],
   "source": [
    "# read deforestation data\n",
    "deforestation_history = pickle.load(open(config.TR_DEFORESTATION, \"rb\"))\n",
    "deforestation_history.shape"
   ]
  },
  {
   "cell_type": "code",
   "execution_count": 127,
   "metadata": {},
   "outputs": [],
   "source": [
    "# normalize\n",
    "deforestation_history = (deforestation_history - 0.5)*2"
   ]
  },
  {
   "cell_type": "code",
   "execution_count": 128,
   "metadata": {},
   "outputs": [
    {
     "data": {
      "text/plain": [
       "(1, 113, 113, 74)"
      ]
     },
     "execution_count": 128,
     "metadata": {},
     "output_type": "execute_result"
    }
   ],
   "source": [
    "# reshape to add channel\n",
    "deforestation_history = H.reshape((1, 113, 113, 74))\n",
    "deforestation_history.shape"
   ]
  },
  {
   "cell_type": "code",
   "execution_count": 134,
   "metadata": {},
   "outputs": [],
   "source": [
    "class CustomDataset(Dataset):\n",
    "    def __init__(self, X):\n",
    "        super(CustomDataset, self).__init__()\n",
    "        \n",
    "        self.X = X[:, :, :, :-1]\n",
    "        self.Y = X[:, :, :, 1:]\n",
    "\n",
    "    def __len__(self):\n",
    "        return self.X.shape[-1]\n",
    "\n",
    "    def __getitem__(self, index):\n",
    "        data = torch.tensor(self.X[:, :, :, index]).float()\n",
    "        labels = torch.tensor(self.Y[:, :, :, index]).float()\n",
    "        return data, labels"
   ]
  },
  {
   "cell_type": "code",
   "execution_count": 190,
   "metadata": {},
   "outputs": [],
   "source": [
    "train_data = deforestation_history[:, :, :, 18:-12]\n",
    "test_data = deforestation_history[:, :, :, -13:]"
   ]
  },
  {
   "cell_type": "code",
   "execution_count": 198,
   "metadata": {},
   "outputs": [
    {
     "data": {
      "text/plain": [
       "((1, 113, 113, 44), (1, 113, 113, 13))"
      ]
     },
     "execution_count": 198,
     "metadata": {},
     "output_type": "execute_result"
    }
   ],
   "source": [
    "train_data.shape, test_data.shape"
   ]
  },
  {
   "cell_type": "code",
   "execution_count": 199,
   "metadata": {},
   "outputs": [],
   "source": [
    "trainloader = torch.utils.data.DataLoader(\n",
    "    CustomDataset(train_data),\n",
    "    batch_size=1,\n",
    "    shuffle=False\n",
    ")\n",
    "\n",
    "testloader = torch.utils.data.DataLoader(\n",
    "    CustomDataset(test_data),\n",
    "    batch_size=1,\n",
    "    shuffle=False\n",
    ")"
   ]
  },
  {
   "cell_type": "code",
   "execution_count": 200,
   "metadata": {},
   "outputs": [
    {
     "name": "stdout",
     "output_type": "stream",
     "text": [
      "Baseline: Train Error = 0.000564 | Test Error = 0.001199\n"
     ]
    }
   ],
   "source": [
    "# baseline\n",
    "train_err = 0\n",
    "for inputs, labels in trainloader:\n",
    "    y_pred = inputs\n",
    "    train_err += torch.square(y_pred - labels).float().mean()\n",
    "train_err /= len(trainloader)\n",
    "    \n",
    "test_err = 0\n",
    "for inputs, labels in testloader:\n",
    "    y_pred = inputs\n",
    "    test_err += torch.square(y_pred - labels).float().mean()\n",
    "test_err /= len(testloader)\n",
    "\n",
    "print(f\"Baseline: Train Error = {train_err:.6f} | Test Error = {test_err:.6f}\")"
   ]
  },
  {
   "cell_type": "code",
   "execution_count": 263,
   "metadata": {},
   "outputs": [],
   "source": [
    "import torch\n",
    "import torch.nn as nn\n",
    "import torch.optim as optim\n",
    "import torchvision\n",
    "\n",
    " \n",
    "class BasicConvModel(nn.Module):\n",
    "    def __init__(self):\n",
    "        super().__init__()\n",
    "        self.epoch = 0\n",
    "        self.errs = []\n",
    "        self.conv1 = nn.Conv2d(1, 64, kernel_size=(5,5), stride=1, padding=2)\n",
    "        self.act1 = nn.ReLU()\n",
    " \n",
    "        self.conv2 = nn.Conv2d(64, 64, kernel_size=(5,5), stride=1, padding=2)\n",
    "        self.act2 = nn.ReLU()\n",
    " \n",
    "        self.conv3 = nn.Conv2d(64, 1, kernel_size=(5,5), stride=1, padding=2)\n",
    " \n",
    "    def forward(self, x):\n",
    "        x = self.act1(self.conv1(x))\n",
    "        x = self.act2(self.conv2(x))\n",
    "        x = self.conv3(x)\n",
    "        return x"
   ]
  },
  {
   "cell_type": "code",
   "execution_count": 264,
   "metadata": {},
   "outputs": [
    {
     "name": "stdout",
     "output_type": "stream",
     "text": [
      "Epoch 1: Train Error = 0.034774 | Test Error = 0.039593\n",
      "Epoch 2: Train Error = 0.010356 | Test Error = 0.012005\n",
      "Epoch 3: Train Error = 0.005583 | Test Error = 0.006582\n",
      "Epoch 4: Train Error = 0.004376 | Test Error = 0.005275\n",
      "Epoch 5: Train Error = 0.003939 | Test Error = 0.004818\n",
      "Epoch 6: Train Error = 0.003621 | Test Error = 0.004488\n",
      "Epoch 7: Train Error = 0.003377 | Test Error = 0.004236\n",
      "Epoch 8: Train Error = 0.003161 | Test Error = 0.004013\n",
      "Epoch 9: Train Error = 0.002947 | Test Error = 0.003792\n",
      "Epoch 10: Train Error = 0.002759 | Test Error = 0.003597\n"
     ]
    }
   ],
   "source": [
    "model = BasicConvModel()\n",
    "optimizer = optim.SGD(model.parameters(), lr=0.01, momentum=0.9)\n",
    "\n",
    "errs = []\n",
    "\n",
    "def train(n_epochs):\n",
    "    for epoch in range(n_epochs):\n",
    "        model.epoch += 1\n",
    "        for inputs, labels in trainloader:\n",
    "            y_pred = model(inputs)\n",
    "            loss = torch.square(y_pred - labels).mean()\n",
    "            optimizer.zero_grad()\n",
    "            loss.backward()\n",
    "            optimizer.step()\n",
    "\n",
    "        train_err = 0\n",
    "        for inputs, labels in trainloader:\n",
    "            y_pred = model(inputs)\n",
    "            train_err += torch.square(y_pred - labels).float().mean()\n",
    "        train_err /= len(trainloader)\n",
    "            \n",
    "        test_err = 0\n",
    "        for inputs, labels in testloader:\n",
    "            y_pred = model(inputs)\n",
    "            test_err += torch.square(y_pred - labels).float().mean()\n",
    "        test_err /= len(testloader)\n",
    "        model.errs.append([train_err, test_err])\n",
    "\n",
    "        print(f\"Epoch {model.epoch}: Train Error = {train_err:.6f} | Test Error = {test_err:.6f}\")\n",
    "\n",
    "train(10)"
   ]
  },
  {
   "cell_type": "code",
   "execution_count": 265,
   "metadata": {},
   "outputs": [
    {
     "name": "stdout",
     "output_type": "stream",
     "text": [
      "Epoch 11: Train Error = 0.002617 | Test Error = 0.003450\n",
      "Epoch 12: Train Error = 0.002513 | Test Error = 0.003343\n",
      "Epoch 13: Train Error = 0.002431 | Test Error = 0.003260\n",
      "Epoch 14: Train Error = 0.002363 | Test Error = 0.003190\n",
      "Epoch 15: Train Error = 0.002303 | Test Error = 0.003129\n",
      "Epoch 16: Train Error = 0.002249 | Test Error = 0.003073\n",
      "Epoch 17: Train Error = 0.002200 | Test Error = 0.003023\n",
      "Epoch 18: Train Error = 0.002156 | Test Error = 0.002977\n",
      "Epoch 19: Train Error = 0.002115 | Test Error = 0.002935\n",
      "Epoch 20: Train Error = 0.002077 | Test Error = 0.002896\n",
      "Epoch 21: Train Error = 0.002042 | Test Error = 0.002861\n",
      "Epoch 22: Train Error = 0.002010 | Test Error = 0.002827\n",
      "Epoch 23: Train Error = 0.001980 | Test Error = 0.002797\n",
      "Epoch 24: Train Error = 0.001953 | Test Error = 0.002769\n",
      "Epoch 25: Train Error = 0.001928 | Test Error = 0.002743\n",
      "Epoch 26: Train Error = 0.001905 | Test Error = 0.002720\n",
      "Epoch 27: Train Error = 0.001884 | Test Error = 0.002698\n",
      "Epoch 28: Train Error = 0.001864 | Test Error = 0.002679\n",
      "Epoch 29: Train Error = 0.001847 | Test Error = 0.002661\n",
      "Epoch 30: Train Error = 0.001832 | Test Error = 0.002646\n",
      "Epoch 31: Train Error = 0.001818 | Test Error = 0.002632\n",
      "Epoch 32: Train Error = 0.001807 | Test Error = 0.002620\n",
      "Epoch 33: Train Error = 0.001798 | Test Error = 0.002611\n",
      "Epoch 34: Train Error = 0.001791 | Test Error = 0.002604\n",
      "Epoch 35: Train Error = 0.001785 | Test Error = 0.002598\n",
      "Epoch 36: Train Error = 0.001780 | Test Error = 0.002593\n",
      "Epoch 37: Train Error = 0.001776 | Test Error = 0.002590\n",
      "Epoch 38: Train Error = 0.001773 | Test Error = 0.002586\n",
      "Epoch 39: Train Error = 0.001769 | Test Error = 0.002583\n",
      "Epoch 40: Train Error = 0.001765 | Test Error = 0.002578\n"
     ]
    }
   ],
   "source": [
    "train(30)"
   ]
  },
  {
   "cell_type": "code",
   "execution_count": 256,
   "metadata": {},
   "outputs": [
    {
     "data": {
      "image/png": "[encoded data removed]",
      "text/plain": [
       "<Figure size 640x480 with 1 Axes>"
      ]
     },
     "metadata": {},
     "output_type": "display_data"
    }
   ],
   "source": [
    "import matplotlib.pyplot as plt\n",
    "\n",
    "plt.plot([float(e[0]) for e in model.errs])\n",
    "plt.plot([float(e[1]) for e in model.errs])\n",
    "plt.show()"
   ]
  },
  {
   "cell_type": "code",
   "execution_count": null,
   "metadata": {},
   "outputs": [],
   "source": []
  }
 ],
 "metadata": {
  "kernelspec": {
   "display_name": "venv_dl2cv",
   "language": "python",
   "name": "python3"
  },
  "language_info": {
   "codemirror_mode": {
    "name": "ipython",
    "version": 3
   },
   "file_extension": ".py",
   "mimetype": "text/x-python",
   "name": "python",
   "nbconvert_exporter": "python",
   "pygments_lexer": "ipython3",
   "version": "3.11.4"
  },
  "orig_nbformat": 4
 },
 "nbformat": 4,
 "nbformat_minor": 2
}
