{
 "cells": [
  {
   "cell_type": "markdown",
   "metadata": {},
   "source": [
    "Notebook for read and wrangle of counties data"
   ]
  },
  {
   "cell_type": "markdown",
   "metadata": {},
   "source": [
    "# Prepare environment"
   ]
  },
  {
   "cell_type": "code",
   "execution_count": 1,
   "metadata": {},
   "outputs": [],
   "source": [
    "import os\n",
    "import numpy as np\n",
    "import pandas as pd\n",
    "import geopandas as gpd"
   ]
  },
  {
   "cell_type": "code",
   "execution_count": 2,
   "metadata": {},
   "outputs": [],
   "source": [
    "import config\n",
    "from utils import compute_frames\n",
    "\n",
    "import warnings\n",
    "warnings.filterwarnings('ignore')"
   ]
  },
  {
   "cell_type": "markdown",
   "metadata": {},
   "source": [
    "# Data reading"
   ]
  },
  {
   "cell_type": "code",
   "execution_count": 3,
   "metadata": {},
   "outputs": [],
   "source": [
    "# load legal amazon limits\n",
    "am_bounds = gpd.read_file(config.AMAZON_FRONTIER_DATA)"
   ]
  },
  {
   "cell_type": "code",
   "execution_count": 4,
   "metadata": {},
   "outputs": [],
   "source": [
    "# load frames idx detail\n",
    "frames_idx = pd.read_csv(config.TR_FRAMES_IDX, index_col=0)"
   ]
  },
  {
   "cell_type": "code",
   "execution_count": 5,
   "metadata": {},
   "outputs": [],
   "source": [
    "# load frames deforestation area history\n",
    "deforestation = pd.read_csv(config.TR_DEFORESTATION, index_col=0)\n",
    "deforestation[\"quarter_date\"] = pd.to_datetime(deforestation[\"quarter_date\"])"
   ]
  },
  {
   "cell_type": "code",
   "execution_count": 6,
   "metadata": {},
   "outputs": [],
   "source": [
    "# counties data\n",
    "counties = gpd.read_file(config.COUNTIES_DATA)\n",
    "\n",
    "# filter counties thta intersects with amazon borders\n",
    "counties = counties[counties.intersects(am_bounds[\"geometry\"].item())].copy()"
   ]
  },
  {
   "cell_type": "markdown",
   "metadata": {},
   "source": [
    "## Merge county with frame and extract data"
   ]
  },
  {
   "cell_type": "code",
   "execution_count": 7,
   "metadata": {},
   "outputs": [],
   "source": [
    "# generate all frames\n",
    "frames = compute_frames(\n",
    "    am_bounds.total_bounds, \n",
    "    config.BOX_SIDE, \n",
    "    frames_idx[\"x\"].min(), \n",
    "    frames_idx[\"x\"].max(), \n",
    "    frames_idx[\"y\"].min(), \n",
    "    frames_idx[\"y\"].max()\n",
    ")"
   ]
  },
  {
   "cell_type": "code",
   "execution_count": 8,
   "metadata": {},
   "outputs": [
    {
     "data": {
      "text/plain": [
       "(777777, 4)"
      ]
     },
     "execution_count": 8,
     "metadata": {},
     "output_type": "execute_result"
    }
   ],
   "source": [
    "frames.shape"
   ]
  },
  {
   "cell_type": "code",
   "execution_count": 9,
   "metadata": {},
   "outputs": [],
   "source": [
    "# get county for each frame\n",
    "region = gpd.overlay(\n",
    "    frames,\n",
    "    counties[[\"CD_MUN\", \"SIGLA_UF\", \"populacao\", \"densidade\", \"geometry\"]],\n",
    "    how=\"intersection\", \n",
    "    keep_geom_type=False\n",
    ")\n",
    "region[\"aprox_ar\"] = region.geometry.area\n",
    "\n",
    "# keep only biggest intersection by frame id\n",
    "region = region.\\\n",
    "    sort_values(\"aprox_ar\", ascending=False).\\\n",
    "    drop_duplicates(subset=\"frame_id\", keep=\"first\")\\\n",
    "    [[\"frame_id\", \"CD_MUN\", \"populacao\", \"densidade\"]].\\\n",
    "    rename(columns={\"CD_MUN\": \"county_id\"}).\\\n",
    "    reset_index(drop=True)"
   ]
  },
  {
   "cell_type": "code",
   "execution_count": 10,
   "metadata": {},
   "outputs": [],
   "source": [
    "# get deforestation history for each county\n",
    "df = pd.merge(\n",
    "    region,\n",
    "    deforestation,\n",
    "    on=\"frame_id\",\n",
    "    how=\"left\",\n",
    "    validate=\"1:m\"\n",
    ")\n",
    "county_defor = df.groupby([\"county_id\", \"quarter_date\"])[\"area\"].sum().reset_index()"
   ]
  },
  {
   "cell_type": "code",
   "execution_count": 12,
   "metadata": {},
   "outputs": [],
   "source": [
    "# save frames county data\n",
    "region.to_csv(config.TR_COUNTIES)\n",
    "\n",
    "# save counties deforestation history\n",
    "county_defor.to_csv(config.TR_COUNTIES_DEFOR)"
   ]
  }
 ],
 "metadata": {
  "kernelspec": {
   "display_name": "Python 3 (ipykernel)",
   "language": "python",
   "name": "python3"
  },
  "language_info": {
   "codemirror_mode": {
    "name": "ipython",
    "version": 3
   },
   "file_extension": ".py",
   "mimetype": "text/x-python",
   "name": "python",
   "nbconvert_exporter": "python",
   "pygments_lexer": "ipython3",
   "version": "3.11.4"
  }
 },
 "nbformat": 4,
 "nbformat_minor": 4
}
