{
 "cells": [
  {
   "cell_type": "markdown",
   "metadata": {},
   "source": [
    "Notebook for read and wrangle of counties data"
   ]
  },
  {
   "cell_type": "markdown",
   "metadata": {},
   "source": [
    "# Prepare environment"
   ]
  },
  {
   "cell_type": "code",
   "execution_count": 1,
   "metadata": {},
   "outputs": [],
   "source": [
    "import os\n",
    "import numpy as np\n",
    "import pandas as pd\n",
    "import geopandas as gpd"
   ]
  },
  {
   "cell_type": "code",
   "execution_count": 2,
   "metadata": {},
   "outputs": [],
   "source": [
    "import config\n",
    "from utils import compute_frames\n",
    "\n",
    "import warnings\n",
    "warnings.filterwarnings('ignore')"
   ]
  },
  {
   "cell_type": "markdown",
   "metadata": {},
   "source": [
    "# Data reading"
   ]
  },
  {
   "cell_type": "code",
   "execution_count": 3,
   "metadata": {},
   "outputs": [],
   "source": [
    "# load legal amazon limits\n",
    "am_bounds = gpd.read_file(config.AMAZON_FRONTIER_DATA)"
   ]
  },
  {
   "cell_type": "code",
   "execution_count": 4,
   "metadata": {},
   "outputs": [],
   "source": [
    "# load frames idx detail\n",
    "frames_idx = pd.read_csv(config.TR_FRAMES_IDX, index_col=0)"
   ]
  },
  {
   "cell_type": "code",
   "execution_count": 5,
   "metadata": {},
   "outputs": [],
   "source": [
    "# load frames deforestation area history\n",
    "deforestation = pd.read_csv(config.TR_DEFORESTATION, index_col=0)\n",
    "deforestation[\"quarter_date\"] = pd.to_datetime(deforestation[\"quarter_date\"])"
   ]
  },
  {
   "cell_type": "code",
   "execution_count": 6,
   "metadata": {},
   "outputs": [],
   "source": [
    "# counties data\n",
    "counties = gpd.read_file(config.COUNTIES_DATA)\n",
    "\n",
    "# filter counties thta intersects with amazon borders\n",
    "counties = counties[counties.intersects(am_bounds[\"geometry\"].item())].copy()"
   ]
  },
  {
   "cell_type": "code",
   "execution_count": 7,
   "metadata": {},
   "outputs": [
    {
     "data": {
      "text/html": [
       "<div>\n",
       "<style scoped>\n",
       "    .dataframe tbody tr th:only-of-type {\n",
       "        vertical-align: middle;\n",
       "    }\n",
       "\n",
       "    .dataframe tbody tr th {\n",
       "        vertical-align: top;\n",
       "    }\n",
       "\n",
       "    .dataframe thead th {\n",
       "        text-align: right;\n",
       "    }\n",
       "</style>\n",
       "<table border=\"1\" class=\"dataframe\">\n",
       "  <thead>\n",
       "    <tr style=\"text-align: right;\">\n",
       "      <th></th>\n",
       "      <th>CD_MUN</th>\n",
       "      <th>NM_MUN</th>\n",
       "      <th>SIGLA_UF</th>\n",
       "      <th>AREA_KM2</th>\n",
       "      <th>populacao</th>\n",
       "      <th>densidade</th>\n",
       "      <th>geometry</th>\n",
       "    </tr>\n",
       "  </thead>\n",
       "  <tbody>\n",
       "    <tr>\n",
       "      <th>0</th>\n",
       "      <td>1100015</td>\n",
       "      <td>Alta Floresta D'Oeste</td>\n",
       "      <td>RO</td>\n",
       "      <td>7067.127</td>\n",
       "      <td>22516.0</td>\n",
       "      <td>3.186</td>\n",
       "      <td>POLYGON ((-62.00806 -12.13379, -62.00784 -12.2...</td>\n",
       "    </tr>\n",
       "    <tr>\n",
       "      <th>1</th>\n",
       "      <td>1100023</td>\n",
       "      <td>Ariquemes</td>\n",
       "      <td>RO</td>\n",
       "      <td>4426.571</td>\n",
       "      <td>111148.0</td>\n",
       "      <td>25.109</td>\n",
       "      <td>POLYGON ((-63.17933 -10.13924, -63.17746 -10.1...</td>\n",
       "    </tr>\n",
       "    <tr>\n",
       "      <th>2</th>\n",
       "      <td>1100031</td>\n",
       "      <td>Cabixi</td>\n",
       "      <td>RO</td>\n",
       "      <td>1314.352</td>\n",
       "      <td>5067.0</td>\n",
       "      <td>3.855</td>\n",
       "      <td>POLYGON ((-60.52408 -13.32137, -60.37162 -13.3...</td>\n",
       "    </tr>\n",
       "    <tr>\n",
       "      <th>3</th>\n",
       "      <td>1100049</td>\n",
       "      <td>Cacoal</td>\n",
       "      <td>RO</td>\n",
       "      <td>3793.000</td>\n",
       "      <td>86416.0</td>\n",
       "      <td>22.783</td>\n",
       "      <td>POLYGON ((-61.35502 -11.50452, -61.35524 -11.5...</td>\n",
       "    </tr>\n",
       "    <tr>\n",
       "      <th>4</th>\n",
       "      <td>1100056</td>\n",
       "      <td>Cerejeiras</td>\n",
       "      <td>RO</td>\n",
       "      <td>2783.300</td>\n",
       "      <td>16088.0</td>\n",
       "      <td>5.780</td>\n",
       "      <td>POLYGON ((-60.82135 -13.11910, -60.81773 -13.1...</td>\n",
       "    </tr>\n",
       "    <tr>\n",
       "      <th>...</th>\n",
       "      <td>...</td>\n",
       "      <td>...</td>\n",
       "      <td>...</td>\n",
       "      <td>...</td>\n",
       "      <td>...</td>\n",
       "      <td>...</td>\n",
       "      <td>...</td>\n",
       "    </tr>\n",
       "    <tr>\n",
       "      <th>5485</th>\n",
       "      <td>5214838</td>\n",
       "      <td>Nova Crixás</td>\n",
       "      <td>GO</td>\n",
       "      <td>7308.681</td>\n",
       "      <td>13020.0</td>\n",
       "      <td>1.781</td>\n",
       "      <td>POLYGON ((-50.52083 -14.64909, -50.52161 -14.6...</td>\n",
       "    </tr>\n",
       "    <tr>\n",
       "      <th>5492</th>\n",
       "      <td>5215256</td>\n",
       "      <td>Novo Planalto</td>\n",
       "      <td>GO</td>\n",
       "      <td>1254.491</td>\n",
       "      <td>4592.0</td>\n",
       "      <td>3.660</td>\n",
       "      <td>POLYGON ((-49.42668 -13.24021, -49.37201 -13.2...</td>\n",
       "    </tr>\n",
       "    <tr>\n",
       "      <th>5513</th>\n",
       "      <td>5218003</td>\n",
       "      <td>Porangatu</td>\n",
       "      <td>GO</td>\n",
       "      <td>4825.287</td>\n",
       "      <td>45866.0</td>\n",
       "      <td>9.505</td>\n",
       "      <td>POLYGON ((-48.95950 -13.34251, -48.95937 -13.3...</td>\n",
       "    </tr>\n",
       "    <tr>\n",
       "      <th>5530</th>\n",
       "      <td>5219407</td>\n",
       "      <td>Santa Rita do Araguaia</td>\n",
       "      <td>GO</td>\n",
       "      <td>1357.197</td>\n",
       "      <td>9110.0</td>\n",
       "      <td>6.712</td>\n",
       "      <td>POLYGON ((-53.20498 -17.33472, -53.20500 -17.3...</td>\n",
       "    </tr>\n",
       "    <tr>\n",
       "      <th>5544</th>\n",
       "      <td>5220207</td>\n",
       "      <td>São Miguel do Araguaia</td>\n",
       "      <td>GO</td>\n",
       "      <td>6150.179</td>\n",
       "      <td>21849.0</td>\n",
       "      <td>3.553</td>\n",
       "      <td>POLYGON ((-50.14783 -12.90236, -50.14769 -12.9...</td>\n",
       "    </tr>\n",
       "  </tbody>\n",
       "</table>\n",
       "<p>807 rows × 7 columns</p>\n",
       "</div>"
      ],
      "text/plain": [
       "       CD_MUN                  NM_MUN SIGLA_UF  AREA_KM2  populacao  \\\n",
       "0     1100015   Alta Floresta D'Oeste       RO  7067.127    22516.0   \n",
       "1     1100023               Ariquemes       RO  4426.571   111148.0   \n",
       "2     1100031                  Cabixi       RO  1314.352     5067.0   \n",
       "3     1100049                  Cacoal       RO  3793.000    86416.0   \n",
       "4     1100056              Cerejeiras       RO  2783.300    16088.0   \n",
       "...       ...                     ...      ...       ...        ...   \n",
       "5485  5214838             Nova Crixás       GO  7308.681    13020.0   \n",
       "5492  5215256           Novo Planalto       GO  1254.491     4592.0   \n",
       "5513  5218003               Porangatu       GO  4825.287    45866.0   \n",
       "5530  5219407  Santa Rita do Araguaia       GO  1357.197     9110.0   \n",
       "5544  5220207  São Miguel do Araguaia       GO  6150.179    21849.0   \n",
       "\n",
       "      densidade                                           geometry  \n",
       "0         3.186  POLYGON ((-62.00806 -12.13379, -62.00784 -12.2...  \n",
       "1        25.109  POLYGON ((-63.17933 -10.13924, -63.17746 -10.1...  \n",
       "2         3.855  POLYGON ((-60.52408 -13.32137, -60.37162 -13.3...  \n",
       "3        22.783  POLYGON ((-61.35502 -11.50452, -61.35524 -11.5...  \n",
       "4         5.780  POLYGON ((-60.82135 -13.11910, -60.81773 -13.1...  \n",
       "...         ...                                                ...  \n",
       "5485      1.781  POLYGON ((-50.52083 -14.64909, -50.52161 -14.6...  \n",
       "5492      3.660  POLYGON ((-49.42668 -13.24021, -49.37201 -13.2...  \n",
       "5513      9.505  POLYGON ((-48.95950 -13.34251, -48.95937 -13.3...  \n",
       "5530      6.712  POLYGON ((-53.20498 -17.33472, -53.20500 -17.3...  \n",
       "5544      3.553  POLYGON ((-50.14783 -12.90236, -50.14769 -12.9...  \n",
       "\n",
       "[807 rows x 7 columns]"
      ]
     },
     "execution_count": 7,
     "metadata": {},
     "output_type": "execute_result"
    }
   ],
   "source": [
    "counties"
   ]
  },
  {
   "cell_type": "markdown",
   "metadata": {},
   "source": [
    "## Merge county with frame and extract data"
   ]
  },
  {
   "cell_type": "code",
   "execution_count": 7,
   "metadata": {},
   "outputs": [],
   "source": [
    "# generate all frames\n",
    "frames = compute_frames(\n",
    "    am_bounds.total_bounds, \n",
    "    config.BOX_SIDE, \n",
    "    frames_idx[\"x\"].min(), \n",
    "    frames_idx[\"x\"].max(), \n",
    "    frames_idx[\"y\"].min(), \n",
    "    frames_idx[\"y\"].max()\n",
    ")"
   ]
  },
  {
   "cell_type": "code",
   "execution_count": 8,
   "metadata": {},
   "outputs": [
    {
     "data": {
      "text/plain": [
       "(777777, 4)"
      ]
     },
     "execution_count": 8,
     "metadata": {},
     "output_type": "execute_result"
    }
   ],
   "source": [
    "frames.shape"
   ]
  },
  {
   "cell_type": "code",
   "execution_count": 9,
   "metadata": {},
   "outputs": [],
   "source": [
    "# get county for each frame\n",
    "region = gpd.overlay(\n",
    "    frames,\n",
    "    counties[[\"CD_MUN\", \"SIGLA_UF\", \"populacao\", \"densidade\", \"geometry\"]],\n",
    "    how=\"intersection\", \n",
    "    keep_geom_type=False\n",
    ")\n",
    "region[\"aprox_ar\"] = region.geometry.area\n",
    "\n",
    "# keep only biggest intersection by frame id\n",
    "region = region.\\\n",
    "    sort_values(\"aprox_ar\", ascending=False).\\\n",
    "    drop_duplicates(subset=\"frame_id\", keep=\"first\")\\\n",
    "    [[\"frame_id\", \"CD_MUN\", \"populacao\", \"densidade\"]].\\\n",
    "    rename(columns={\"CD_MUN\": \"county_id\"}).\\\n",
    "    reset_index(drop=True)"
   ]
  },
  {
   "cell_type": "code",
   "execution_count": 10,
   "metadata": {},
   "outputs": [],
   "source": [
    "# get deforestation history for each county\n",
    "df = pd.merge(\n",
    "    region,\n",
    "    deforestation,\n",
    "    on=\"frame_id\",\n",
    "    how=\"left\",\n",
    "    validate=\"1:m\"\n",
    ")\n",
    "county_defor = df.groupby([\"county_id\", \"quarter_date\"])[\"area\"].sum().reset_index()"
   ]
  },
  {
   "cell_type": "code",
   "execution_count": 12,
   "metadata": {},
   "outputs": [],
   "source": [
    "# save frames county data\n",
    "region.to_csv(config.TR_COUNTIES)\n",
    "\n",
    "# save counties deforestation history\n",
    "county_defor.to_csv(config.TR_COUNTIES_DEFOR)"
   ]
  }
 ],
 "metadata": {
  "kernelspec": {
   "display_name": "Python 3 (ipykernel)",
   "language": "python",
   "name": "python3"
  },
  "language_info": {
   "codemirror_mode": {
    "name": "ipython",
    "version": 3
   },
   "file_extension": ".py",
   "mimetype": "text/x-python",
   "name": "python",
   "nbconvert_exporter": "python",
   "pygments_lexer": "ipython3",
   "version": "3.11.4"
  }
 },
 "nbformat": 4,
 "nbformat_minor": 4
}
