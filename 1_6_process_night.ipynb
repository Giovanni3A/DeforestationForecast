{
 "cells": [
  {
   "cell_type": "markdown",
   "metadata": {},
   "source": [
    "Notebook for read and wrangle of night lights historical data"
   ]
  },
  {
   "cell_type": "markdown",
   "metadata": {},
   "source": [
    "# Prepare environment"
   ]
  },
  {
   "cell_type": "code",
   "execution_count": 1,
   "metadata": {},
   "outputs": [],
   "source": [
    "import os\n",
    "import pandas as pd\n",
    "\n",
    "import geopandas as gpd\n",
    "import rioxarray as rxr\n",
    "\n",
    "from tqdm import tqdm"
   ]
  },
  {
   "cell_type": "code",
   "execution_count": 2,
   "metadata": {},
   "outputs": [],
   "source": [
    "import config\n",
    "from utils import compute_frames\n",
    "\n",
    "import warnings\n",
    "warnings.filterwarnings('ignore')"
   ]
  },
  {
   "cell_type": "markdown",
   "metadata": {},
   "source": [
    "# Data reading"
   ]
  },
  {
   "cell_type": "code",
   "execution_count": 3,
   "metadata": {},
   "outputs": [],
   "source": [
    "# load legal amazon limits\n",
    "am_bounds = gpd.read_file(config.AMAZON_FRONTIER_DATA)"
   ]
  },
  {
   "cell_type": "code",
   "execution_count": 4,
   "metadata": {},
   "outputs": [],
   "source": [
    "# load frames idx detail\n",
    "frames_idx = pd.read_csv(config.TR_FRAMES_IDX, index_col=0)"
   ]
  },
  {
   "cell_type": "code",
   "execution_count": 5,
   "metadata": {},
   "outputs": [],
   "source": [
    "# compute all frames\n",
    "frames = compute_frames(\n",
    "    am_bounds.total_bounds, \n",
    "    config.BOX_SIDE, \n",
    "    frames_idx[\"x\"].min(), \n",
    "    frames_idx[\"x\"].max(), \n",
    "    frames_idx[\"y\"].min(), \n",
    "    frames_idx[\"y\"].max()\n",
    ")"
   ]
  },
  {
   "cell_type": "code",
   "execution_count": 6,
   "metadata": {},
   "outputs": [],
   "source": [
    "# function to compute frames light from tif file\n",
    "def join_with_frames(df: pd.DataFrame):\n",
    "    \n",
    "    # tranform into geodataframe\n",
    "    df2 = gpd.GeoDataFrame(\n",
    "        df, geometry=gpd.points_from_xy(df.x, df.y), crs=\"EPSG:4326\"\n",
    "    ).drop([\"x\", \"y\"], axis=1)\n",
    "\n",
    "    # join\n",
    "    df_frames = gpd.sjoin(df2, frames, how=\"inner\", op='within')\n",
    "    \n",
    "    return df_frames\\\n",
    "        .groupby(\"frame_id\").agg({\"light\": [\"mean\", \"max\"]})\\\n",
    "        .reset_index()"
   ]
  },
  {
   "cell_type": "code",
   "execution_count": 7,
   "metadata": {},
   "outputs": [
    {
     "name": "stderr",
     "output_type": "stream",
     "text": [
      "100%|██████████| 28/28 [08:52<00:00, 19.03s/it]\n"
     ]
    }
   ],
   "source": [
    "# compute light by quarter (file)\n",
    "timeseries = []\n",
    "for f in tqdm(os.listdir(config.NIGHT_LIGHT_DATA)):\n",
    "\n",
    "    # read file into pandas format\n",
    "    dataarray = rxr.open_rasterio(os.path.join(config.NIGHT_LIGHT_DATA, f))\n",
    "    df = dataarray[0].to_pandas()\n",
    "    df = pd.melt(df, ignore_index=False)\\\n",
    "        .reset_index()\\\n",
    "        .dropna()\\\n",
    "        .rename(columns={\"value\": \"light\"})\n",
    "    # filter out zeros\n",
    "    df = df[df[\"light\"] > 0]\n",
    "\n",
    "    # join with frames and add data\n",
    "    light_frames = join_with_frames(df)\n",
    "    light_frames[\"dt\"] = pd.to_datetime(f.split(\"_\")[1].split(\".\")[0])\n",
    "\n",
    "    # append to time varying list\n",
    "    timeseries.append(light_frames)"
   ]
  },
  {
   "cell_type": "code",
   "execution_count": 8,
   "metadata": {},
   "outputs": [],
   "source": [
    "# concat quarters\n",
    "timeseries_lights = pd.concat(timeseries)\n",
    "timeseries_lights.columns = [\"frame_id\", \"avg_light\", \"max_light\", \"dt\"]\n",
    "\n",
    "# save as csv file\n",
    "timeseries_lights.to_csv(config.TR_NIGHT_LIGHT, index=False)"
   ]
  }
 ],
 "metadata": {
  "kernelspec": {
   "display_name": "Python 3 (ipykernel)",
   "language": "python",
   "name": "python3"
  },
  "language_info": {
   "codemirror_mode": {
    "name": "ipython",
    "version": 3
   },
   "file_extension": ".py",
   "mimetype": "text/x-python",
   "name": "python",
   "nbconvert_exporter": "python",
   "pygments_lexer": "ipython3",
   "version": "3.11.5"
  }
 },
 "nbformat": 4,
 "nbformat_minor": 4
}
